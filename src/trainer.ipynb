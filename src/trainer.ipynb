{
 "cells": [
  {
   "cell_type": "markdown",
   "id": "1a8c8782",
   "metadata": {},
   "source": [
    "# Getting The Data"
   ]
  },
  {
   "cell_type": "markdown",
   "id": "44ed96cd",
   "metadata": {},
   "source": [
    "### Setup IG Session"
   ]
  },
  {
   "cell_type": "code",
   "execution_count": 9,
   "id": "fec25f21",
   "metadata": {
    "scrolled": true
   },
   "outputs": [
    {
     "name": "stdout",
     "output_type": "stream",
     "text": [
      "Requirement already satisfied: trading_ig in c:\\users\\zaimp\\anaconda3\\envs\\scalpfx\\lib\\site-packages (0.0.17)\n",
      "Requirement already satisfied: pandas in c:\\users\\zaimp\\anaconda3\\envs\\scalpfx\\lib\\site-packages (1.3.4)\n",
      "Collecting munch\n",
      "  Downloading munch-2.5.0-py2.py3-none-any.whl (10 kB)\n",
      "Collecting tenacity\n",
      "  Downloading tenacity-8.0.1-py3-none-any.whl (24 kB)\n",
      "Requirement already satisfied: pycryptodome<4.0,>=3.9 in c:\\users\\zaimp\\anaconda3\\envs\\scalpfx\\lib\\site-packages (from trading_ig) (3.14.1)\n",
      "Requirement already satisfied: requests<3.0,>=2.24 in c:\\users\\zaimp\\anaconda3\\envs\\scalpfx\\lib\\site-packages (from trading_ig) (2.26.0)\n",
      "Requirement already satisfied: six<2.0,>=1.15 in c:\\users\\zaimp\\anaconda3\\envs\\scalpfx\\lib\\site-packages (from trading_ig) (1.16.0)\n",
      "Requirement already satisfied: requests-cache<0.6,>=0.5 in c:\\users\\zaimp\\anaconda3\\envs\\scalpfx\\lib\\site-packages (from trading_ig) (0.5.2)\n",
      "Requirement already satisfied: pytz>=2017.3 in c:\\users\\zaimp\\anaconda3\\envs\\scalpfx\\lib\\site-packages (from pandas) (2021.3)\n",
      "Requirement already satisfied: python-dateutil>=2.7.3 in c:\\users\\zaimp\\anaconda3\\envs\\scalpfx\\lib\\site-packages (from pandas) (2.8.2)\n",
      "Requirement already satisfied: numpy>=1.17.3 in c:\\users\\zaimp\\anaconda3\\envs\\scalpfx\\lib\\site-packages (from pandas) (1.20.3)\n",
      "Requirement already satisfied: charset-normalizer~=2.0.0 in c:\\users\\zaimp\\anaconda3\\envs\\scalpfx\\lib\\site-packages (from requests<3.0,>=2.24->trading_ig) (2.0.4)\n",
      "Requirement already satisfied: urllib3<1.27,>=1.21.1 in c:\\users\\zaimp\\anaconda3\\envs\\scalpfx\\lib\\site-packages (from requests<3.0,>=2.24->trading_ig) (1.26.7)\n",
      "Requirement already satisfied: idna<4,>=2.5 in c:\\users\\zaimp\\anaconda3\\envs\\scalpfx\\lib\\site-packages (from requests<3.0,>=2.24->trading_ig) (3.2)\n",
      "Requirement already satisfied: certifi>=2017.4.17 in c:\\users\\zaimp\\anaconda3\\envs\\scalpfx\\lib\\site-packages (from requests<3.0,>=2.24->trading_ig) (2021.10.8)\n",
      "Installing collected packages: tenacity, munch\n",
      "Successfully installed munch-2.5.0 tenacity-8.0.1\n",
      "Note: you may need to restart the kernel to use updated packages.\n"
     ]
    }
   ],
   "source": [
    "pip install trading_ig pandas munch tenacity"
   ]
  },
  {
   "cell_type": "code",
   "execution_count": 38,
   "id": "33978c54",
   "metadata": {},
   "outputs": [
    {
     "data": {
      "text/plain": [
       "'D:\\\\ScalpFX\\\\src'"
      ]
     },
     "execution_count": 38,
     "metadata": {},
     "output_type": "execute_result"
    }
   ],
   "source": [
    "import os\n",
    "os.getcwd()"
   ]
  },
  {
   "cell_type": "code",
   "execution_count": 51,
   "id": "d201adb4",
   "metadata": {},
   "outputs": [],
   "source": [
    "from configparser import ConfigParser\n",
    "\n",
    "config_object = ConfigParser()\n",
    "config_object.read('../credentials/trading_ig_config.ini')\n",
    "config = config_object['live']\n",
    "\n",
    "# Create a Config file (trading_ig_config.ini) of your credential in the following format:-\n",
    "# \n",
    "# [demo]\n",
    "# username = <USERNAME>\n",
    "# password = <PASSWORD>\n",
    "# api_key = <API_KEY>\n",
    "# acc_type = DEMO\n",
    "# acc_number = <123ABC>\n",
    "#\n",
    "# [live]\n",
    "# username = <USERNAME>\n",
    "# password = <PASSWORD>\n",
    "# api_key = <API_KEY>\n",
    "# acc_type = LIVE\n",
    "# acc_number = <123ABC>"
   ]
  },
  {
   "cell_type": "code",
   "execution_count": 52,
   "id": "c45f3cef",
   "metadata": {},
   "outputs": [
    {
     "data": {
      "text/plain": [
       "{'accountType': 'CFD',\n",
       " 'accountInfo': {'balance': 237.01,\n",
       "  'deposit': 52.73,\n",
       "  'profitLoss': -55.3,\n",
       "  'available': 128.98},\n",
       " 'currencyIsoCode': 'USD',\n",
       " 'currencySymbol': '$',\n",
       " 'currentAccountId': 'QM0EM',\n",
       " 'lightstreamerEndpoint': 'https://apd.marketdatasystems.com',\n",
       " 'accounts': [{'accountId': 'QM0EM',\n",
       "   'accountName': 'CFD Live',\n",
       "   'preferred': True,\n",
       "   'accountType': 'CFD'}],\n",
       " 'clientId': '104831189',\n",
       " 'timezoneOffset': 8,\n",
       " 'hasActiveDemoAccounts': True,\n",
       " 'hasActiveLiveAccounts': True,\n",
       " 'trailingStopsEnabled': False,\n",
       " 'reroutingEnvironment': None,\n",
       " 'dealingEnabled': True}"
      ]
     },
     "execution_count": 52,
     "metadata": {},
     "output_type": "execute_result"
    }
   ],
   "source": [
    "from trading_ig.rest import IGService\n",
    "\n",
    "ig_service = IGService(config['username'], config['password'], config['api_key'], config['acc_type'])\n",
    "ig = ig_service.create_session()\n",
    "ig"
   ]
  },
  {
   "cell_type": "markdown",
   "id": "143898d9",
   "metadata": {},
   "source": [
    "### Getting the Data"
   ]
  },
  {
   "cell_type": "code",
   "execution_count": null,
   "id": "20374cc5",
   "metadata": {},
   "outputs": [],
   "source": []
  },
  {
   "cell_type": "code",
   "execution_count": null,
   "id": "34daab73",
   "metadata": {},
   "outputs": [],
   "source": []
  },
  {
   "cell_type": "code",
   "execution_count": null,
   "id": "1e6ec6b1",
   "metadata": {},
   "outputs": [],
   "source": []
  },
  {
   "cell_type": "code",
   "execution_count": null,
   "id": "818ac254",
   "metadata": {},
   "outputs": [],
   "source": []
  }
 ],
 "metadata": {
  "kernelspec": {
   "display_name": "Python 3 (ipykernel)",
   "language": "python",
   "name": "python3"
  },
  "language_info": {
   "codemirror_mode": {
    "name": "ipython",
    "version": 3
   },
   "file_extension": ".py",
   "mimetype": "text/x-python",
   "name": "python",
   "nbconvert_exporter": "python",
   "pygments_lexer": "ipython3",
   "version": "3.9.7"
  }
 },
 "nbformat": 4,
 "nbformat_minor": 5
}
