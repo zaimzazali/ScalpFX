{
 "cells": [
  {
   "cell_type": "markdown",
   "id": "eee661e5",
   "metadata": {},
   "source": [
    "# TRAINER"
   ]
  },
  {
   "cell_type": "markdown",
   "id": "368d27e5",
   "metadata": {},
   "source": [
    "# Getting The Data"
   ]
  },
  {
   "cell_type": "markdown",
   "id": "2e31ab58",
   "metadata": {},
   "source": [
    "### Setup IG Session"
   ]
  },
  {
   "cell_type": "code",
   "execution_count": 1,
   "id": "db8cb74e",
   "metadata": {
    "scrolled": true
   },
   "outputs": [
    {
     "name": "stdout",
     "output_type": "stream",
     "text": [
      "Requirement already satisfied: trading_ig in c:\\users\\zaimp\\anaconda3\\envs\\scalpfx\\lib\\site-packages (0.0.17)\n",
      "Requirement already satisfied: pandas in c:\\users\\zaimp\\anaconda3\\envs\\scalpfx\\lib\\site-packages (1.3.4)\n",
      "Requirement already satisfied: munch in c:\\users\\zaimp\\anaconda3\\envs\\scalpfx\\lib\\site-packages (2.5.0)\n",
      "Requirement already satisfied: tenacity in c:\\users\\zaimp\\anaconda3\\envs\\scalpfx\\lib\\site-packages (8.0.1)\n",
      "Requirement already satisfied: requests-cache<0.6,>=0.5 in c:\\users\\zaimp\\anaconda3\\envs\\scalpfx\\lib\\site-packages (from trading_ig) (0.5.2)\n",
      "Requirement already satisfied: pycryptodome<4.0,>=3.9 in c:\\users\\zaimp\\anaconda3\\envs\\scalpfx\\lib\\site-packages (from trading_ig) (3.14.1)\n",
      "Requirement already satisfied: requests<3.0,>=2.24 in c:\\users\\zaimp\\anaconda3\\envs\\scalpfx\\lib\\site-packages (from trading_ig) (2.26.0)\n",
      "Requirement already satisfied: six<2.0,>=1.15 in c:\\users\\zaimp\\anaconda3\\envs\\scalpfx\\lib\\site-packages (from trading_ig) (1.16.0)\n",
      "Requirement already satisfied: python-dateutil>=2.7.3 in c:\\users\\zaimp\\anaconda3\\envs\\scalpfx\\lib\\site-packages (from pandas) (2.8.2)\n",
      "Requirement already satisfied: numpy>=1.17.3 in c:\\users\\zaimp\\anaconda3\\envs\\scalpfx\\lib\\site-packages (from pandas) (1.20.3)\n",
      "Requirement already satisfied: pytz>=2017.3 in c:\\users\\zaimp\\anaconda3\\envs\\scalpfx\\lib\\site-packages (from pandas) (2021.3)\n",
      "Requirement already satisfied: urllib3<1.27,>=1.21.1 in c:\\users\\zaimp\\anaconda3\\envs\\scalpfx\\lib\\site-packages (from requests<3.0,>=2.24->trading_ig) (1.26.7)\n",
      "Requirement already satisfied: idna<4,>=2.5 in c:\\users\\zaimp\\anaconda3\\envs\\scalpfx\\lib\\site-packages (from requests<3.0,>=2.24->trading_ig) (3.2)\n",
      "Requirement already satisfied: certifi>=2017.4.17 in c:\\users\\zaimp\\anaconda3\\envs\\scalpfx\\lib\\site-packages (from requests<3.0,>=2.24->trading_ig) (2021.10.8)\n",
      "Requirement already satisfied: charset-normalizer~=2.0.0 in c:\\users\\zaimp\\anaconda3\\envs\\scalpfx\\lib\\site-packages (from requests<3.0,>=2.24->trading_ig) (2.0.4)\n",
      "Note: you may need to restart the kernel to use updated packages.\n"
     ]
    }
   ],
   "source": [
    "pip install trading_ig pandas munch tenacity"
   ]
  },
  {
   "cell_type": "code",
   "execution_count": 2,
   "id": "dd1a6bbd",
   "metadata": {},
   "outputs": [],
   "source": [
    "import sys\n",
    "\n",
    "sys.path.append(\"./utils/\")"
   ]
  },
  {
   "cell_type": "code",
   "execution_count": 3,
   "id": "2c0e1df0",
   "metadata": {},
   "outputs": [
    {
     "name": "stdout",
     "output_type": "stream",
     "text": [
      "IG - Instantiated\n"
     ]
    }
   ],
   "source": [
    "from utils.IG import IG\n",
    "\n",
    "_IG = IG()\n",
    "config = _IG.getLoginConfig('live')"
   ]
  },
  {
   "cell_type": "code",
   "execution_count": 4,
   "id": "1d9fc3ad",
   "metadata": {},
   "outputs": [
    {
     "data": {
      "text/plain": [
       "{'accountType': 'CFD',\n",
       " 'accountInfo': {'balance': 237.01,\n",
       "  'deposit': 52.73,\n",
       "  'profitLoss': -55.1,\n",
       "  'available': 129.18},\n",
       " 'currencyIsoCode': 'USD',\n",
       " 'currencySymbol': '$',\n",
       " 'currentAccountId': 'QM0EM',\n",
       " 'lightstreamerEndpoint': 'https://apd.marketdatasystems.com',\n",
       " 'accounts': [{'accountId': 'QM0EM',\n",
       "   'accountName': 'CFD Live',\n",
       "   'preferred': True,\n",
       "   'accountType': 'CFD'}],\n",
       " 'clientId': '104831189',\n",
       " 'timezoneOffset': 8,\n",
       " 'hasActiveDemoAccounts': True,\n",
       " 'hasActiveLiveAccounts': True,\n",
       " 'trailingStopsEnabled': False,\n",
       " 'reroutingEnvironment': None,\n",
       " 'dealingEnabled': True}"
      ]
     },
     "execution_count": 4,
     "metadata": {},
     "output_type": "execute_result"
    }
   ],
   "source": [
    "ig_service = _IG.getIgService(config)\n",
    "_IG.getIgAccountDetails(ig_service)"
   ]
  },
  {
   "cell_type": "markdown",
   "id": "c92ed013",
   "metadata": {},
   "source": [
    "### Get the Historical Data of GBP/USD Mini"
   ]
  },
  {
   "cell_type": "code",
   "execution_count": 5,
   "id": "ec2bfe24",
   "metadata": {},
   "outputs": [],
   "source": [
    "TARGET_EPIC = 'CS.D.GBPUSD.MINI.IP'\n",
    "RESOLUTION = '15Min'\n",
    "PREVIOUS_MONTHS_COUNT_FROM_TODAY = 4"
   ]
  },
  {
   "cell_type": "code",
   "execution_count": 6,
   "id": "b10c512c",
   "metadata": {},
   "outputs": [
    {
     "name": "stdout",
     "output_type": "stream",
     "text": [
      "End: 2022-05-07 23:59:59.999999\n",
      "Start: 2022-01-07 00:00:00\n"
     ]
    }
   ],
   "source": [
    "# Get today's next day date as End Date, and previous X month(s) from today as Start Date\n",
    "\n",
    "from datetime import datetime, date\n",
    "from dateutil.relativedelta import relativedelta\n",
    "\n",
    "end_date = datetime.combine(date.today(), datetime.max.time())\n",
    "start_date = datetime.combine(date.today() - relativedelta(months=PREVIOUS_MONTHS_COUNT_FROM_TODAY), datetime.min.time())\n",
    "\n",
    "print(f'''End: {end_date}''')\n",
    "print(f'''Start: {start_date}''')"
   ]
  },
  {
   "cell_type": "code",
   "execution_count": 7,
   "id": "d63c8273",
   "metadata": {
    "scrolled": true
   },
   "outputs": [],
   "source": [
    "LOCAL_READ = False\n",
    "\n",
    "try:\n",
    "    history = ig_service.fetch_historical_prices_by_epic_and_date_range(TARGET_EPIC, RESOLUTION, start_date, end_date)\n",
    "    history['prices']\n",
    "except Exception as e:\n",
    "    print(e)\n",
    "    LOCAL_READ = True"
   ]
  },
  {
   "cell_type": "code",
   "execution_count": 8,
   "id": "454c8ea7",
   "metadata": {},
   "outputs": [],
   "source": [
    "# If API failed, read data from previously saved Excel File\n",
    "\n",
    "from os import listdir\n",
    "from os.path import isfile, join\n",
    "    \n",
    "def readLatestFile(TARGET_EPIC, RESOLUTION, DATA_PATH):\n",
    "    onlyfiles = [f for f in listdir(DATA_PATH) if isfile(join(DATA_PATH, f))]\n",
    "    onlyfiles.sort(reverse=True)\n",
    "    for fileName in onlyfiles:\n",
    "        if TARGET_EPIC in fileName and RESOLUTION in fileName:\n",
    "            return fileName\n",
    "        \n",
    "    return ''"
   ]
  },
  {
   "cell_type": "code",
   "execution_count": 9,
   "id": "4862729d",
   "metadata": {
    "scrolled": true
   },
   "outputs": [
    {
     "name": "stdout",
     "output_type": "stream",
     "text": [
      "Retrieved from API\n"
     ]
    },
    {
     "data": {
      "text/html": [
       "<div>\n",
       "<style scoped>\n",
       "    .dataframe tbody tr th:only-of-type {\n",
       "        vertical-align: middle;\n",
       "    }\n",
       "\n",
       "    .dataframe tbody tr th {\n",
       "        vertical-align: top;\n",
       "    }\n",
       "\n",
       "    .dataframe thead tr th {\n",
       "        text-align: left;\n",
       "    }\n",
       "</style>\n",
       "<table border=\"1\" class=\"dataframe\">\n",
       "  <thead>\n",
       "    <tr>\n",
       "      <th></th>\n",
       "      <th>DateTime</th>\n",
       "      <th colspan=\"4\" halign=\"left\">bid</th>\n",
       "      <th colspan=\"4\" halign=\"left\">ask</th>\n",
       "      <th colspan=\"5\" halign=\"left\">last</th>\n",
       "    </tr>\n",
       "    <tr>\n",
       "      <th></th>\n",
       "      <th></th>\n",
       "      <th>Open</th>\n",
       "      <th>High</th>\n",
       "      <th>Low</th>\n",
       "      <th>Close</th>\n",
       "      <th>Open</th>\n",
       "      <th>High</th>\n",
       "      <th>Low</th>\n",
       "      <th>Close</th>\n",
       "      <th>Open</th>\n",
       "      <th>High</th>\n",
       "      <th>Low</th>\n",
       "      <th>Close</th>\n",
       "      <th>Volume</th>\n",
       "    </tr>\n",
       "  </thead>\n",
       "  <tbody>\n",
       "    <tr>\n",
       "      <th>0</th>\n",
       "      <td>2022-01-07 00:00:00</td>\n",
       "      <td>1.35381</td>\n",
       "      <td>1.35403</td>\n",
       "      <td>1.35319</td>\n",
       "      <td>1.35355</td>\n",
       "      <td>1.35390</td>\n",
       "      <td>1.35414</td>\n",
       "      <td>1.35330</td>\n",
       "      <td>1.35370</td>\n",
       "      <td>NaN</td>\n",
       "      <td>NaN</td>\n",
       "      <td>NaN</td>\n",
       "      <td>NaN</td>\n",
       "      <td>1700</td>\n",
       "    </tr>\n",
       "    <tr>\n",
       "      <th>1</th>\n",
       "      <td>2022-01-07 00:15:00</td>\n",
       "      <td>1.35360</td>\n",
       "      <td>1.35376</td>\n",
       "      <td>1.35311</td>\n",
       "      <td>1.35339</td>\n",
       "      <td>1.35375</td>\n",
       "      <td>1.35387</td>\n",
       "      <td>1.35324</td>\n",
       "      <td>1.35348</td>\n",
       "      <td>NaN</td>\n",
       "      <td>NaN</td>\n",
       "      <td>NaN</td>\n",
       "      <td>NaN</td>\n",
       "      <td>1602</td>\n",
       "    </tr>\n",
       "    <tr>\n",
       "      <th>2</th>\n",
       "      <td>2022-01-07 00:30:00</td>\n",
       "      <td>1.35338</td>\n",
       "      <td>1.35392</td>\n",
       "      <td>1.35305</td>\n",
       "      <td>1.35362</td>\n",
       "      <td>1.35347</td>\n",
       "      <td>1.35401</td>\n",
       "      <td>1.35316</td>\n",
       "      <td>1.35371</td>\n",
       "      <td>NaN</td>\n",
       "      <td>NaN</td>\n",
       "      <td>NaN</td>\n",
       "      <td>NaN</td>\n",
       "      <td>1558</td>\n",
       "    </tr>\n",
       "    <tr>\n",
       "      <th>3</th>\n",
       "      <td>2022-01-07 00:45:00</td>\n",
       "      <td>1.35364</td>\n",
       "      <td>1.35372</td>\n",
       "      <td>1.35294</td>\n",
       "      <td>1.35301</td>\n",
       "      <td>1.35373</td>\n",
       "      <td>1.35386</td>\n",
       "      <td>1.35304</td>\n",
       "      <td>1.35310</td>\n",
       "      <td>NaN</td>\n",
       "      <td>NaN</td>\n",
       "      <td>NaN</td>\n",
       "      <td>NaN</td>\n",
       "      <td>1216</td>\n",
       "    </tr>\n",
       "    <tr>\n",
       "      <th>4</th>\n",
       "      <td>2022-01-07 01:00:00</td>\n",
       "      <td>1.35302</td>\n",
       "      <td>1.35340</td>\n",
       "      <td>1.35277</td>\n",
       "      <td>1.35299</td>\n",
       "      <td>1.35311</td>\n",
       "      <td>1.35349</td>\n",
       "      <td>1.35287</td>\n",
       "      <td>1.35308</td>\n",
       "      <td>NaN</td>\n",
       "      <td>NaN</td>\n",
       "      <td>NaN</td>\n",
       "      <td>NaN</td>\n",
       "      <td>1285</td>\n",
       "    </tr>\n",
       "    <tr>\n",
       "      <th>...</th>\n",
       "      <td>...</td>\n",
       "      <td>...</td>\n",
       "      <td>...</td>\n",
       "      <td>...</td>\n",
       "      <td>...</td>\n",
       "      <td>...</td>\n",
       "      <td>...</td>\n",
       "      <td>...</td>\n",
       "      <td>...</td>\n",
       "      <td>...</td>\n",
       "      <td>...</td>\n",
       "      <td>...</td>\n",
       "      <td>...</td>\n",
       "      <td>...</td>\n",
       "    </tr>\n",
       "    <tr>\n",
       "      <th>8331</th>\n",
       "      <td>2022-05-07 03:45:00</td>\n",
       "      <td>1.23456</td>\n",
       "      <td>1.23489</td>\n",
       "      <td>1.23395</td>\n",
       "      <td>1.23419</td>\n",
       "      <td>1.23471</td>\n",
       "      <td>1.23504</td>\n",
       "      <td>1.23410</td>\n",
       "      <td>1.23434</td>\n",
       "      <td>NaN</td>\n",
       "      <td>NaN</td>\n",
       "      <td>NaN</td>\n",
       "      <td>NaN</td>\n",
       "      <td>2260</td>\n",
       "    </tr>\n",
       "    <tr>\n",
       "      <th>8332</th>\n",
       "      <td>2022-05-07 04:00:00</td>\n",
       "      <td>1.23420</td>\n",
       "      <td>1.23420</td>\n",
       "      <td>1.23360</td>\n",
       "      <td>1.23377</td>\n",
       "      <td>1.23435</td>\n",
       "      <td>1.23435</td>\n",
       "      <td>1.23375</td>\n",
       "      <td>1.23392</td>\n",
       "      <td>NaN</td>\n",
       "      <td>NaN</td>\n",
       "      <td>NaN</td>\n",
       "      <td>NaN</td>\n",
       "      <td>748</td>\n",
       "    </tr>\n",
       "    <tr>\n",
       "      <th>8333</th>\n",
       "      <td>2022-05-07 04:15:00</td>\n",
       "      <td>1.23376</td>\n",
       "      <td>1.23386</td>\n",
       "      <td>1.23339</td>\n",
       "      <td>1.23341</td>\n",
       "      <td>1.23391</td>\n",
       "      <td>1.23401</td>\n",
       "      <td>1.23354</td>\n",
       "      <td>1.23356</td>\n",
       "      <td>NaN</td>\n",
       "      <td>NaN</td>\n",
       "      <td>NaN</td>\n",
       "      <td>NaN</td>\n",
       "      <td>603</td>\n",
       "    </tr>\n",
       "    <tr>\n",
       "      <th>8334</th>\n",
       "      <td>2022-05-07 04:30:00</td>\n",
       "      <td>1.23340</td>\n",
       "      <td>1.23367</td>\n",
       "      <td>1.23319</td>\n",
       "      <td>1.23328</td>\n",
       "      <td>1.23355</td>\n",
       "      <td>1.23382</td>\n",
       "      <td>1.23334</td>\n",
       "      <td>1.23343</td>\n",
       "      <td>NaN</td>\n",
       "      <td>NaN</td>\n",
       "      <td>NaN</td>\n",
       "      <td>NaN</td>\n",
       "      <td>529</td>\n",
       "    </tr>\n",
       "    <tr>\n",
       "      <th>8335</th>\n",
       "      <td>2022-05-07 04:45:00</td>\n",
       "      <td>1.23320</td>\n",
       "      <td>1.23460</td>\n",
       "      <td>1.23304</td>\n",
       "      <td>1.23330</td>\n",
       "      <td>1.23335</td>\n",
       "      <td>1.23570</td>\n",
       "      <td>1.23319</td>\n",
       "      <td>1.23440</td>\n",
       "      <td>NaN</td>\n",
       "      <td>NaN</td>\n",
       "      <td>NaN</td>\n",
       "      <td>NaN</td>\n",
       "      <td>1736</td>\n",
       "    </tr>\n",
       "  </tbody>\n",
       "</table>\n",
       "<p>8336 rows × 14 columns</p>\n",
       "</div>"
      ],
      "text/plain": [
       "                DateTime      bid                                 ask  \\\n",
       "                             Open     High      Low    Close     Open   \n",
       "0    2022-01-07 00:00:00  1.35381  1.35403  1.35319  1.35355  1.35390   \n",
       "1    2022-01-07 00:15:00  1.35360  1.35376  1.35311  1.35339  1.35375   \n",
       "2    2022-01-07 00:30:00  1.35338  1.35392  1.35305  1.35362  1.35347   \n",
       "3    2022-01-07 00:45:00  1.35364  1.35372  1.35294  1.35301  1.35373   \n",
       "4    2022-01-07 01:00:00  1.35302  1.35340  1.35277  1.35299  1.35311   \n",
       "...                  ...      ...      ...      ...      ...      ...   \n",
       "8331 2022-05-07 03:45:00  1.23456  1.23489  1.23395  1.23419  1.23471   \n",
       "8332 2022-05-07 04:00:00  1.23420  1.23420  1.23360  1.23377  1.23435   \n",
       "8333 2022-05-07 04:15:00  1.23376  1.23386  1.23339  1.23341  1.23391   \n",
       "8334 2022-05-07 04:30:00  1.23340  1.23367  1.23319  1.23328  1.23355   \n",
       "8335 2022-05-07 04:45:00  1.23320  1.23460  1.23304  1.23330  1.23335   \n",
       "\n",
       "                                last                        \n",
       "         High      Low    Close Open High Low Close Volume  \n",
       "0     1.35414  1.35330  1.35370  NaN  NaN NaN   NaN   1700  \n",
       "1     1.35387  1.35324  1.35348  NaN  NaN NaN   NaN   1602  \n",
       "2     1.35401  1.35316  1.35371  NaN  NaN NaN   NaN   1558  \n",
       "3     1.35386  1.35304  1.35310  NaN  NaN NaN   NaN   1216  \n",
       "4     1.35349  1.35287  1.35308  NaN  NaN NaN   NaN   1285  \n",
       "...       ...      ...      ...  ...  ...  ..   ...    ...  \n",
       "8331  1.23504  1.23410  1.23434  NaN  NaN NaN   NaN   2260  \n",
       "8332  1.23435  1.23375  1.23392  NaN  NaN NaN   NaN    748  \n",
       "8333  1.23401  1.23354  1.23356  NaN  NaN NaN   NaN    603  \n",
       "8334  1.23382  1.23334  1.23343  NaN  NaN NaN   NaN    529  \n",
       "8335  1.23570  1.23319  1.23440  NaN  NaN NaN   NaN   1736  \n",
       "\n",
       "[8336 rows x 14 columns]"
      ]
     },
     "execution_count": 9,
     "metadata": {},
     "output_type": "execute_result"
    }
   ],
   "source": [
    "import pandas as pd\n",
    "\n",
    "DATA_PATH = '../data/'\n",
    "\n",
    "if LOCAL_READ:\n",
    "    print(f'''{DATA_PATH}{readLatestFile(TARGET_EPIC, RESOLUTION, DATA_PATH)}''')\n",
    "    df_history = pd.read_excel(f'''{DATA_PATH}{readLatestFile(TARGET_EPIC, RESOLUTION, DATA_PATH)}''',\n",
    "                               index_col=[0], header=[0,1])\n",
    "    df_history = df_history.rename(columns={df_history.columns[0][1]:''}, level=1)\n",
    "else:\n",
    "    print('Retrieved from API')\n",
    "    df_history = pd.DataFrame.from_dict(history['prices'])\n",
    "    df_history = df_history.reset_index()\n",
    "    \n",
    "df_history"
   ]
  },
  {
   "cell_type": "code",
   "execution_count": 290,
   "id": "b37704ad",
   "metadata": {},
   "outputs": [
    {
     "data": {
      "image/png": "[encoded data removed]",
      "text/plain": [
       "<Figure size 432x288 with 1 Axes>"
      ]
     },
     "metadata": {
      "needs_background": "light"
     },
     "output_type": "display_data"
    },
    {
     "data": {
      "text/plain": [
       "<Figure size 1152x648 with 0 Axes>"
      ]
     },
     "metadata": {},
     "output_type": "display_data"
    }
   ],
   "source": [
    "import matplotlib.pyplot as plt\n",
    "\n",
    "plt.plot(df_history[('bid', 'Close')])\n",
    "\n",
    "plt.xlabel(\"DateTime\")\n",
    "plt.ylabel(\"Close\")\n",
    "plt.title(\"Historical Data\")\n",
    "\n",
    "fig = plt.figure()\n",
    "fig.set_figheight(9)\n",
    "fig.set_figwidth(16)\n",
    "\n",
    "plt.show()"
   ]
  },
  {
   "cell_type": "code",
   "execution_count": 291,
   "id": "b0a13b8f",
   "metadata": {
    "scrolled": true
   },
   "outputs": [
    {
     "data": {
      "text/html": [
       "<div>\n",
       "<style scoped>\n",
       "    .dataframe tbody tr th:only-of-type {\n",
       "        vertical-align: middle;\n",
       "    }\n",
       "\n",
       "    .dataframe tbody tr th {\n",
       "        vertical-align: top;\n",
       "    }\n",
       "\n",
       "    .dataframe thead tr th {\n",
       "        text-align: left;\n",
       "    }\n",
       "</style>\n",
       "<table border=\"1\" class=\"dataframe\">\n",
       "  <thead>\n",
       "    <tr>\n",
       "      <th></th>\n",
       "      <th>DateTime</th>\n",
       "      <th colspan=\"4\" halign=\"left\">bid</th>\n",
       "      <th colspan=\"4\" halign=\"left\">ask</th>\n",
       "      <th colspan=\"5\" halign=\"left\">last</th>\n",
       "    </tr>\n",
       "    <tr>\n",
       "      <th></th>\n",
       "      <th></th>\n",
       "      <th>Open</th>\n",
       "      <th>High</th>\n",
       "      <th>Low</th>\n",
       "      <th>Close</th>\n",
       "      <th>Open</th>\n",
       "      <th>High</th>\n",
       "      <th>Low</th>\n",
       "      <th>Close</th>\n",
       "      <th>Open</th>\n",
       "      <th>High</th>\n",
       "      <th>Low</th>\n",
       "      <th>Close</th>\n",
       "      <th>Volume</th>\n",
       "    </tr>\n",
       "  </thead>\n",
       "  <tbody>\n",
       "    <tr>\n",
       "      <th>8335</th>\n",
       "      <td>2022-05-07 04:45:00</td>\n",
       "      <td>1.23320</td>\n",
       "      <td>1.23460</td>\n",
       "      <td>1.23304</td>\n",
       "      <td>1.23330</td>\n",
       "      <td>1.23335</td>\n",
       "      <td>1.23570</td>\n",
       "      <td>1.23319</td>\n",
       "      <td>1.23440</td>\n",
       "      <td>NaN</td>\n",
       "      <td>NaN</td>\n",
       "      <td>NaN</td>\n",
       "      <td>NaN</td>\n",
       "      <td>1736</td>\n",
       "    </tr>\n",
       "    <tr>\n",
       "      <th>8334</th>\n",
       "      <td>2022-05-07 04:30:00</td>\n",
       "      <td>1.23340</td>\n",
       "      <td>1.23367</td>\n",
       "      <td>1.23319</td>\n",
       "      <td>1.23328</td>\n",
       "      <td>1.23355</td>\n",
       "      <td>1.23382</td>\n",
       "      <td>1.23334</td>\n",
       "      <td>1.23343</td>\n",
       "      <td>NaN</td>\n",
       "      <td>NaN</td>\n",
       "      <td>NaN</td>\n",
       "      <td>NaN</td>\n",
       "      <td>529</td>\n",
       "    </tr>\n",
       "    <tr>\n",
       "      <th>8333</th>\n",
       "      <td>2022-05-07 04:15:00</td>\n",
       "      <td>1.23376</td>\n",
       "      <td>1.23386</td>\n",
       "      <td>1.23339</td>\n",
       "      <td>1.23341</td>\n",
       "      <td>1.23391</td>\n",
       "      <td>1.23401</td>\n",
       "      <td>1.23354</td>\n",
       "      <td>1.23356</td>\n",
       "      <td>NaN</td>\n",
       "      <td>NaN</td>\n",
       "      <td>NaN</td>\n",
       "      <td>NaN</td>\n",
       "      <td>603</td>\n",
       "    </tr>\n",
       "    <tr>\n",
       "      <th>8332</th>\n",
       "      <td>2022-05-07 04:00:00</td>\n",
       "      <td>1.23420</td>\n",
       "      <td>1.23420</td>\n",
       "      <td>1.23360</td>\n",
       "      <td>1.23377</td>\n",
       "      <td>1.23435</td>\n",
       "      <td>1.23435</td>\n",
       "      <td>1.23375</td>\n",
       "      <td>1.23392</td>\n",
       "      <td>NaN</td>\n",
       "      <td>NaN</td>\n",
       "      <td>NaN</td>\n",
       "      <td>NaN</td>\n",
       "      <td>748</td>\n",
       "    </tr>\n",
       "    <tr>\n",
       "      <th>8331</th>\n",
       "      <td>2022-05-07 03:45:00</td>\n",
       "      <td>1.23456</td>\n",
       "      <td>1.23489</td>\n",
       "      <td>1.23395</td>\n",
       "      <td>1.23419</td>\n",
       "      <td>1.23471</td>\n",
       "      <td>1.23504</td>\n",
       "      <td>1.23410</td>\n",
       "      <td>1.23434</td>\n",
       "      <td>NaN</td>\n",
       "      <td>NaN</td>\n",
       "      <td>NaN</td>\n",
       "      <td>NaN</td>\n",
       "      <td>2260</td>\n",
       "    </tr>\n",
       "    <tr>\n",
       "      <th>...</th>\n",
       "      <td>...</td>\n",
       "      <td>...</td>\n",
       "      <td>...</td>\n",
       "      <td>...</td>\n",
       "      <td>...</td>\n",
       "      <td>...</td>\n",
       "      <td>...</td>\n",
       "      <td>...</td>\n",
       "      <td>...</td>\n",
       "      <td>...</td>\n",
       "      <td>...</td>\n",
       "      <td>...</td>\n",
       "      <td>...</td>\n",
       "      <td>...</td>\n",
       "    </tr>\n",
       "    <tr>\n",
       "      <th>4</th>\n",
       "      <td>2022-01-07 01:00:00</td>\n",
       "      <td>1.35302</td>\n",
       "      <td>1.35340</td>\n",
       "      <td>1.35277</td>\n",
       "      <td>1.35299</td>\n",
       "      <td>1.35311</td>\n",
       "      <td>1.35349</td>\n",
       "      <td>1.35287</td>\n",
       "      <td>1.35308</td>\n",
       "      <td>NaN</td>\n",
       "      <td>NaN</td>\n",
       "      <td>NaN</td>\n",
       "      <td>NaN</td>\n",
       "      <td>1285</td>\n",
       "    </tr>\n",
       "    <tr>\n",
       "      <th>3</th>\n",
       "      <td>2022-01-07 00:45:00</td>\n",
       "      <td>1.35364</td>\n",
       "      <td>1.35372</td>\n",
       "      <td>1.35294</td>\n",
       "      <td>1.35301</td>\n",
       "      <td>1.35373</td>\n",
       "      <td>1.35386</td>\n",
       "      <td>1.35304</td>\n",
       "      <td>1.35310</td>\n",
       "      <td>NaN</td>\n",
       "      <td>NaN</td>\n",
       "      <td>NaN</td>\n",
       "      <td>NaN</td>\n",
       "      <td>1216</td>\n",
       "    </tr>\n",
       "    <tr>\n",
       "      <th>2</th>\n",
       "      <td>2022-01-07 00:30:00</td>\n",
       "      <td>1.35338</td>\n",
       "      <td>1.35392</td>\n",
       "      <td>1.35305</td>\n",
       "      <td>1.35362</td>\n",
       "      <td>1.35347</td>\n",
       "      <td>1.35401</td>\n",
       "      <td>1.35316</td>\n",
       "      <td>1.35371</td>\n",
       "      <td>NaN</td>\n",
       "      <td>NaN</td>\n",
       "      <td>NaN</td>\n",
       "      <td>NaN</td>\n",
       "      <td>1558</td>\n",
       "    </tr>\n",
       "    <tr>\n",
       "      <th>1</th>\n",
       "      <td>2022-01-07 00:15:00</td>\n",
       "      <td>1.35360</td>\n",
       "      <td>1.35376</td>\n",
       "      <td>1.35311</td>\n",
       "      <td>1.35339</td>\n",
       "      <td>1.35375</td>\n",
       "      <td>1.35387</td>\n",
       "      <td>1.35324</td>\n",
       "      <td>1.35348</td>\n",
       "      <td>NaN</td>\n",
       "      <td>NaN</td>\n",
       "      <td>NaN</td>\n",
       "      <td>NaN</td>\n",
       "      <td>1602</td>\n",
       "    </tr>\n",
       "    <tr>\n",
       "      <th>0</th>\n",
       "      <td>2022-01-07 00:00:00</td>\n",
       "      <td>1.35381</td>\n",
       "      <td>1.35403</td>\n",
       "      <td>1.35319</td>\n",
       "      <td>1.35355</td>\n",
       "      <td>1.35390</td>\n",
       "      <td>1.35414</td>\n",
       "      <td>1.35330</td>\n",
       "      <td>1.35370</td>\n",
       "      <td>NaN</td>\n",
       "      <td>NaN</td>\n",
       "      <td>NaN</td>\n",
       "      <td>NaN</td>\n",
       "      <td>1700</td>\n",
       "    </tr>\n",
       "  </tbody>\n",
       "</table>\n",
       "<p>8336 rows × 14 columns</p>\n",
       "</div>"
      ],
      "text/plain": [
       "                DateTime      bid                                 ask  \\\n",
       "                             Open     High      Low    Close     Open   \n",
       "8335 2022-05-07 04:45:00  1.23320  1.23460  1.23304  1.23330  1.23335   \n",
       "8334 2022-05-07 04:30:00  1.23340  1.23367  1.23319  1.23328  1.23355   \n",
       "8333 2022-05-07 04:15:00  1.23376  1.23386  1.23339  1.23341  1.23391   \n",
       "8332 2022-05-07 04:00:00  1.23420  1.23420  1.23360  1.23377  1.23435   \n",
       "8331 2022-05-07 03:45:00  1.23456  1.23489  1.23395  1.23419  1.23471   \n",
       "...                  ...      ...      ...      ...      ...      ...   \n",
       "4    2022-01-07 01:00:00  1.35302  1.35340  1.35277  1.35299  1.35311   \n",
       "3    2022-01-07 00:45:00  1.35364  1.35372  1.35294  1.35301  1.35373   \n",
       "2    2022-01-07 00:30:00  1.35338  1.35392  1.35305  1.35362  1.35347   \n",
       "1    2022-01-07 00:15:00  1.35360  1.35376  1.35311  1.35339  1.35375   \n",
       "0    2022-01-07 00:00:00  1.35381  1.35403  1.35319  1.35355  1.35390   \n",
       "\n",
       "                                last                        \n",
       "         High      Low    Close Open High Low Close Volume  \n",
       "8335  1.23570  1.23319  1.23440  NaN  NaN NaN   NaN   1736  \n",
       "8334  1.23382  1.23334  1.23343  NaN  NaN NaN   NaN    529  \n",
       "8333  1.23401  1.23354  1.23356  NaN  NaN NaN   NaN    603  \n",
       "8332  1.23435  1.23375  1.23392  NaN  NaN NaN   NaN    748  \n",
       "8331  1.23504  1.23410  1.23434  NaN  NaN NaN   NaN   2260  \n",
       "...       ...      ...      ...  ...  ...  ..   ...    ...  \n",
       "4     1.35349  1.35287  1.35308  NaN  NaN NaN   NaN   1285  \n",
       "3     1.35386  1.35304  1.35310  NaN  NaN NaN   NaN   1216  \n",
       "2     1.35401  1.35316  1.35371  NaN  NaN NaN   NaN   1558  \n",
       "1     1.35387  1.35324  1.35348  NaN  NaN NaN   NaN   1602  \n",
       "0     1.35414  1.35330  1.35370  NaN  NaN NaN   NaN   1700  \n",
       "\n",
       "[8336 rows x 14 columns]"
      ]
     },
     "execution_count": 291,
     "metadata": {},
     "output_type": "execute_result"
    }
   ],
   "source": [
    "df_history = df_history.sort_values(by=['DateTime'], ascending=False)\n",
    "df_history"
   ]
  },
  {
   "cell_type": "code",
   "execution_count": 292,
   "id": "ad823fb6",
   "metadata": {
    "scrolled": true
   },
   "outputs": [
    {
     "data": {
      "text/html": [
       "<div>\n",
       "<style scoped>\n",
       "    .dataframe tbody tr th:only-of-type {\n",
       "        vertical-align: middle;\n",
       "    }\n",
       "\n",
       "    .dataframe tbody tr th {\n",
       "        vertical-align: top;\n",
       "    }\n",
       "\n",
       "    .dataframe thead tr th {\n",
       "        text-align: left;\n",
       "    }\n",
       "</style>\n",
       "<table border=\"1\" class=\"dataframe\">\n",
       "  <thead>\n",
       "    <tr>\n",
       "      <th></th>\n",
       "      <th colspan=\"4\" halign=\"left\">bid</th>\n",
       "      <th colspan=\"4\" halign=\"left\">ask</th>\n",
       "      <th colspan=\"5\" halign=\"left\">last</th>\n",
       "    </tr>\n",
       "    <tr>\n",
       "      <th></th>\n",
       "      <th>Open</th>\n",
       "      <th>High</th>\n",
       "      <th>Low</th>\n",
       "      <th>Close</th>\n",
       "      <th>Open</th>\n",
       "      <th>High</th>\n",
       "      <th>Low</th>\n",
       "      <th>Close</th>\n",
       "      <th>Open</th>\n",
       "      <th>High</th>\n",
       "      <th>Low</th>\n",
       "      <th>Close</th>\n",
       "      <th>Volume</th>\n",
       "    </tr>\n",
       "  </thead>\n",
       "  <tbody>\n",
       "    <tr>\n",
       "      <th>count</th>\n",
       "      <td>8336.000000</td>\n",
       "      <td>8336.000000</td>\n",
       "      <td>8336.000000</td>\n",
       "      <td>8336.000000</td>\n",
       "      <td>8336.000000</td>\n",
       "      <td>8336.000000</td>\n",
       "      <td>8336.000000</td>\n",
       "      <td>8336.000000</td>\n",
       "      <td>0.0</td>\n",
       "      <td>0.0</td>\n",
       "      <td>0.0</td>\n",
       "      <td>0.0</td>\n",
       "      <td>8336.000000</td>\n",
       "    </tr>\n",
       "    <tr>\n",
       "      <th>mean</th>\n",
       "      <td>1.324072</td>\n",
       "      <td>1.324533</td>\n",
       "      <td>1.323598</td>\n",
       "      <td>1.324060</td>\n",
       "      <td>1.324275</td>\n",
       "      <td>1.324733</td>\n",
       "      <td>1.323799</td>\n",
       "      <td>1.324260</td>\n",
       "      <td>NaN</td>\n",
       "      <td>NaN</td>\n",
       "      <td>NaN</td>\n",
       "      <td>NaN</td>\n",
       "      <td>1817.988484</td>\n",
       "    </tr>\n",
       "    <tr>\n",
       "      <th>std</th>\n",
       "      <td>0.033622</td>\n",
       "      <td>0.033560</td>\n",
       "      <td>0.033687</td>\n",
       "      <td>0.033636</td>\n",
       "      <td>0.033617</td>\n",
       "      <td>0.033555</td>\n",
       "      <td>0.033683</td>\n",
       "      <td>0.033631</td>\n",
       "      <td>NaN</td>\n",
       "      <td>NaN</td>\n",
       "      <td>NaN</td>\n",
       "      <td>NaN</td>\n",
       "      <td>931.673778</td>\n",
       "    </tr>\n",
       "    <tr>\n",
       "      <th>min</th>\n",
       "      <td>1.227760</td>\n",
       "      <td>1.231020</td>\n",
       "      <td>1.227570</td>\n",
       "      <td>1.227770</td>\n",
       "      <td>1.227910</td>\n",
       "      <td>1.231140</td>\n",
       "      <td>1.227660</td>\n",
       "      <td>1.227920</td>\n",
       "      <td>NaN</td>\n",
       "      <td>NaN</td>\n",
       "      <td>NaN</td>\n",
       "      <td>NaN</td>\n",
       "      <td>2.000000</td>\n",
       "    </tr>\n",
       "    <tr>\n",
       "      <th>25%</th>\n",
       "      <td>1.306160</td>\n",
       "      <td>1.306598</td>\n",
       "      <td>1.305680</td>\n",
       "      <td>1.306165</td>\n",
       "      <td>1.306690</td>\n",
       "      <td>1.307090</td>\n",
       "      <td>1.306177</td>\n",
       "      <td>1.306697</td>\n",
       "      <td>NaN</td>\n",
       "      <td>NaN</td>\n",
       "      <td>NaN</td>\n",
       "      <td>NaN</td>\n",
       "      <td>1145.750000</td>\n",
       "    </tr>\n",
       "    <tr>\n",
       "      <th>50%</th>\n",
       "      <td>1.320425</td>\n",
       "      <td>1.320920</td>\n",
       "      <td>1.319935</td>\n",
       "      <td>1.320400</td>\n",
       "      <td>1.320680</td>\n",
       "      <td>1.321105</td>\n",
       "      <td>1.320205</td>\n",
       "      <td>1.320675</td>\n",
       "      <td>NaN</td>\n",
       "      <td>NaN</td>\n",
       "      <td>NaN</td>\n",
       "      <td>NaN</td>\n",
       "      <td>1702.000000</td>\n",
       "    </tr>\n",
       "    <tr>\n",
       "      <th>75%</th>\n",
       "      <td>1.354423</td>\n",
       "      <td>1.354780</td>\n",
       "      <td>1.354062</td>\n",
       "      <td>1.354430</td>\n",
       "      <td>1.354662</td>\n",
       "      <td>1.355010</td>\n",
       "      <td>1.354270</td>\n",
       "      <td>1.354652</td>\n",
       "      <td>NaN</td>\n",
       "      <td>NaN</td>\n",
       "      <td>NaN</td>\n",
       "      <td>NaN</td>\n",
       "      <td>2328.250000</td>\n",
       "    </tr>\n",
       "    <tr>\n",
       "      <th>max</th>\n",
       "      <td>1.374610</td>\n",
       "      <td>1.374840</td>\n",
       "      <td>1.373980</td>\n",
       "      <td>1.374620</td>\n",
       "      <td>1.374700</td>\n",
       "      <td>1.374930</td>\n",
       "      <td>1.374070</td>\n",
       "      <td>1.374710</td>\n",
       "      <td>NaN</td>\n",
       "      <td>NaN</td>\n",
       "      <td>NaN</td>\n",
       "      <td>NaN</td>\n",
       "      <td>7689.000000</td>\n",
       "    </tr>\n",
       "  </tbody>\n",
       "</table>\n",
       "</div>"
      ],
      "text/plain": [
       "               bid                                                 ask  \\\n",
       "              Open         High          Low        Close         Open   \n",
       "count  8336.000000  8336.000000  8336.000000  8336.000000  8336.000000   \n",
       "mean      1.324072     1.324533     1.323598     1.324060     1.324275   \n",
       "std       0.033622     0.033560     0.033687     0.033636     0.033617   \n",
       "min       1.227760     1.231020     1.227570     1.227770     1.227910   \n",
       "25%       1.306160     1.306598     1.305680     1.306165     1.306690   \n",
       "50%       1.320425     1.320920     1.319935     1.320400     1.320680   \n",
       "75%       1.354423     1.354780     1.354062     1.354430     1.354662   \n",
       "max       1.374610     1.374840     1.373980     1.374620     1.374700   \n",
       "\n",
       "                                             last                               \n",
       "              High          Low        Close Open High  Low Close       Volume  \n",
       "count  8336.000000  8336.000000  8336.000000  0.0  0.0  0.0   0.0  8336.000000  \n",
       "mean      1.324733     1.323799     1.324260  NaN  NaN  NaN   NaN  1817.988484  \n",
       "std       0.033555     0.033683     0.033631  NaN  NaN  NaN   NaN   931.673778  \n",
       "min       1.231140     1.227660     1.227920  NaN  NaN  NaN   NaN     2.000000  \n",
       "25%       1.307090     1.306177     1.306697  NaN  NaN  NaN   NaN  1145.750000  \n",
       "50%       1.321105     1.320205     1.320675  NaN  NaN  NaN   NaN  1702.000000  \n",
       "75%       1.355010     1.354270     1.354652  NaN  NaN  NaN   NaN  2328.250000  \n",
       "max       1.374930     1.374070     1.374710  NaN  NaN  NaN   NaN  7689.000000  "
      ]
     },
     "execution_count": 292,
     "metadata": {},
     "output_type": "execute_result"
    }
   ],
   "source": [
    "df_history.describe()"
   ]
  },
  {
   "cell_type": "code",
   "execution_count": 293,
   "id": "e1d6393c",
   "metadata": {},
   "outputs": [],
   "source": [
    "# Data local backup\n",
    "\n",
    "if not LOCAL_READ:\n",
    "    df_history.to_excel(f'''../data/{TARGET_EPIC}-{RESOLUTION}_{date.today()}.xlsx''', index=True)"
   ]
  },
  {
   "cell_type": "markdown",
   "id": "30082818",
   "metadata": {},
   "source": [
    "# Data Transformation"
   ]
  },
  {
   "cell_type": "markdown",
   "id": "fddf66b3",
   "metadata": {},
   "source": [
    "### Refer to the Notebook (Data_Transformer.ipynb) for the detailed process"
   ]
  },
  {
   "cell_type": "code",
   "execution_count": 294,
   "id": "c158c574",
   "metadata": {
    "scrolled": true
   },
   "outputs": [
    {
     "name": "stdout",
     "output_type": "stream",
     "text": [
      "Requirement already satisfied: round2 in c:\\users\\zaimp\\anaconda3\\envs\\scalpfx\\lib\\site-packages (0.0.4)\n",
      "Note: you may need to restart the kernel to use updated packages.\n"
     ]
    }
   ],
   "source": [
    "param = df_history\n",
    "mode = \"trainer\"\n",
    "%run ./utils/Data_Transformer.ipynb"
   ]
  },
  {
   "cell_type": "code",
   "execution_count": 295,
   "id": "ff11e595",
   "metadata": {},
   "outputs": [
    {
     "data": {
      "text/html": [
       "<div>\n",
       "<style scoped>\n",
       "    .dataframe tbody tr th:only-of-type {\n",
       "        vertical-align: middle;\n",
       "    }\n",
       "\n",
       "    .dataframe tbody tr th {\n",
       "        vertical-align: top;\n",
       "    }\n",
       "\n",
       "    .dataframe thead th {\n",
       "        text-align: right;\n",
       "    }\n",
       "</style>\n",
       "<table border=\"1\" class=\"dataframe\">\n",
       "  <thead>\n",
       "    <tr style=\"text-align: right;\">\n",
       "      <th></th>\n",
       "      <th>Open</th>\n",
       "      <th>High</th>\n",
       "      <th>Low</th>\n",
       "      <th>Close</th>\n",
       "      <th>Volume</th>\n",
       "      <th>O-H</th>\n",
       "      <th>O-L</th>\n",
       "      <th>C-H</th>\n",
       "      <th>C-L</th>\n",
       "      <th>H-L</th>\n",
       "      <th>O-C-Value</th>\n",
       "      <th>O-C-Sign</th>\n",
       "    </tr>\n",
       "  </thead>\n",
       "  <tbody>\n",
       "    <tr>\n",
       "      <th>8334</th>\n",
       "      <td>0.038346</td>\n",
       "      <td>0.018497</td>\n",
       "      <td>0.038590</td>\n",
       "      <td>0.037594</td>\n",
       "      <td>0.068557</td>\n",
       "      <td>0.042789</td>\n",
       "      <td>0.018727</td>\n",
       "      <td>0.030695</td>\n",
       "      <td>0.009626</td>\n",
       "      <td>0.032494</td>\n",
       "      <td>0.012182</td>\n",
       "      <td>0.0</td>\n",
       "    </tr>\n",
       "    <tr>\n",
       "      <th>8333</th>\n",
       "      <td>0.040866</td>\n",
       "      <td>0.019887</td>\n",
       "      <td>0.039956</td>\n",
       "      <td>0.038480</td>\n",
       "      <td>0.078184</td>\n",
       "      <td>0.015848</td>\n",
       "      <td>0.034644</td>\n",
       "      <td>0.036349</td>\n",
       "      <td>0.002139</td>\n",
       "      <td>0.032494</td>\n",
       "      <td>0.038760</td>\n",
       "      <td>0.0</td>\n",
       "    </tr>\n",
       "    <tr>\n",
       "      <th>8332</th>\n",
       "      <td>0.043863</td>\n",
       "      <td>0.022252</td>\n",
       "      <td>0.041322</td>\n",
       "      <td>0.040932</td>\n",
       "      <td>0.097047</td>\n",
       "      <td>0.000000</td>\n",
       "      <td>0.057116</td>\n",
       "      <td>0.034733</td>\n",
       "      <td>0.019251</td>\n",
       "      <td>0.043867</td>\n",
       "      <td>0.047619</td>\n",
       "      <td>0.0</td>\n",
       "    </tr>\n",
       "    <tr>\n",
       "      <th>8331</th>\n",
       "      <td>0.046247</td>\n",
       "      <td>0.026980</td>\n",
       "      <td>0.043781</td>\n",
       "      <td>0.043792</td>\n",
       "      <td>0.293743</td>\n",
       "      <td>0.052298</td>\n",
       "      <td>0.056180</td>\n",
       "      <td>0.055735</td>\n",
       "      <td>0.025668</td>\n",
       "      <td>0.069862</td>\n",
       "      <td>0.039867</td>\n",
       "      <td>0.0</td>\n",
       "    </tr>\n",
       "    <tr>\n",
       "      <th>8330</th>\n",
       "      <td>0.036712</td>\n",
       "      <td>0.026493</td>\n",
       "      <td>0.037497</td>\n",
       "      <td>0.046176</td>\n",
       "      <td>0.323663</td>\n",
       "      <td>0.263074</td>\n",
       "      <td>0.011236</td>\n",
       "      <td>0.021809</td>\n",
       "      <td>0.161497</td>\n",
       "      <td>0.138911</td>\n",
       "      <td>0.153931</td>\n",
       "      <td>1.0</td>\n",
       "    </tr>\n",
       "    <tr>\n",
       "      <th>...</th>\n",
       "      <td>...</td>\n",
       "      <td>...</td>\n",
       "      <td>...</td>\n",
       "      <td>...</td>\n",
       "      <td>...</td>\n",
       "      <td>...</td>\n",
       "      <td>...</td>\n",
       "      <td>...</td>\n",
       "      <td>...</td>\n",
       "      <td>...</td>\n",
       "      <td>...</td>\n",
       "      <td>...</td>\n",
       "    </tr>\n",
       "    <tr>\n",
       "      <th>4</th>\n",
       "      <td>0.852949</td>\n",
       "      <td>0.850914</td>\n",
       "      <td>0.855133</td>\n",
       "      <td>0.852687</td>\n",
       "      <td>0.166905</td>\n",
       "      <td>0.060222</td>\n",
       "      <td>0.023408</td>\n",
       "      <td>0.033118</td>\n",
       "      <td>0.023529</td>\n",
       "      <td>0.045491</td>\n",
       "      <td>0.003322</td>\n",
       "      <td>0.0</td>\n",
       "    </tr>\n",
       "    <tr>\n",
       "      <th>3</th>\n",
       "      <td>0.857172</td>\n",
       "      <td>0.853279</td>\n",
       "      <td>0.856294</td>\n",
       "      <td>0.852823</td>\n",
       "      <td>0.157929</td>\n",
       "      <td>0.015848</td>\n",
       "      <td>0.065543</td>\n",
       "      <td>0.058966</td>\n",
       "      <td>0.007487</td>\n",
       "      <td>0.059301</td>\n",
       "      <td>0.069767</td>\n",
       "      <td>0.0</td>\n",
       "    </tr>\n",
       "    <tr>\n",
       "      <th>2</th>\n",
       "      <td>0.855401</td>\n",
       "      <td>0.854530</td>\n",
       "      <td>0.857114</td>\n",
       "      <td>0.856977</td>\n",
       "      <td>0.202420</td>\n",
       "      <td>0.085578</td>\n",
       "      <td>0.029963</td>\n",
       "      <td>0.024233</td>\n",
       "      <td>0.059893</td>\n",
       "      <td>0.064175</td>\n",
       "      <td>0.026578</td>\n",
       "      <td>1.0</td>\n",
       "    </tr>\n",
       "    <tr>\n",
       "      <th>1</th>\n",
       "      <td>0.857104</td>\n",
       "      <td>0.853487</td>\n",
       "      <td>0.857592</td>\n",
       "      <td>0.855411</td>\n",
       "      <td>0.208144</td>\n",
       "      <td>0.022187</td>\n",
       "      <td>0.046816</td>\n",
       "      <td>0.030695</td>\n",
       "      <td>0.027807</td>\n",
       "      <td>0.046304</td>\n",
       "      <td>0.026578</td>\n",
       "      <td>0.0</td>\n",
       "    </tr>\n",
       "    <tr>\n",
       "      <th>0</th>\n",
       "      <td>0.858330</td>\n",
       "      <td>0.855365</td>\n",
       "      <td>0.858002</td>\n",
       "      <td>0.856705</td>\n",
       "      <td>0.220892</td>\n",
       "      <td>0.036450</td>\n",
       "      <td>0.058052</td>\n",
       "      <td>0.037157</td>\n",
       "      <td>0.041711</td>\n",
       "      <td>0.063363</td>\n",
       "      <td>0.025471</td>\n",
       "      <td>0.0</td>\n",
       "    </tr>\n",
       "  </tbody>\n",
       "</table>\n",
       "<p>8335 rows × 12 columns</p>\n",
       "</div>"
      ],
      "text/plain": [
       "          Open      High       Low     Close    Volume       O-H       O-L  \\\n",
       "8334  0.038346  0.018497  0.038590  0.037594  0.068557  0.042789  0.018727   \n",
       "8333  0.040866  0.019887  0.039956  0.038480  0.078184  0.015848  0.034644   \n",
       "8332  0.043863  0.022252  0.041322  0.040932  0.097047  0.000000  0.057116   \n",
       "8331  0.046247  0.026980  0.043781  0.043792  0.293743  0.052298  0.056180   \n",
       "8330  0.036712  0.026493  0.037497  0.046176  0.323663  0.263074  0.011236   \n",
       "...        ...       ...       ...       ...       ...       ...       ...   \n",
       "4     0.852949  0.850914  0.855133  0.852687  0.166905  0.060222  0.023408   \n",
       "3     0.857172  0.853279  0.856294  0.852823  0.157929  0.015848  0.065543   \n",
       "2     0.855401  0.854530  0.857114  0.856977  0.202420  0.085578  0.029963   \n",
       "1     0.857104  0.853487  0.857592  0.855411  0.208144  0.022187  0.046816   \n",
       "0     0.858330  0.855365  0.858002  0.856705  0.220892  0.036450  0.058052   \n",
       "\n",
       "           C-H       C-L       H-L  O-C-Value  O-C-Sign  \n",
       "8334  0.030695  0.009626  0.032494   0.012182       0.0  \n",
       "8333  0.036349  0.002139  0.032494   0.038760       0.0  \n",
       "8332  0.034733  0.019251  0.043867   0.047619       0.0  \n",
       "8331  0.055735  0.025668  0.069862   0.039867       0.0  \n",
       "8330  0.021809  0.161497  0.138911   0.153931       1.0  \n",
       "...        ...       ...       ...        ...       ...  \n",
       "4     0.033118  0.023529  0.045491   0.003322       0.0  \n",
       "3     0.058966  0.007487  0.059301   0.069767       0.0  \n",
       "2     0.024233  0.059893  0.064175   0.026578       1.0  \n",
       "1     0.030695  0.027807  0.046304   0.026578       0.0  \n",
       "0     0.037157  0.041711  0.063363   0.025471       0.0  \n",
       "\n",
       "[8335 rows x 12 columns]"
      ]
     },
     "execution_count": 295,
     "metadata": {},
     "output_type": "execute_result"
    }
   ],
   "source": [
    "df_min_max_scaled"
   ]
  },
  {
   "cell_type": "code",
   "execution_count": 296,
   "id": "448705e8",
   "metadata": {},
   "outputs": [
    {
     "data": {
      "text/html": [
       "<div>\n",
       "<style scoped>\n",
       "    .dataframe tbody tr th:only-of-type {\n",
       "        vertical-align: middle;\n",
       "    }\n",
       "\n",
       "    .dataframe tbody tr th {\n",
       "        vertical-align: top;\n",
       "    }\n",
       "\n",
       "    .dataframe thead tr th {\n",
       "        text-align: left;\n",
       "    }\n",
       "</style>\n",
       "<table border=\"1\" class=\"dataframe\">\n",
       "  <thead>\n",
       "    <tr>\n",
       "      <th></th>\n",
       "      <th>DateTime</th>\n",
       "      <th colspan=\"4\" halign=\"left\">bid</th>\n",
       "      <th colspan=\"4\" halign=\"left\">ask</th>\n",
       "      <th>last</th>\n",
       "      <th colspan=\"4\" halign=\"left\">mid</th>\n",
       "    </tr>\n",
       "    <tr>\n",
       "      <th></th>\n",
       "      <th></th>\n",
       "      <th>Open</th>\n",
       "      <th>High</th>\n",
       "      <th>Low</th>\n",
       "      <th>Close</th>\n",
       "      <th>Open</th>\n",
       "      <th>High</th>\n",
       "      <th>Low</th>\n",
       "      <th>Close</th>\n",
       "      <th>Volume</th>\n",
       "      <th>Open</th>\n",
       "      <th>High</th>\n",
       "      <th>Low</th>\n",
       "      <th>Close</th>\n",
       "    </tr>\n",
       "  </thead>\n",
       "  <tbody>\n",
       "    <tr>\n",
       "      <th>8334</th>\n",
       "      <td>2022-05-07 04:30:00</td>\n",
       "      <td>1.23340</td>\n",
       "      <td>1.23367</td>\n",
       "      <td>1.23319</td>\n",
       "      <td>1.23328</td>\n",
       "      <td>1.23355</td>\n",
       "      <td>1.23382</td>\n",
       "      <td>1.23334</td>\n",
       "      <td>1.23343</td>\n",
       "      <td>529</td>\n",
       "      <td>1.23347</td>\n",
       "      <td>1.23374</td>\n",
       "      <td>1.23327</td>\n",
       "      <td>1.23336</td>\n",
       "    </tr>\n",
       "    <tr>\n",
       "      <th>8333</th>\n",
       "      <td>2022-05-07 04:15:00</td>\n",
       "      <td>1.23376</td>\n",
       "      <td>1.23386</td>\n",
       "      <td>1.23339</td>\n",
       "      <td>1.23341</td>\n",
       "      <td>1.23391</td>\n",
       "      <td>1.23401</td>\n",
       "      <td>1.23354</td>\n",
       "      <td>1.23356</td>\n",
       "      <td>603</td>\n",
       "      <td>1.23384</td>\n",
       "      <td>1.23394</td>\n",
       "      <td>1.23347</td>\n",
       "      <td>1.23349</td>\n",
       "    </tr>\n",
       "    <tr>\n",
       "      <th>8332</th>\n",
       "      <td>2022-05-07 04:00:00</td>\n",
       "      <td>1.23420</td>\n",
       "      <td>1.23420</td>\n",
       "      <td>1.23360</td>\n",
       "      <td>1.23377</td>\n",
       "      <td>1.23435</td>\n",
       "      <td>1.23435</td>\n",
       "      <td>1.23375</td>\n",
       "      <td>1.23392</td>\n",
       "      <td>748</td>\n",
       "      <td>1.23428</td>\n",
       "      <td>1.23428</td>\n",
       "      <td>1.23367</td>\n",
       "      <td>1.23385</td>\n",
       "    </tr>\n",
       "    <tr>\n",
       "      <th>8331</th>\n",
       "      <td>2022-05-07 03:45:00</td>\n",
       "      <td>1.23456</td>\n",
       "      <td>1.23489</td>\n",
       "      <td>1.23395</td>\n",
       "      <td>1.23419</td>\n",
       "      <td>1.23471</td>\n",
       "      <td>1.23504</td>\n",
       "      <td>1.23410</td>\n",
       "      <td>1.23434</td>\n",
       "      <td>2260</td>\n",
       "      <td>1.23463</td>\n",
       "      <td>1.23496</td>\n",
       "      <td>1.23403</td>\n",
       "      <td>1.23427</td>\n",
       "    </tr>\n",
       "    <tr>\n",
       "      <th>8330</th>\n",
       "      <td>2022-05-07 03:30:00</td>\n",
       "      <td>1.23318</td>\n",
       "      <td>1.23482</td>\n",
       "      <td>1.23305</td>\n",
       "      <td>1.23455</td>\n",
       "      <td>1.23327</td>\n",
       "      <td>1.23497</td>\n",
       "      <td>1.23317</td>\n",
       "      <td>1.23470</td>\n",
       "      <td>2490</td>\n",
       "      <td>1.23323</td>\n",
       "      <td>1.23489</td>\n",
       "      <td>1.23311</td>\n",
       "      <td>1.23462</td>\n",
       "    </tr>\n",
       "    <tr>\n",
       "      <th>...</th>\n",
       "      <td>...</td>\n",
       "      <td>...</td>\n",
       "      <td>...</td>\n",
       "      <td>...</td>\n",
       "      <td>...</td>\n",
       "      <td>...</td>\n",
       "      <td>...</td>\n",
       "      <td>...</td>\n",
       "      <td>...</td>\n",
       "      <td>...</td>\n",
       "      <td>...</td>\n",
       "      <td>...</td>\n",
       "      <td>...</td>\n",
       "      <td>...</td>\n",
       "    </tr>\n",
       "    <tr>\n",
       "      <th>4</th>\n",
       "      <td>2022-01-07 01:00:00</td>\n",
       "      <td>1.35302</td>\n",
       "      <td>1.35340</td>\n",
       "      <td>1.35277</td>\n",
       "      <td>1.35299</td>\n",
       "      <td>1.35311</td>\n",
       "      <td>1.35349</td>\n",
       "      <td>1.35287</td>\n",
       "      <td>1.35308</td>\n",
       "      <td>1285</td>\n",
       "      <td>1.35307</td>\n",
       "      <td>1.35345</td>\n",
       "      <td>1.35282</td>\n",
       "      <td>1.35304</td>\n",
       "    </tr>\n",
       "    <tr>\n",
       "      <th>3</th>\n",
       "      <td>2022-01-07 00:45:00</td>\n",
       "      <td>1.35364</td>\n",
       "      <td>1.35372</td>\n",
       "      <td>1.35294</td>\n",
       "      <td>1.35301</td>\n",
       "      <td>1.35373</td>\n",
       "      <td>1.35386</td>\n",
       "      <td>1.35304</td>\n",
       "      <td>1.35310</td>\n",
       "      <td>1216</td>\n",
       "      <td>1.35369</td>\n",
       "      <td>1.35379</td>\n",
       "      <td>1.35299</td>\n",
       "      <td>1.35306</td>\n",
       "    </tr>\n",
       "    <tr>\n",
       "      <th>2</th>\n",
       "      <td>2022-01-07 00:30:00</td>\n",
       "      <td>1.35338</td>\n",
       "      <td>1.35392</td>\n",
       "      <td>1.35305</td>\n",
       "      <td>1.35362</td>\n",
       "      <td>1.35347</td>\n",
       "      <td>1.35401</td>\n",
       "      <td>1.35316</td>\n",
       "      <td>1.35371</td>\n",
       "      <td>1558</td>\n",
       "      <td>1.35343</td>\n",
       "      <td>1.35397</td>\n",
       "      <td>1.35311</td>\n",
       "      <td>1.35367</td>\n",
       "    </tr>\n",
       "    <tr>\n",
       "      <th>1</th>\n",
       "      <td>2022-01-07 00:15:00</td>\n",
       "      <td>1.35360</td>\n",
       "      <td>1.35376</td>\n",
       "      <td>1.35311</td>\n",
       "      <td>1.35339</td>\n",
       "      <td>1.35375</td>\n",
       "      <td>1.35387</td>\n",
       "      <td>1.35324</td>\n",
       "      <td>1.35348</td>\n",
       "      <td>1602</td>\n",
       "      <td>1.35368</td>\n",
       "      <td>1.35382</td>\n",
       "      <td>1.35318</td>\n",
       "      <td>1.35344</td>\n",
       "    </tr>\n",
       "    <tr>\n",
       "      <th>0</th>\n",
       "      <td>2022-01-07 00:00:00</td>\n",
       "      <td>1.35381</td>\n",
       "      <td>1.35403</td>\n",
       "      <td>1.35319</td>\n",
       "      <td>1.35355</td>\n",
       "      <td>1.35390</td>\n",
       "      <td>1.35414</td>\n",
       "      <td>1.35330</td>\n",
       "      <td>1.35370</td>\n",
       "      <td>1700</td>\n",
       "      <td>1.35386</td>\n",
       "      <td>1.35409</td>\n",
       "      <td>1.35324</td>\n",
       "      <td>1.35363</td>\n",
       "    </tr>\n",
       "  </tbody>\n",
       "</table>\n",
       "<p>8335 rows × 14 columns</p>\n",
       "</div>"
      ],
      "text/plain": [
       "                DateTime      bid                                 ask  \\\n",
       "                             Open     High      Low    Close     Open   \n",
       "8334 2022-05-07 04:30:00  1.23340  1.23367  1.23319  1.23328  1.23355   \n",
       "8333 2022-05-07 04:15:00  1.23376  1.23386  1.23339  1.23341  1.23391   \n",
       "8332 2022-05-07 04:00:00  1.23420  1.23420  1.23360  1.23377  1.23435   \n",
       "8331 2022-05-07 03:45:00  1.23456  1.23489  1.23395  1.23419  1.23471   \n",
       "8330 2022-05-07 03:30:00  1.23318  1.23482  1.23305  1.23455  1.23327   \n",
       "...                  ...      ...      ...      ...      ...      ...   \n",
       "4    2022-01-07 01:00:00  1.35302  1.35340  1.35277  1.35299  1.35311   \n",
       "3    2022-01-07 00:45:00  1.35364  1.35372  1.35294  1.35301  1.35373   \n",
       "2    2022-01-07 00:30:00  1.35338  1.35392  1.35305  1.35362  1.35347   \n",
       "1    2022-01-07 00:15:00  1.35360  1.35376  1.35311  1.35339  1.35375   \n",
       "0    2022-01-07 00:00:00  1.35381  1.35403  1.35319  1.35355  1.35390   \n",
       "\n",
       "                                  last      mid                             \n",
       "         High      Low    Close Volume     Open     High      Low    Close  \n",
       "8334  1.23382  1.23334  1.23343    529  1.23347  1.23374  1.23327  1.23336  \n",
       "8333  1.23401  1.23354  1.23356    603  1.23384  1.23394  1.23347  1.23349  \n",
       "8332  1.23435  1.23375  1.23392    748  1.23428  1.23428  1.23367  1.23385  \n",
       "8331  1.23504  1.23410  1.23434   2260  1.23463  1.23496  1.23403  1.23427  \n",
       "8330  1.23497  1.23317  1.23470   2490  1.23323  1.23489  1.23311  1.23462  \n",
       "...       ...      ...      ...    ...      ...      ...      ...      ...  \n",
       "4     1.35349  1.35287  1.35308   1285  1.35307  1.35345  1.35282  1.35304  \n",
       "3     1.35386  1.35304  1.35310   1216  1.35369  1.35379  1.35299  1.35306  \n",
       "2     1.35401  1.35316  1.35371   1558  1.35343  1.35397  1.35311  1.35367  \n",
       "1     1.35387  1.35324  1.35348   1602  1.35368  1.35382  1.35318  1.35344  \n",
       "0     1.35414  1.35330  1.35370   1700  1.35386  1.35409  1.35324  1.35363  \n",
       "\n",
       "[8335 rows x 14 columns]"
      ]
     },
     "execution_count": 296,
     "metadata": {},
     "output_type": "execute_result"
    }
   ],
   "source": [
    "df_history2"
   ]
  },
  {
   "cell_type": "markdown",
   "id": "2c4c7a7a",
   "metadata": {},
   "source": [
    "# Build the Predictive Models"
   ]
  },
  {
   "cell_type": "code",
   "execution_count": 175,
   "id": "ba8a87c9",
   "metadata": {
    "scrolled": true
   },
   "outputs": [
    {
     "name": "stdout",
     "output_type": "stream",
     "text": [
      "Requirement already satisfied: tensorflow in c:\\users\\zaimp\\anaconda3\\envs\\scalpfx\\lib\\site-packages (2.8.0)Note: you may need to restart the kernel to use updated packages.\n",
      "Requirement already satisfied: opt-einsum>=2.3.2 in c:\\users\\zaimp\\anaconda3\\envs\\scalpfx\\lib\\site-packages (from tensorflow) (3.3.0)\n",
      "Requirement already satisfied: protobuf>=3.9.2 in c:\\users\\zaimp\\anaconda3\\envs\\scalpfx\\lib\\site-packages (from tensorflow) (3.20.1)\n",
      "Requirement already satisfied: termcolor>=1.1.0 in c:\\users\\zaimp\\anaconda3\\envs\\scalpfx\\lib\\site-packages (from tensorflow) (1.1.0)\n",
      "Requirement already satisfied: libclang>=9.0.1 in c:\\users\\zaimp\\anaconda3\\envs\\scalpfx\\lib\\site-packages (from tensorflow) (14.0.1)\n",
      "Requirement already satisfied: astunparse>=1.6.0 in c:\\users\\zaimp\\anaconda3\\envs\\scalpfx\\lib\\site-packages (from tensorflow) (1.6.3)\n",
      "Requirement already satisfied: absl-py>=0.4.0 in c:\\users\\zaimp\\anaconda3\\envs\\scalpfx\\lib\\site-packages (from tensorflow) (1.0.0)\n",
      "Requirement already satisfied: keras-preprocessing>=1.1.1 in c:\\users\\zaimp\\anaconda3\\envs\\scalpfx\\lib\\site-packages (from tensorflow) (1.1.2)\n",
      "Requirement already satisfied: setuptools in c:\\users\\zaimp\\anaconda3\\envs\\scalpfx\\lib\\site-packages (from tensorflow) (58.0.4)\n",
      "Requirement already satisfied: typing-extensions>=3.6.6 in c:\\users\\zaimp\\anaconda3\\envs\\scalpfx\\lib\\site-packages (from tensorflow) (3.10.0.2)\n",
      "Requirement already satisfied: h5py>=2.9.0 in c:\\users\\zaimp\\anaconda3\\envs\\scalpfx\\lib\\site-packages (from tensorflow) (3.2.1)\n",
      "Requirement already satisfied: tensorboard<2.9,>=2.8 in c:\\users\\zaimp\\anaconda3\\envs\\scalpfx\\lib\\site-packages (from tensorflow) (2.8.0)\n",
      "Requirement already satisfied: google-pasta>=0.1.1 in c:\\users\\zaimp\\anaconda3\\envs\\scalpfx\\lib\\site-packages (from tensorflow) (0.2.0)\n",
      "Requirement already satisfied: six>=1.12.0 in c:\\users\\zaimp\\anaconda3\\envs\\scalpfx\\lib\\site-packages (from tensorflow) (1.16.0)\n",
      "Requirement already satisfied: gast>=0.2.1 in c:\\users\\zaimp\\anaconda3\\envs\\scalpfx\\lib\\site-packages (from tensorflow) (0.5.3)\n",
      "Requirement already satisfied: grpcio<2.0,>=1.24.3 in c:\\users\\zaimp\\anaconda3\\envs\\scalpfx\\lib\\site-packages (from tensorflow) (1.46.0)\n",
      "Requirement already satisfied: numpy>=1.20 in c:\\users\\zaimp\\anaconda3\\envs\\scalpfx\\lib\\site-packages (from tensorflow) (1.20.3)\n",
      "Requirement already satisfied: tensorflow-io-gcs-filesystem>=0.23.1 in c:\\users\\zaimp\\anaconda3\\envs\\scalpfx\\lib\\site-packages (from tensorflow) (0.25.0)\n",
      "Requirement already satisfied: flatbuffers>=1.12 in c:\\users\\zaimp\\anaconda3\\envs\\scalpfx\\lib\\site-packages (from tensorflow) (2.0)\n",
      "Requirement already satisfied: keras<2.9,>=2.8.0rc0 in c:\\users\\zaimp\\anaconda3\\envs\\scalpfx\\lib\\site-packages (from tensorflow) (2.8.0)\n",
      "Requirement already satisfied: tf-estimator-nightly==2.8.0.dev2021122109 in c:\\users\\zaimp\\anaconda3\\envs\\scalpfx\\lib\\site-packages (from tensorflow) (2.8.0.dev2021122109)\n",
      "Requirement already satisfied: wrapt>=1.11.0 in c:\\users\\zaimp\\anaconda3\\envs\\scalpfx\\lib\\site-packages (from tensorflow) (1.12.1)\n",
      "Requirement already satisfied: wheel<1.0,>=0.23.0 in c:\\users\\zaimp\\anaconda3\\envs\\scalpfx\\lib\\site-packages (from astunparse>=1.6.0->tensorflow) (0.37.0)\n",
      "Requirement already satisfied: requests<3,>=2.21.0 in c:\\users\\zaimp\\anaconda3\\envs\\scalpfx\\lib\\site-packages (from tensorboard<2.9,>=2.8->tensorflow) (2.26.0)\n",
      "Requirement already satisfied: tensorboard-data-server<0.7.0,>=0.6.0 in c:\\users\\zaimp\\anaconda3\\envs\\scalpfx\\lib\\site-packages (from tensorboard<2.9,>=2.8->tensorflow) (0.6.1)\n",
      "Requirement already satisfied: google-auth-oauthlib<0.5,>=0.4.1 in c:\\users\\zaimp\\anaconda3\\envs\\scalpfx\\lib\\site-packages (from tensorboard<2.9,>=2.8->tensorflow) (0.4.6)\n",
      "Requirement already satisfied: tensorboard-plugin-wit>=1.6.0 in c:\\users\\zaimp\\anaconda3\\envs\\scalpfx\\lib\\site-packages (from tensorboard<2.9,>=2.8->tensorflow) (1.8.1)\n",
      "Requirement already satisfied: google-auth<3,>=1.6.3 in c:\\users\\zaimp\\anaconda3\\envs\\scalpfx\\lib\\site-packages (from tensorboard<2.9,>=2.8->tensorflow) (2.6.6)\n",
      "Requirement already satisfied: markdown>=2.6.8 in c:\\users\\zaimp\\anaconda3\\envs\\scalpfx\\lib\\site-packages (from tensorboard<2.9,>=2.8->tensorflow) (3.3.7)\n",
      "Requirement already satisfied: werkzeug>=0.11.15 in c:\\users\\zaimp\\anaconda3\\envs\\scalpfx\\lib\\site-packages (from tensorboard<2.9,>=2.8->tensorflow) (2.0.2)\n",
      "Requirement already satisfied: pyasn1-modules>=0.2.1 in c:\\users\\zaimp\\anaconda3\\envs\\scalpfx\\lib\\site-packages (from google-auth<3,>=1.6.3->tensorboard<2.9,>=2.8->tensorflow) (0.2.8)\n",
      "Requirement already satisfied: cachetools<6.0,>=2.0.0 in c:\\users\\zaimp\\anaconda3\\envs\\scalpfx\\lib\\site-packages (from google-auth<3,>=1.6.3->tensorboard<2.9,>=2.8->tensorflow) (5.0.0)\n",
      "Requirement already satisfied: rsa<5,>=3.1.4 in c:\\users\\zaimp\\anaconda3\\envs\\scalpfx\\lib\\site-packages (from google-auth<3,>=1.6.3->tensorboard<2.9,>=2.8->tensorflow) (4.8)\n",
      "Requirement already satisfied: requests-oauthlib>=0.7.0 in c:\\users\\zaimp\\anaconda3\\envs\\scalpfx\\lib\\site-packages (from google-auth-oauthlib<0.5,>=0.4.1->tensorboard<2.9,>=2.8->tensorflow) (1.3.1)\n",
      "Requirement already satisfied: importlib-metadata>=4.4 in c:\\users\\zaimp\\anaconda3\\envs\\scalpfx\\lib\\site-packages (from markdown>=2.6.8->tensorboard<2.9,>=2.8->tensorflow) (4.8.1)\n",
      "Requirement already satisfied: zipp>=0.5 in c:\\users\\zaimp\\anaconda3\\envs\\scalpfx\\lib\\site-packages (from importlib-metadata>=4.4->markdown>=2.6.8->tensorboard<2.9,>=2.8->tensorflow) (3.6.0)\n",
      "Requirement already satisfied: pyasn1<0.5.0,>=0.4.6 in c:\\users\\zaimp\\anaconda3\\envs\\scalpfx\\lib\\site-packages (from pyasn1-modules>=0.2.1->google-auth<3,>=1.6.3->tensorboard<2.9,>=2.8->tensorflow) (0.4.8)\n",
      "Requirement already satisfied: certifi>=2017.4.17 in c:\\users\\zaimp\\anaconda3\\envs\\scalpfx\\lib\\site-packages (from requests<3,>=2.21.0->tensorboard<2.9,>=2.8->tensorflow) (2021.10.8)\n",
      "Requirement already satisfied: idna<4,>=2.5 in c:\\users\\zaimp\\anaconda3\\envs\\scalpfx\\lib\\site-packages (from requests<3,>=2.21.0->tensorboard<2.9,>=2.8->tensorflow) (3.2)\n",
      "Requirement already satisfied: urllib3<1.27,>=1.21.1 in c:\\users\\zaimp\\anaconda3\\envs\\scalpfx\\lib\\site-packages (from requests<3,>=2.21.0->tensorboard<2.9,>=2.8->tensorflow) (1.26.7)\n",
      "Requirement already satisfied: charset-normalizer~=2.0.0 in c:\\users\\zaimp\\anaconda3\\envs\\scalpfx\\lib\\site-packages (from requests<3,>=2.21.0->tensorboard<2.9,>=2.8->tensorflow) (2.0.4)\n",
      "Requirement already satisfied: oauthlib>=3.0.0 in c:\\users\\zaimp\\anaconda3\\envs\\scalpfx\\lib\\site-packages (from requests-oauthlib>=0.7.0->google-auth-oauthlib<0.5,>=0.4.1->tensorboard<2.9,>=2.8->tensorflow) (3.2.0)\n",
      "\n"
     ]
    }
   ],
   "source": [
    "pip install tensorflow"
   ]
  },
  {
   "cell_type": "code",
   "execution_count": 176,
   "id": "615cae89",
   "metadata": {},
   "outputs": [],
   "source": [
    "df = df_min_max_scaled.copy()"
   ]
  },
  {
   "cell_type": "code",
   "execution_count": 177,
   "id": "af89c99f",
   "metadata": {},
   "outputs": [],
   "source": [
    "column_indices = {name: i for i, name in enumerate(df.columns)}\n",
    "\n",
    "n = len(df)\n",
    "train_df = df[0:int(n*0.7)]\n",
    "val_df = df[int(n*0.7):int(n*0.9)]\n",
    "test_df = df[int(n*0.9):]\n",
    "\n",
    "num_features = df.shape[1]"
   ]
  },
  {
   "cell_type": "code",
   "execution_count": 178,
   "id": "253c4e7e",
   "metadata": {},
   "outputs": [],
   "source": [
    "import numpy as np\n",
    "\n",
    "class WindowGenerator():\n",
    "    def __init__(self, input_width, label_width, shift,\n",
    "                 train_df=train_df, val_df=val_df, test_df=test_df,\n",
    "                 label_columns=None):\n",
    "        # Store the raw data.\n",
    "        self.train_df = train_df\n",
    "        self.val_df = val_df\n",
    "        self.test_df = test_df\n",
    "\n",
    "        # Work out the label column indices.\n",
    "        self.label_columns = label_columns\n",
    "        if label_columns is not None:\n",
    "            self.label_columns_indices = {name: i for i, name in\n",
    "                                          enumerate(label_columns)}\n",
    "            self.column_indices = {name: i for i, name in\n",
    "                                   enumerate(train_df.columns)}\n",
    "\n",
    "        # Work out the window parameters.\n",
    "        self.input_width = input_width\n",
    "        self.label_width = label_width\n",
    "        self.shift = shift\n",
    "\n",
    "        self.total_window_size = input_width + shift\n",
    "\n",
    "        self.input_slice = slice(0, input_width)\n",
    "        self.input_indices = np.arange(self.total_window_size)[self.input_slice]\n",
    "\n",
    "        self.label_start = self.total_window_size - self.label_width\n",
    "        self.labels_slice = slice(self.label_start, None)\n",
    "        self.label_indices = np.arange(self.total_window_size)[self.labels_slice]\n",
    "\n",
    "    def __repr__(self):\n",
    "        return '\\n'.join([\n",
    "            f'Total window size: {self.total_window_size}',\n",
    "            f'Input indices: {self.input_indices}',\n",
    "            f'Label indices: {self.label_indices}',\n",
    "            f'Label column name(s): {self.label_columns}'])"
   ]
  },
  {
   "cell_type": "code",
   "execution_count": 179,
   "id": "cb8e88ec",
   "metadata": {},
   "outputs": [
    {
     "data": {
      "text/plain": [
       "Total window size: 48\n",
       "Input indices: [ 0  1  2  3  4  5  6  7  8  9 10 11 12 13 14 15 16 17 18 19 20 21 22 23]\n",
       "Label indices: [47]\n",
       "Label column name(s): ['Close']"
      ]
     },
     "execution_count": 179,
     "metadata": {},
     "output_type": "execute_result"
    }
   ],
   "source": [
    "w1 = WindowGenerator(input_width=24, label_width=1, shift=24,\n",
    "                     label_columns=['Close'])\n",
    "w1"
   ]
  },
  {
   "cell_type": "code",
   "execution_count": 180,
   "id": "6c59496e",
   "metadata": {},
   "outputs": [
    {
     "data": {
      "text/plain": [
       "Total window size: 8\n",
       "Input indices: [0 1 2 3 4 5 6]\n",
       "Label indices: [7]\n",
       "Label column name(s): ['Close']"
      ]
     },
     "execution_count": 180,
     "metadata": {},
     "output_type": "execute_result"
    }
   ],
   "source": [
    "w2 = WindowGenerator(input_width=7, label_width=1, shift=1,\n",
    "                     label_columns=['Close'])\n",
    "w2"
   ]
  },
  {
   "cell_type": "code",
   "execution_count": 181,
   "id": "3f0861a1",
   "metadata": {},
   "outputs": [],
   "source": [
    "def split_window(self, features):\n",
    "    inputs = features[:, self.input_slice, :]\n",
    "    labels = features[:, self.labels_slice, :]\n",
    "    if self.label_columns is not None:\n",
    "        labels = tf.stack(\n",
    "            [labels[:, :, self.column_indices[name]] for name in self.label_columns], axis=-1)\n",
    "        \n",
    "    # Slicing doesn't preserve static shape information, so set the shapes\n",
    "    # manually. This way the `tf.data.Datasets` are easier to inspect.\n",
    "    inputs.set_shape([None, self.input_width, None])\n",
    "    labels.set_shape([None, self.label_width, None])\n",
    "    \n",
    "    return inputs, labels\n",
    "\n",
    "WindowGenerator.split_window = split_window"
   ]
  },
  {
   "cell_type": "code",
   "execution_count": 182,
   "id": "a02156f8",
   "metadata": {},
   "outputs": [],
   "source": [
    "import tensorflow as tf"
   ]
  },
  {
   "cell_type": "code",
   "execution_count": 183,
   "id": "f2860f9c",
   "metadata": {},
   "outputs": [
    {
     "name": "stdout",
     "output_type": "stream",
     "text": [
      "All shapes are: (batch, time, features)\n",
      "Window shape: (3, 8, 12)\n",
      "Inputs shape: (3, 7, 12)\n",
      "Labels shape: (3, 1, 1)\n"
     ]
    }
   ],
   "source": [
    "# Stack three slices, the length of the total window.\n",
    "example_window = tf.stack([np.array(train_df[:w2.total_window_size]),\n",
    "                           np.array(train_df[100:100+w2.total_window_size]),\n",
    "                           np.array(train_df[200:200+w2.total_window_size])])\n",
    "\n",
    "example_inputs, example_labels = w2.split_window(example_window)\n",
    "\n",
    "print('All shapes are: (batch, time, features)')\n",
    "print(f'Window shape: {example_window.shape}')\n",
    "print(f'Inputs shape: {example_inputs.shape}')\n",
    "print(f'Labels shape: {example_labels.shape}')"
   ]
  },
  {
   "cell_type": "code",
   "execution_count": 184,
   "id": "e80655de",
   "metadata": {},
   "outputs": [],
   "source": [
    "w2.example = example_inputs, example_labels"
   ]
  },
  {
   "cell_type": "code",
   "execution_count": 185,
   "id": "a9608e71",
   "metadata": {},
   "outputs": [],
   "source": [
    "import matplotlib.pyplot as plt\n",
    "\n",
    "def plot(self, model=None, plot_col='Close', max_subplots=3):\n",
    "    inputs, labels = self.example\n",
    "    plt.figure(figsize=(12, 8))\n",
    "    plot_col_index = self.column_indices[plot_col]\n",
    "    max_n = min(max_subplots, len(inputs))\n",
    "    \n",
    "    for n in range(max_n):\n",
    "        plt.subplot(max_n, 1, n+1)\n",
    "        plt.ylabel(f'{plot_col} [normed]')\n",
    "        plt.plot(self.input_indices, inputs[n, :, plot_col_index],\n",
    "                 label='Inputs', marker='.', zorder=-10)\n",
    "\n",
    "        if self.label_columns:\n",
    "            label_col_index = self.label_columns_indices.get(plot_col, None)\n",
    "        else:\n",
    "            label_col_index = plot_col_index\n",
    "\n",
    "        if label_col_index is None:\n",
    "            continue\n",
    "\n",
    "        plt.scatter(self.label_indices, labels[n, :, label_col_index],\n",
    "                    edgecolors='k', label='Labels', c='#2ca02c', s=64)\n",
    "        if model is not None:\n",
    "            predictions = model(inputs)\n",
    "            plt.scatter(self.label_indices, predictions[n, :, label_col_index],\n",
    "                        marker='X', edgecolors='k', label='Predictions',\n",
    "                        c='#ff7f0e', s=64)\n",
    "\n",
    "        if n == 0:\n",
    "            plt.legend()\n",
    "        \n",
    "    plt.xlabel('DateTime')\n",
    "\n",
    "WindowGenerator.plot = plot"
   ]
  },
  {
   "cell_type": "code",
   "execution_count": 186,
   "id": "a8d7462c",
   "metadata": {},
   "outputs": [
    {
     "data": {
      "image/png": "[encoded data removed]",
      "text/plain": [
       "<Figure size 864x576 with 3 Axes>"
      ]
     },
     "metadata": {
      "needs_background": "light"
     },
     "output_type": "display_data"
    }
   ],
   "source": [
    "w2.plot()"
   ]
  },
  {
   "cell_type": "code",
   "execution_count": 187,
   "id": "3730dd91",
   "metadata": {},
   "outputs": [],
   "source": [
    "def make_dataset(self, data):\n",
    "    data = np.array(data, dtype=np.float32)\n",
    "    ds = tf.keras.utils.timeseries_dataset_from_array(\n",
    "        data=data,\n",
    "        targets=None,\n",
    "        sequence_length=self.total_window_size,\n",
    "        sequence_stride=1,\n",
    "        shuffle=True,\n",
    "        batch_size=32,)\n",
    "    \n",
    "    ds = ds.map(self.split_window)\n",
    "    return ds\n",
    "\n",
    "WindowGenerator.make_dataset = make_dataset"
   ]
  },
  {
   "cell_type": "code",
   "execution_count": 188,
   "id": "6321fc38",
   "metadata": {},
   "outputs": [],
   "source": [
    "@property\n",
    "def train(self):\n",
    "    return self.make_dataset(self.train_df)\n",
    "\n",
    "@property\n",
    "def val(self):\n",
    "    return self.make_dataset(self.val_df)\n",
    "\n",
    "@property\n",
    "def test(self):\n",
    "    return self.make_dataset(self.test_df)\n",
    "\n",
    "@property\n",
    "def example(self):\n",
    "    \"\"\"Get and cache an example batch of `inputs, labels` for plotting.\"\"\"\n",
    "    result = getattr(self, '_example', None)\n",
    "    if result is None:\n",
    "        # No example batch was found, so get one from the `.train` dataset\n",
    "        result = next(iter(self.train))\n",
    "        # And cache it for next time\n",
    "        self._example = result\n",
    "    return result\n",
    "\n",
    "WindowGenerator.train = train\n",
    "WindowGenerator.val = val\n",
    "WindowGenerator.test = test\n",
    "WindowGenerator.example = example"
   ]
  },
  {
   "cell_type": "code",
   "execution_count": 189,
   "id": "fab91675",
   "metadata": {},
   "outputs": [
    {
     "data": {
      "text/plain": [
       "(TensorSpec(shape=(None, 7, 12), dtype=tf.float32, name=None),\n",
       " TensorSpec(shape=(None, 1, 1), dtype=tf.float32, name=None))"
      ]
     },
     "execution_count": 189,
     "metadata": {},
     "output_type": "execute_result"
    }
   ],
   "source": [
    "# Each element is an (inputs, label) pair.\n",
    "w2.train.element_spec"
   ]
  },
  {
   "cell_type": "code",
   "execution_count": 190,
   "id": "7bf88a61",
   "metadata": {},
   "outputs": [
    {
     "name": "stdout",
     "output_type": "stream",
     "text": [
      "Inputs shape (batch, time, features): (32, 7, 12)\n",
      "Labels shape (batch, time, features): (32, 1, 1)\n"
     ]
    }
   ],
   "source": [
    "for example_inputs, example_labels in w2.train.take(1):\n",
    "    print(f'Inputs shape (batch, time, features): {example_inputs.shape}')\n",
    "    print(f'Labels shape (batch, time, features): {example_labels.shape}')"
   ]
  },
  {
   "cell_type": "markdown",
   "id": "e0e2d123",
   "metadata": {},
   "source": [
    "### Single-Step Models"
   ]
  },
  {
   "cell_type": "code",
   "execution_count": 191,
   "id": "def6ce87",
   "metadata": {},
   "outputs": [
    {
     "data": {
      "text/plain": [
       "Total window size: 2\n",
       "Input indices: [0]\n",
       "Label indices: [1]\n",
       "Label column name(s): ['Close']"
      ]
     },
     "execution_count": 191,
     "metadata": {},
     "output_type": "execute_result"
    }
   ],
   "source": [
    "single_step_window = WindowGenerator(\n",
    "    input_width=1, label_width=1, shift=1,\n",
    "    label_columns=['Close'])\n",
    "single_step_window"
   ]
  },
  {
   "cell_type": "code",
   "execution_count": 192,
   "id": "a0b61489",
   "metadata": {},
   "outputs": [
    {
     "name": "stdout",
     "output_type": "stream",
     "text": [
      "Inputs shape (batch, time, features): (32, 1, 12)\n",
      "Labels shape (batch, time, features): (32, 1, 1)\n"
     ]
    }
   ],
   "source": [
    "for example_inputs, example_labels in single_step_window.train.take(1):\n",
    "    print(f'Inputs shape (batch, time, features): {example_inputs.shape}')\n",
    "    print(f'Labels shape (batch, time, features): {example_labels.shape}')"
   ]
  },
  {
   "cell_type": "code",
   "execution_count": 193,
   "id": "4b2baab8",
   "metadata": {},
   "outputs": [],
   "source": [
    "models = {}"
   ]
  },
  {
   "cell_type": "markdown",
   "id": "1964516a",
   "metadata": {},
   "source": [
    "### Baseline"
   ]
  },
  {
   "cell_type": "code",
   "execution_count": 194,
   "id": "d33cab1f",
   "metadata": {},
   "outputs": [],
   "source": [
    "class Baseline(tf.keras.Model):\n",
    "    def __init__(self, label_index=None):\n",
    "        super().__init__()\n",
    "        self.label_index = label_index\n",
    "        \n",
    "    def call(self, inputs):\n",
    "        if self.label_index is None:\n",
    "            return inputs\n",
    "        result = inputs[:, :, self.label_index]\n",
    "        return result[:, :, tf.newaxis]"
   ]
  },
  {
   "cell_type": "code",
   "execution_count": 195,
   "id": "7d92f127",
   "metadata": {},
   "outputs": [
    {
     "name": "stdout",
     "output_type": "stream",
     "text": [
      "53/53 [==============================] - 0s 2ms/step - loss: 1.6282e-05 - mean_absolute_error: 0.0027\n"
     ]
    }
   ],
   "source": [
    "baseline = Baseline(label_index=column_indices['Close'])\n",
    "\n",
    "baseline.compile(loss=tf.losses.MeanSquaredError(),\n",
    "                 metrics=[tf.metrics.MeanAbsoluteError()])\n",
    "\n",
    "val_performance = {}\n",
    "performance = {}\n",
    "\n",
    "val_performance['Baseline'] = baseline.evaluate(single_step_window.val)\n",
    "performance['Baseline'] = baseline.evaluate(single_step_window.test, verbose=0)"
   ]
  },
  {
   "cell_type": "code",
   "execution_count": 196,
   "id": "358d485d",
   "metadata": {},
   "outputs": [
    {
     "data": {
      "text/plain": [
       "Total window size: 25\n",
       "Input indices: [ 0  1  2  3  4  5  6  7  8  9 10 11 12 13 14 15 16 17 18 19 20 21 22 23]\n",
       "Label indices: [ 1  2  3  4  5  6  7  8  9 10 11 12 13 14 15 16 17 18 19 20 21 22 23 24]\n",
       "Label column name(s): ['Close']"
      ]
     },
     "execution_count": 196,
     "metadata": {},
     "output_type": "execute_result"
    }
   ],
   "source": [
    "wide_window = WindowGenerator(\n",
    "    input_width=24, label_width=24, shift=1,\n",
    "    label_columns=['Close'])\n",
    "\n",
    "wide_window"
   ]
  },
  {
   "cell_type": "code",
   "execution_count": 197,
   "id": "3bec612b",
   "metadata": {},
   "outputs": [
    {
     "name": "stdout",
     "output_type": "stream",
     "text": [
      "Input shape: (32, 24, 12)\n",
      "Output shape: (32, 24, 1)\n"
     ]
    }
   ],
   "source": [
    "print('Input shape:', wide_window.example[0].shape)\n",
    "print('Output shape:', baseline(wide_window.example[0]).shape)"
   ]
  },
  {
   "cell_type": "code",
   "execution_count": 198,
   "id": "4045e2ec",
   "metadata": {},
   "outputs": [
    {
     "data": {
      "image/png": "[encoded data removed]",
      "text/plain": [
       "<Figure size 864x576 with 3 Axes>"
      ]
     },
     "metadata": {
      "needs_background": "light"
     },
     "output_type": "display_data"
    }
   ],
   "source": [
    "wide_window.plot(baseline)"
   ]
  },
  {
   "cell_type": "code",
   "execution_count": 199,
   "id": "6758ad5a",
   "metadata": {},
   "outputs": [],
   "source": [
    "models['baseline'] = {'data':baseline}"
   ]
  },
  {
   "cell_type": "markdown",
   "id": "7e6051b7",
   "metadata": {},
   "source": [
    "### Linear"
   ]
  },
  {
   "cell_type": "code",
   "execution_count": 246,
   "id": "2db6da56",
   "metadata": {},
   "outputs": [],
   "source": [
    "linear = tf.keras.Sequential([\n",
    "    tf.keras.layers.Dense(units=1) # Linear\n",
    "])"
   ]
  },
  {
   "cell_type": "code",
   "execution_count": 247,
   "id": "22df6537",
   "metadata": {},
   "outputs": [
    {
     "name": "stdout",
     "output_type": "stream",
     "text": [
      "Input shape: (32, 1, 12)\n",
      "Output shape: (32, 1, 1)\n"
     ]
    }
   ],
   "source": [
    "print('Input shape:', single_step_window.example[0].shape)\n",
    "print('Output shape:', linear(single_step_window.example[0]).shape)"
   ]
  },
  {
   "cell_type": "code",
   "execution_count": 248,
   "id": "cbee2622",
   "metadata": {},
   "outputs": [],
   "source": [
    "MAX_EPOCHS = 1000000\n",
    "\n",
    "def compile_and_fit(model, window, patience=3):\n",
    "    early_stopping = tf.keras.callbacks.EarlyStopping(monitor='val_loss',\n",
    "                                                      patience=patience,\n",
    "                                                      mode='min')\n",
    "    model.compile(loss=tf.losses.MeanSquaredError(),\n",
    "                optimizer=tf.optimizers.Adam(),\n",
    "                metrics=[tf.metrics.MeanAbsoluteError()])\n",
    "    history = model.fit(window.train, epochs=MAX_EPOCHS,\n",
    "                      validation_data=window.val,\n",
    "                      callbacks=[early_stopping])\n",
    "    return history"
   ]
  },
  {
   "cell_type": "code",
   "execution_count": 249,
   "id": "72f2b76d",
   "metadata": {
    "scrolled": true
   },
   "outputs": [
    {
     "name": "stdout",
     "output_type": "stream",
     "text": [
      "Epoch 1/1000000\n",
      "183/183 [==============================] - 1s 6ms/step - loss: 0.2323 - mean_absolute_error: 0.3877 - val_loss: 0.2113 - val_mean_absolute_error: 0.3864\n",
      "Epoch 2/1000000\n",
      "183/183 [==============================] - 1s 3ms/step - loss: 0.0813 - mean_absolute_error: 0.2348 - val_loss: 0.0839 - val_mean_absolute_error: 0.2430\n",
      "Epoch 3/1000000\n",
      "183/183 [==============================] - 1s 4ms/step - loss: 0.0382 - mean_absolute_error: 0.1575 - val_loss: 0.0397 - val_mean_absolute_error: 0.1745\n",
      "Epoch 4/1000000\n",
      "183/183 [==============================] - 1s 4ms/step - loss: 0.0190 - mean_absolute_error: 0.1073 - val_loss: 0.0199 - val_mean_absolute_error: 0.1279\n",
      "Epoch 5/1000000\n",
      "183/183 [==============================] - 1s 4ms/step - loss: 0.0104 - mean_absolute_error: 0.0770 - val_loss: 0.0106 - val_mean_absolute_error: 0.0945\n",
      "Epoch 6/1000000\n",
      "183/183 [==============================] - 1s 3ms/step - loss: 0.0063 - mean_absolute_error: 0.0594 - val_loss: 0.0058 - val_mean_absolute_error: 0.0691\n",
      "Epoch 7/1000000\n",
      "183/183 [==============================] - 1s 3ms/step - loss: 0.0042 - mean_absolute_error: 0.0482 - val_loss: 0.0034 - val_mean_absolute_error: 0.0511\n",
      "Epoch 8/1000000\n",
      "183/183 [==============================] - 1s 3ms/step - loss: 0.0029 - mean_absolute_error: 0.0402 - val_loss: 0.0021 - val_mean_absolute_error: 0.0385\n",
      "Epoch 9/1000000\n",
      "183/183 [==============================] - 1s 3ms/step - loss: 0.0021 - mean_absolute_error: 0.0341 - val_loss: 0.0013 - val_mean_absolute_error: 0.0289\n",
      "Epoch 10/1000000\n",
      "183/183 [==============================] - 1s 3ms/step - loss: 0.0015 - mean_absolute_error: 0.0292 - val_loss: 8.5920e-04 - val_mean_absolute_error: 0.0225\n",
      "Epoch 11/1000000\n",
      "183/183 [==============================] - 1s 3ms/step - loss: 0.0012 - mean_absolute_error: 0.0251 - val_loss: 5.8786e-04 - val_mean_absolute_error: 0.0180\n",
      "Epoch 12/1000000\n",
      "183/183 [==============================] - 1s 4ms/step - loss: 8.6935e-04 - mean_absolute_error: 0.0216 - val_loss: 4.0715e-04 - val_mean_absolute_error: 0.0146\n",
      "Epoch 13/1000000\n",
      "183/183 [==============================] - 1s 3ms/step - loss: 6.5549e-04 - mean_absolute_error: 0.0185 - val_loss: 3.0019e-04 - val_mean_absolute_error: 0.0124\n",
      "Epoch 14/1000000\n",
      "183/183 [==============================] - 1s 3ms/step - loss: 4.9519e-04 - mean_absolute_error: 0.0160 - val_loss: 2.1856e-04 - val_mean_absolute_error: 0.0105\n",
      "Epoch 15/1000000\n",
      "183/183 [==============================] - 1s 3ms/step - loss: 3.7441e-04 - mean_absolute_error: 0.0138 - val_loss: 1.6108e-04 - val_mean_absolute_error: 0.0090\n",
      "Epoch 16/1000000\n",
      "183/183 [==============================] - 1s 3ms/step - loss: 2.8342e-04 - mean_absolute_error: 0.0119 - val_loss: 1.2308e-04 - val_mean_absolute_error: 0.0079\n",
      "Epoch 17/1000000\n",
      "183/183 [==============================] - 1s 3ms/step - loss: 2.1394e-04 - mean_absolute_error: 0.0103 - val_loss: 9.3960e-05 - val_mean_absolute_error: 0.0069\n",
      "Epoch 18/1000000\n",
      "183/183 [==============================] - 1s 3ms/step - loss: 1.6083e-04 - mean_absolute_error: 0.0089 - val_loss: 7.0638e-05 - val_mean_absolute_error: 0.0060\n",
      "Epoch 19/1000000\n",
      "183/183 [==============================] - 1s 3ms/step - loss: 1.1974e-04 - mean_absolute_error: 0.0076 - val_loss: 5.3483e-05 - val_mean_absolute_error: 0.0053\n",
      "Epoch 20/1000000\n",
      "183/183 [==============================] - 1s 3ms/step - loss: 8.8171e-05 - mean_absolute_error: 0.0065 - val_loss: 3.9827e-05 - val_mean_absolute_error: 0.0046\n",
      "Epoch 21/1000000\n",
      "183/183 [==============================] - 1s 3ms/step - loss: 6.3921e-05 - mean_absolute_error: 0.0056 - val_loss: 2.8787e-05 - val_mean_absolute_error: 0.0039\n",
      "Epoch 22/1000000\n",
      "183/183 [==============================] - 1s 3ms/step - loss: 4.5271e-05 - mean_absolute_error: 0.0047 - val_loss: 1.9942e-05 - val_mean_absolute_error: 0.0033\n",
      "Epoch 23/1000000\n",
      "183/183 [==============================] - 1s 3ms/step - loss: 3.1572e-05 - mean_absolute_error: 0.0039 - val_loss: 1.3386e-05 - val_mean_absolute_error: 0.0027\n",
      "Epoch 24/1000000\n",
      "183/183 [==============================] - 1s 3ms/step - loss: 2.1444e-05 - mean_absolute_error: 0.0032 - val_loss: 9.0971e-06 - val_mean_absolute_error: 0.0022\n",
      "Epoch 25/1000000\n",
      "183/183 [==============================] - 1s 4ms/step - loss: 1.4366e-05 - mean_absolute_error: 0.0026 - val_loss: 6.0487e-06 - val_mean_absolute_error: 0.0018\n",
      "Epoch 26/1000000\n",
      "183/183 [==============================] - 1s 4ms/step - loss: 9.4168e-06 - mean_absolute_error: 0.0021 - val_loss: 3.6388e-06 - val_mean_absolute_error: 0.0014\n",
      "Epoch 27/1000000\n",
      "183/183 [==============================] - 1s 3ms/step - loss: 6.1636e-06 - mean_absolute_error: 0.0016 - val_loss: 2.3463e-06 - val_mean_absolute_error: 0.0011\n",
      "Epoch 28/1000000\n",
      "183/183 [==============================] - 1s 3ms/step - loss: 4.1216e-06 - mean_absolute_error: 0.0013 - val_loss: 1.5022e-06 - val_mean_absolute_error: 8.8265e-04\n",
      "Epoch 29/1000000\n",
      "183/183 [==============================] - 1s 3ms/step - loss: 2.8509e-06 - mean_absolute_error: 9.9687e-04 - val_loss: 1.0370e-06 - val_mean_absolute_error: 7.2061e-04\n",
      "Epoch 30/1000000\n",
      "183/183 [==============================] - 1s 3ms/step - loss: 2.0775e-06 - mean_absolute_error: 7.8464e-04 - val_loss: 6.6796e-07 - val_mean_absolute_error: 5.3687e-04\n",
      "Epoch 31/1000000\n",
      "183/183 [==============================] - 1s 3ms/step - loss: 1.5877e-06 - mean_absolute_error: 6.1341e-04 - val_loss: 4.7802e-07 - val_mean_absolute_error: 4.2496e-04\n",
      "Epoch 32/1000000\n",
      "183/183 [==============================] - 1s 3ms/step - loss: 1.3057e-06 - mean_absolute_error: 4.9398e-04 - val_loss: 3.6856e-07 - val_mean_absolute_error: 3.4230e-04\n",
      "Epoch 33/1000000\n",
      "183/183 [==============================] - 1s 3ms/step - loss: 1.1280e-06 - mean_absolute_error: 3.9728e-04 - val_loss: 2.9552e-07 - val_mean_absolute_error: 2.7345e-04\n",
      "Epoch 34/1000000\n",
      "183/183 [==============================] - 1s 3ms/step - loss: 1.0138e-06 - mean_absolute_error: 3.2596e-04 - val_loss: 2.4902e-07 - val_mean_absolute_error: 2.1643e-04\n",
      "Epoch 35/1000000\n",
      "183/183 [==============================] - 1s 3ms/step - loss: 9.4514e-07 - mean_absolute_error: 2.6853e-04 - val_loss: 2.3581e-07 - val_mean_absolute_error: 1.9878e-04\n",
      "Epoch 36/1000000\n",
      "183/183 [==============================] - 1s 3ms/step - loss: 9.1051e-07 - mean_absolute_error: 2.3272e-04 - val_loss: 2.1000e-07 - val_mean_absolute_error: 1.4920e-04\n",
      "Epoch 37/1000000\n",
      "183/183 [==============================] - 1s 3ms/step - loss: 8.7806e-07 - mean_absolute_error: 2.0555e-04 - val_loss: 2.0326e-07 - val_mean_absolute_error: 1.3171e-04\n",
      "Epoch 38/1000000\n",
      "183/183 [==============================] - 1s 3ms/step - loss: 8.6551e-07 - mean_absolute_error: 1.8513e-04 - val_loss: 2.0127e-07 - val_mean_absolute_error: 1.2412e-04\n",
      "Epoch 39/1000000\n",
      "183/183 [==============================] - 1s 3ms/step - loss: 8.5693e-07 - mean_absolute_error: 1.8528e-04 - val_loss: 1.9812e-07 - val_mean_absolute_error: 1.1665e-04\n",
      "Epoch 40/1000000\n",
      "183/183 [==============================] - 1s 3ms/step - loss: 8.6040e-07 - mean_absolute_error: 1.8877e-04 - val_loss: 2.0029e-07 - val_mean_absolute_error: 1.1866e-04\n",
      "Epoch 41/1000000\n",
      "183/183 [==============================] - 1s 3ms/step - loss: 8.5751e-07 - mean_absolute_error: 1.8543e-04 - val_loss: 1.9871e-07 - val_mean_absolute_error: 1.1675e-04\n",
      "Epoch 42/1000000\n",
      "183/183 [==============================] - 1s 3ms/step - loss: 8.5681e-07 - mean_absolute_error: 1.7602e-04 - val_loss: 1.9866e-07 - val_mean_absolute_error: 1.1750e-04\n",
      "53/53 [==============================] - 0s 2ms/step - loss: 1.9866e-07 - mean_absolute_error: 1.1750e-04\n"
     ]
    }
   ],
   "source": [
    "history = compile_and_fit(linear, single_step_window)\n",
    "\n",
    "val_performance['Linear'] = linear.evaluate(single_step_window.val)\n",
    "performance['Linear'] = linear.evaluate(single_step_window.test, verbose=0)"
   ]
  },
  {
   "cell_type": "code",
   "execution_count": 250,
   "id": "46add168",
   "metadata": {},
   "outputs": [
    {
     "name": "stdout",
     "output_type": "stream",
     "text": [
      "Input shape: (32, 24, 12)\n",
      "Output shape: (32, 24, 1)\n"
     ]
    }
   ],
   "source": [
    "print('Input shape:', wide_window.example[0].shape)\n",
    "print('Output shape:', baseline(wide_window.example[0]).shape)"
   ]
  },
  {
   "cell_type": "code",
   "execution_count": 251,
   "id": "9121fabe",
   "metadata": {},
   "outputs": [
    {
     "data": {
      "image/png": "[encoded data removed]",
      "text/plain": [
       "<Figure size 864x576 with 3 Axes>"
      ]
     },
     "metadata": {
      "needs_background": "light"
     },
     "output_type": "display_data"
    }
   ],
   "source": [
    "wide_window.plot(linear)"
   ]
  },
  {
   "cell_type": "code",
   "execution_count": 252,
   "id": "ff0e099e",
   "metadata": {},
   "outputs": [
    {
     "data": {
      "image/png": "[encoded data removed]",
      "text/plain": [
       "<Figure size 432x288 with 1 Axes>"
      ]
     },
     "metadata": {
      "needs_background": "light"
     },
     "output_type": "display_data"
    }
   ],
   "source": [
    "plt.bar(x = range(len(train_df.columns)),\n",
    "        height=linear.layers[0].kernel[:,0].numpy())\n",
    "axis = plt.gca()\n",
    "axis.set_xticks(range(len(train_df.columns)))\n",
    "_ = axis.set_xticklabels(train_df.columns, rotation=90)"
   ]
  },
  {
   "cell_type": "code",
   "execution_count": 253,
   "id": "241ef4f2",
   "metadata": {},
   "outputs": [],
   "source": [
    "models['linear'] = {'data':linear}"
   ]
  },
  {
   "cell_type": "markdown",
   "id": "7efedadd",
   "metadata": {},
   "source": [
    "### Dense"
   ]
  },
  {
   "cell_type": "code",
   "execution_count": 254,
   "id": "214d7e97",
   "metadata": {
    "scrolled": true
   },
   "outputs": [
    {
     "name": "stdout",
     "output_type": "stream",
     "text": [
      "Epoch 1/1000000\n",
      "183/183 [==============================] - 3s 11ms/step - loss: 0.0115 - mean_absolute_error: 0.0334 - val_loss: 1.2879e-06 - val_mean_absolute_error: 7.7955e-04\n",
      "Epoch 2/1000000\n",
      "183/183 [==============================] - 2s 9ms/step - loss: 4.5765e-06 - mean_absolute_error: 0.0012 - val_loss: 1.0327e-06 - val_mean_absolute_error: 8.0358e-04\n",
      "Epoch 3/1000000\n",
      "183/183 [==============================] - 2s 9ms/step - loss: 4.1396e-06 - mean_absolute_error: 0.0012 - val_loss: 8.9516e-07 - val_mean_absolute_error: 7.6173e-04\n",
      "Epoch 4/1000000\n",
      "183/183 [==============================] - 2s 8ms/step - loss: 3.0002e-06 - mean_absolute_error: 0.0011 - val_loss: 1.5349e-06 - val_mean_absolute_error: 0.0011\n",
      "Epoch 5/1000000\n",
      "183/183 [==============================] - 2s 9ms/step - loss: 2.9568e-06 - mean_absolute_error: 0.0011 - val_loss: 6.1731e-06 - val_mean_absolute_error: 0.0024\n",
      "Epoch 6/1000000\n",
      "183/183 [==============================] - 2s 9ms/step - loss: 3.3378e-05 - mean_absolute_error: 0.0043 - val_loss: 1.1934e-06 - val_mean_absolute_error: 9.3701e-04\n",
      "53/53 [==============================] - 0s 5ms/step - loss: 1.1934e-06 - mean_absolute_error: 9.3701e-04\n"
     ]
    }
   ],
   "source": [
    "dense = tf.keras.Sequential([\n",
    "    tf.keras.layers.Dense(units=3072, activation='relu'),\n",
    "    tf.keras.layers.Dense(units=1536, activation='relu'),\n",
    "    tf.keras.layers.Dense(units=768, activation='relu'),\n",
    "    tf.keras.layers.Dense(units=348, activation='relu'),\n",
    "    tf.keras.layers.Dense(units=192, activation='relu'),\n",
    "    tf.keras.layers.Dense(units=96, activation='relu'),\n",
    "    tf.keras.layers.Dense(units=48, activation='relu'),\n",
    "    tf.keras.layers.Dense(units=24, activation='relu'),\n",
    "    tf.keras.layers.Dense(units=12, activation='relu'),\n",
    "    tf.keras.layers.Dense(units=6, activation='relu'),\n",
    "    tf.keras.layers.Dense(units=3, activation='relu'),\n",
    "    tf.keras.layers.Dense(units=1)\n",
    "])\n",
    "\n",
    "history = compile_and_fit(dense, single_step_window)\n",
    "\n",
    "val_performance['Dense'] = dense.evaluate(single_step_window.val)\n",
    "performance['Dense'] = dense.evaluate(single_step_window.test, verbose=0)"
   ]
  },
  {
   "cell_type": "code",
   "execution_count": 255,
   "id": "d17b12d0",
   "metadata": {},
   "outputs": [],
   "source": [
    "models['dense'] = {'data':dense}"
   ]
  },
  {
   "cell_type": "markdown",
   "id": "cf2d3ebb",
   "metadata": {},
   "source": [
    "### Multi-Step Dense"
   ]
  },
  {
   "cell_type": "code",
   "execution_count": 256,
   "id": "6943ed8e",
   "metadata": {},
   "outputs": [
    {
     "data": {
      "text/plain": [
       "Total window size: 8\n",
       "Input indices: [0 1 2 3 4 5 6]\n",
       "Label indices: [7]\n",
       "Label column name(s): ['Close']"
      ]
     },
     "execution_count": 256,
     "metadata": {},
     "output_type": "execute_result"
    }
   ],
   "source": [
    "CONV_WIDTH = 7\n",
    "conv_window = WindowGenerator(\n",
    "    input_width=CONV_WIDTH,\n",
    "    label_width=1,\n",
    "    shift=1,\n",
    "    label_columns=['Close'])\n",
    "\n",
    "conv_window"
   ]
  },
  {
   "cell_type": "code",
   "execution_count": 257,
   "id": "64e95813",
   "metadata": {},
   "outputs": [
    {
     "data": {
      "text/plain": [
       "Text(0.5, 1.0, 'Given 3 hours of inputs, predict 1 hour into the future.')"
      ]
     },
     "execution_count": 257,
     "metadata": {},
     "output_type": "execute_result"
    },
    {
     "data": {
      "image/png": "[encoded data removed]",
      "text/plain": [
       "<Figure size 864x576 with 3 Axes>"
      ]
     },
     "metadata": {
      "needs_background": "light"
     },
     "output_type": "display_data"
    }
   ],
   "source": [
    "conv_window.plot()\n",
    "plt.title(\"Given 3 hours of inputs, predict 1 hour into the future.\")"
   ]
  },
  {
   "cell_type": "code",
   "execution_count": 258,
   "id": "e3d8c8e7",
   "metadata": {},
   "outputs": [],
   "source": [
    "multi_step_dense = tf.keras.Sequential([\n",
    "    # Shape: (time, features) => (time*features)\n",
    "    tf.keras.layers.Flatten(),\n",
    "    tf.keras.layers.Dense(units=3072, activation='relu'),\n",
    "    tf.keras.layers.Dense(units=1536, activation='relu'),\n",
    "    tf.keras.layers.Dense(units=768, activation='relu'),\n",
    "    tf.keras.layers.Dense(units=348, activation='relu'),\n",
    "    tf.keras.layers.Dense(units=192, activation='relu'),\n",
    "    tf.keras.layers.Dense(units=96, activation='relu'),\n",
    "    tf.keras.layers.Dense(units=48, activation='relu'),\n",
    "    tf.keras.layers.Dense(units=24, activation='relu'),\n",
    "    tf.keras.layers.Dense(units=12, activation='relu'),\n",
    "    tf.keras.layers.Dense(units=6, activation='relu'),\n",
    "    tf.keras.layers.Dense(units=3, activation='relu'),\n",
    "    tf.keras.layers.Dense(units=1),\n",
    "    # Add back the time dimension.\n",
    "    # Shape: (outputs) => (1, outputs)\n",
    "    tf.keras.layers.Reshape([1, -1]),\n",
    "])"
   ]
  },
  {
   "cell_type": "code",
   "execution_count": 259,
   "id": "d2a25462",
   "metadata": {},
   "outputs": [
    {
     "name": "stdout",
     "output_type": "stream",
     "text": [
      "Input shape: (32, 7, 12)\n",
      "Output shape: (32, 1, 1)\n"
     ]
    }
   ],
   "source": [
    "print('Input shape:', conv_window.example[0].shape)\n",
    "print('Output shape:', multi_step_dense(conv_window.example[0]).shape)"
   ]
  },
  {
   "cell_type": "code",
   "execution_count": 260,
   "id": "3bfe5bd8",
   "metadata": {
    "scrolled": true
   },
   "outputs": [
    {
     "name": "stdout",
     "output_type": "stream",
     "text": [
      "Epoch 1/1000000\n",
      "183/183 [==============================] - 2s 6ms/step - loss: 0.0127 - mean_absolute_error: 0.0437 - val_loss: 3.7243e-05 - val_mean_absolute_error: 0.0056\n",
      "Epoch 2/1000000\n",
      "183/183 [==============================] - 1s 5ms/step - loss: 1.1053e-05 - mean_absolute_error: 0.0023 - val_loss: 3.5235e-06 - val_mean_absolute_error: 0.0014\n",
      "Epoch 3/1000000\n",
      "183/183 [==============================] - 1s 5ms/step - loss: 5.0261e-06 - mean_absolute_error: 0.0014 - val_loss: 7.6503e-06 - val_mean_absolute_error: 0.0026\n",
      "Epoch 4/1000000\n",
      "183/183 [==============================] - 1s 5ms/step - loss: 4.5453e-06 - mean_absolute_error: 0.0013 - val_loss: 5.8830e-06 - val_mean_absolute_error: 0.0022\n",
      "Epoch 5/1000000\n",
      "183/183 [==============================] - 1s 5ms/step - loss: 6.9299e-06 - mean_absolute_error: 0.0018 - val_loss: 3.5174e-06 - val_mean_absolute_error: 0.0015\n",
      "Epoch 6/1000000\n",
      "183/183 [==============================] - 1s 5ms/step - loss: 9.6600e-06 - mean_absolute_error: 0.0022 - val_loss: 1.5864e-06 - val_mean_absolute_error: 8.3563e-04\n",
      "Epoch 7/1000000\n",
      "183/183 [==============================] - 1s 5ms/step - loss: 9.7799e-06 - mean_absolute_error: 0.0021 - val_loss: 2.9023e-06 - val_mean_absolute_error: 0.0013\n",
      "Epoch 8/1000000\n",
      "183/183 [==============================] - 1s 5ms/step - loss: 7.4644e-06 - mean_absolute_error: 0.0019 - val_loss: 2.6196e-06 - val_mean_absolute_error: 0.0012\n",
      "Epoch 9/1000000\n",
      "183/183 [==============================] - 1s 5ms/step - loss: 3.0340e-05 - mean_absolute_error: 0.0035 - val_loss: 9.0365e-05 - val_mean_absolute_error: 0.0093\n",
      "52/52 [==============================] - 0s 2ms/step - loss: 9.0365e-05 - mean_absolute_error: 0.0093\n"
     ]
    }
   ],
   "source": [
    "history = compile_and_fit(multi_step_dense, conv_window)\n",
    "\n",
    "# IPython.display.clear_output()\n",
    "val_performance['Multi step dense'] = multi_step_dense.evaluate(conv_window.val)\n",
    "performance['Multi step dense'] = multi_step_dense.evaluate(conv_window.test, verbose=0)"
   ]
  },
  {
   "cell_type": "code",
   "execution_count": 261,
   "id": "a7ae4848",
   "metadata": {},
   "outputs": [
    {
     "data": {
      "image/png": "[encoded data removed]",
      "text/plain": [
       "<Figure size 864x576 with 3 Axes>"
      ]
     },
     "metadata": {
      "needs_background": "light"
     },
     "output_type": "display_data"
    }
   ],
   "source": [
    "conv_window.plot(multi_step_dense)"
   ]
  },
  {
   "cell_type": "code",
   "execution_count": 262,
   "id": "1326b63c",
   "metadata": {},
   "outputs": [
    {
     "name": "stdout",
     "output_type": "stream",
     "text": [
      "Input shape: (32, 24, 12)\n",
      "\n",
      "ValueError:Exception encountered when calling layer \"sequential_27\" (type Sequential).\n",
      "\n",
      "Input 0 of layer \"dense_118\" is incompatible with the layer: expected axis -1 of input shape to have value 84, but received input with shape (32, 288)\n",
      "\n",
      "Call arguments received:\n",
      "  • inputs=tf.Tensor(shape=(32, 24, 12), dtype=float32)\n",
      "  • training=None\n",
      "  • mask=None\n"
     ]
    }
   ],
   "source": [
    "print('Input shape:', wide_window.example[0].shape)\n",
    "try:\n",
    "    print('Output shape:', multi_step_dense(wide_window.example[0]).shape)\n",
    "except Exception as e:\n",
    "    print(f'\\n{type(e).__name__}:{e}')"
   ]
  },
  {
   "cell_type": "code",
   "execution_count": 263,
   "id": "e143d861",
   "metadata": {},
   "outputs": [],
   "source": [
    "models['multi_step_dense'] = {'data':multi_step_dense}"
   ]
  },
  {
   "cell_type": "markdown",
   "id": "90765061",
   "metadata": {},
   "source": [
    "### Convolution Neural Network"
   ]
  },
  {
   "cell_type": "code",
   "execution_count": 264,
   "id": "02b9e60e",
   "metadata": {},
   "outputs": [],
   "source": [
    "# conv_model = tf.keras.Sequential([\n",
    "#     tf.keras.layers.Conv1D(filters=32,\n",
    "#                            kernel_size=(CONV_WIDTH,),\n",
    "#                            activation='relu'),\n",
    "#     tf.keras.layers.Dense(units=32, activation='relu'),\n",
    "#     tf.keras.layers.Dense(units=1),\n",
    "# ])"
   ]
  },
  {
   "cell_type": "code",
   "execution_count": 265,
   "id": "3091fa78",
   "metadata": {},
   "outputs": [],
   "source": [
    "# print(\"Conv model on `conv_window`\")\n",
    "# print('Input shape:', conv_window.example[0].shape)\n",
    "# print('Output shape:', conv_model(conv_window.example[0]).shape)"
   ]
  },
  {
   "cell_type": "code",
   "execution_count": 266,
   "id": "44cdc883",
   "metadata": {},
   "outputs": [],
   "source": [
    "# history = compile_and_fit(conv_model, conv_window)\n",
    "\n",
    "# # IPython.display.clear_output()\n",
    "# val_performance['Conv'] = conv_model.evaluate(conv_window.val)\n",
    "# performance['Conv'] = conv_model.evaluate(conv_window.test, verbose=0)"
   ]
  },
  {
   "cell_type": "code",
   "execution_count": 267,
   "id": "1e860576",
   "metadata": {},
   "outputs": [],
   "source": [
    "# print(\"Wide window\")\n",
    "# print('Input shape:', wide_window.example[0].shape)\n",
    "# print('Labels shape:', wide_window.example[1].shape)\n",
    "# print('Output shape:', conv_model(wide_window.example[0]).shape)"
   ]
  },
  {
   "cell_type": "code",
   "execution_count": 268,
   "id": "58e2aaa1",
   "metadata": {},
   "outputs": [],
   "source": [
    "# LABEL_WIDTH = 24\n",
    "# INPUT_WIDTH = LABEL_WIDTH + (CONV_WIDTH - 1)\n",
    "# wide_conv_window = WindowGenerator(\n",
    "#     input_width=INPUT_WIDTH,\n",
    "#     label_width=LABEL_WIDTH,\n",
    "#     shift=1,\n",
    "#     label_columns=['Close'])\n",
    "\n",
    "# wide_conv_window"
   ]
  },
  {
   "cell_type": "code",
   "execution_count": 269,
   "id": "8e5588dd",
   "metadata": {},
   "outputs": [],
   "source": [
    "# print(\"Wide conv window\")\n",
    "# print('Input shape:', wide_conv_window.example[0].shape)\n",
    "# print('Labels shape:', wide_conv_window.example[1].shape)\n",
    "# print('Output shape:', conv_model(wide_conv_window.example[0]).shape)"
   ]
  },
  {
   "cell_type": "code",
   "execution_count": 270,
   "id": "a5d729c6",
   "metadata": {},
   "outputs": [],
   "source": [
    "# wide_conv_window.plot(conv_model)"
   ]
  },
  {
   "cell_type": "code",
   "execution_count": 271,
   "id": "3c7e9d35",
   "metadata": {},
   "outputs": [],
   "source": [
    "# models['conv_model'] = {'data':conv_model}"
   ]
  },
  {
   "cell_type": "markdown",
   "id": "36984c66",
   "metadata": {},
   "source": [
    "### Recurrent Neural Network"
   ]
  },
  {
   "cell_type": "code",
   "execution_count": 272,
   "id": "118fa3f6",
   "metadata": {},
   "outputs": [],
   "source": [
    "lstm_model = tf.keras.models.Sequential([\n",
    "    # Shape [batch, time, features] => [batch, time, lstm_units]\n",
    "    tf.keras.layers.LSTM(3072, return_sequences=True),\n",
    "    # Shape => [batch, time, features]\n",
    "    tf.keras.layers.Dense(units=1)\n",
    "])"
   ]
  },
  {
   "cell_type": "code",
   "execution_count": 273,
   "id": "31264f1f",
   "metadata": {},
   "outputs": [
    {
     "name": "stdout",
     "output_type": "stream",
     "text": [
      "Input shape: (32, 24, 12)\n",
      "Output shape: (32, 24, 1)\n"
     ]
    }
   ],
   "source": [
    "print('Input shape:', wide_window.example[0].shape)\n",
    "print('Output shape:', lstm_model(wide_window.example[0]).shape)"
   ]
  },
  {
   "cell_type": "code",
   "execution_count": 274,
   "id": "63a11131",
   "metadata": {
    "scrolled": true
   },
   "outputs": [
    {
     "name": "stdout",
     "output_type": "stream",
     "text": [
      "Epoch 1/1000000\n",
      "182/182 [==============================] - 7s 29ms/step - loss: 0.0539 - mean_absolute_error: 0.0887 - val_loss: 0.0090 - val_mean_absolute_error: 0.0404\n",
      "Epoch 2/1000000\n",
      "182/182 [==============================] - 5s 25ms/step - loss: 0.0020 - mean_absolute_error: 0.0213 - val_loss: 0.0018 - val_mean_absolute_error: 0.0177\n",
      "Epoch 3/1000000\n",
      "182/182 [==============================] - 5s 26ms/step - loss: 4.9922e-04 - mean_absolute_error: 0.0112 - val_loss: 5.5123e-04 - val_mean_absolute_error: 0.0105\n",
      "Epoch 4/1000000\n",
      "182/182 [==============================] - 5s 26ms/step - loss: 2.2846e-04 - mean_absolute_error: 0.0071 - val_loss: 2.4390e-04 - val_mean_absolute_error: 0.0075\n",
      "Epoch 5/1000000\n",
      "182/182 [==============================] - 5s 26ms/step - loss: 1.3845e-04 - mean_absolute_error: 0.0053 - val_loss: 1.3685e-04 - val_mean_absolute_error: 0.0056\n",
      "Epoch 6/1000000\n",
      "182/182 [==============================] - 5s 26ms/step - loss: 9.1613e-05 - mean_absolute_error: 0.0040 - val_loss: 8.1907e-05 - val_mean_absolute_error: 0.0041\n",
      "Epoch 7/1000000\n",
      "182/182 [==============================] - 5s 26ms/step - loss: 6.2949e-05 - mean_absolute_error: 0.0032 - val_loss: 5.1393e-05 - val_mean_absolute_error: 0.0032\n",
      "Epoch 8/1000000\n",
      "182/182 [==============================] - 5s 26ms/step - loss: 4.4588e-05 - mean_absolute_error: 0.0026 - val_loss: 3.1963e-05 - val_mean_absolute_error: 0.0026\n",
      "Epoch 9/1000000\n",
      "182/182 [==============================] - 5s 26ms/step - loss: 3.2130e-05 - mean_absolute_error: 0.0022 - val_loss: 2.0704e-05 - val_mean_absolute_error: 0.0023\n",
      "Epoch 10/1000000\n",
      "182/182 [==============================] - 5s 26ms/step - loss: 2.3334e-05 - mean_absolute_error: 0.0019 - val_loss: 1.3698e-05 - val_mean_absolute_error: 0.0020\n",
      "Epoch 11/1000000\n",
      "182/182 [==============================] - 5s 26ms/step - loss: 1.7043e-05 - mean_absolute_error: 0.0017 - val_loss: 7.8437e-06 - val_mean_absolute_error: 0.0016\n",
      "Epoch 12/1000000\n",
      "182/182 [==============================] - 5s 27ms/step - loss: 1.2575e-05 - mean_absolute_error: 0.0015 - val_loss: 5.3776e-06 - val_mean_absolute_error: 0.0016\n",
      "Epoch 13/1000000\n",
      "182/182 [==============================] - 5s 27ms/step - loss: 9.6897e-06 - mean_absolute_error: 0.0014 - val_loss: 3.2018e-06 - val_mean_absolute_error: 0.0011\n",
      "Epoch 14/1000000\n",
      "182/182 [==============================] - 5s 26ms/step - loss: 7.5010e-06 - mean_absolute_error: 0.0013 - val_loss: 2.1924e-06 - val_mean_absolute_error: 9.9684e-04\n",
      "Epoch 15/1000000\n",
      "182/182 [==============================] - 5s 27ms/step - loss: 5.9098e-06 - mean_absolute_error: 0.0011 - val_loss: 2.5315e-06 - val_mean_absolute_error: 0.0013\n",
      "Epoch 16/1000000\n",
      "182/182 [==============================] - 5s 26ms/step - loss: 5.4888e-06 - mean_absolute_error: 0.0012 - val_loss: 1.0443e-05 - val_mean_absolute_error: 0.0030\n",
      "Epoch 17/1000000\n",
      "182/182 [==============================] - 5s 26ms/step - loss: 5.7915e-06 - mean_absolute_error: 0.0014 - val_loss: 2.0828e-06 - val_mean_absolute_error: 0.0011\n",
      "Epoch 18/1000000\n",
      "182/182 [==============================] - 5s 27ms/step - loss: 4.0263e-06 - mean_absolute_error: 0.0011 - val_loss: 5.5490e-06 - val_mean_absolute_error: 0.0022\n",
      "Epoch 19/1000000\n",
      "182/182 [==============================] - 5s 27ms/step - loss: 5.2269e-06 - mean_absolute_error: 0.0014 - val_loss: 1.6218e-06 - val_mean_absolute_error: 7.2669e-04\n",
      "Epoch 20/1000000\n",
      "182/182 [==============================] - 5s 27ms/step - loss: 3.3783e-06 - mean_absolute_error: 9.9185e-04 - val_loss: 4.8382e-06 - val_mean_absolute_error: 0.0020\n",
      "Epoch 21/1000000\n",
      "182/182 [==============================] - 5s 26ms/step - loss: 5.7360e-06 - mean_absolute_error: 0.0016 - val_loss: 1.8619e-06 - val_mean_absolute_error: 8.1048e-04\n",
      "Epoch 22/1000000\n",
      "182/182 [==============================] - 5s 27ms/step - loss: 3.7508e-06 - mean_absolute_error: 0.0012 - val_loss: 2.1882e-06 - val_mean_absolute_error: 9.9923e-04\n",
      "52/52 [==============================] - 1s 10ms/step - loss: 2.1882e-06 - mean_absolute_error: 9.9923e-04\n"
     ]
    }
   ],
   "source": [
    "history = compile_and_fit(lstm_model, wide_window)\n",
    "\n",
    "# IPython.display.clear_output()\n",
    "val_performance['LSTM'] = lstm_model.evaluate(wide_window.val)\n",
    "performance['LSTM'] = lstm_model.evaluate(wide_window.test, verbose=0)"
   ]
  },
  {
   "cell_type": "code",
   "execution_count": 275,
   "id": "7544d909",
   "metadata": {},
   "outputs": [
    {
     "data": {
      "image/png": "[encoded data removed]",
      "text/plain": [
       "<Figure size 864x576 with 3 Axes>"
      ]
     },
     "metadata": {
      "needs_background": "light"
     },
     "output_type": "display_data"
    }
   ],
   "source": [
    "wide_window.plot(lstm_model)"
   ]
  },
  {
   "cell_type": "code",
   "execution_count": 276,
   "id": "4f40748b",
   "metadata": {},
   "outputs": [],
   "source": [
    "models['lstm_model'] = {'data':lstm_model}"
   ]
  },
  {
   "cell_type": "markdown",
   "id": "c6c4584e",
   "metadata": {},
   "source": [
    "### Performance"
   ]
  },
  {
   "cell_type": "code",
   "execution_count": 277,
   "id": "939cc26d",
   "metadata": {},
   "outputs": [
    {
     "data": {
      "image/png": "[encoded data removed]",
      "text/plain": [
       "<Figure size 432x288 with 1 Axes>"
      ]
     },
     "metadata": {
      "needs_background": "light"
     },
     "output_type": "display_data"
    }
   ],
   "source": [
    "x = np.arange(len(performance))\n",
    "width = 0.3\n",
    "metric_name = 'mean_absolute_error'\n",
    "metric_index = lstm_model.metrics_names.index('mean_absolute_error')\n",
    "val_mae = [v[metric_index] for v in val_performance.values()]\n",
    "test_mae = [v[metric_index] for v in performance.values()]\n",
    "\n",
    "plt.ylabel('mean_absolute_error [Close, normalized]')\n",
    "plt.bar(x - 0.17, val_mae, width, label='Validation')\n",
    "plt.bar(x + 0.17, test_mae, width, label='Test')\n",
    "plt.xticks(ticks=x, labels=performance.keys(),\n",
    "           rotation=45)\n",
    "_ = plt.legend()"
   ]
  },
  {
   "cell_type": "code",
   "execution_count": 278,
   "id": "52176e94",
   "metadata": {},
   "outputs": [
    {
     "name": "stdout",
     "output_type": "stream",
     "text": [
      "Baseline    : 0.0022\n",
      "Linear      : 0.0001\n",
      "Dense       : 0.0014\n",
      "Multi step dense: 0.0093\n",
      "LSTM        : 0.0012\n"
     ]
    }
   ],
   "source": [
    "for name, value in performance.items():\n",
    "    print(f'{name:12s}: {value[1]:0.4f}')"
   ]
  },
  {
   "cell_type": "markdown",
   "id": "e0ed300f",
   "metadata": {},
   "source": [
    "### Save Model and Parameters for UnNormalization"
   ]
  },
  {
   "cell_type": "code",
   "execution_count": 288,
   "id": "004c06ea",
   "metadata": {},
   "outputs": [
    {
     "name": "stderr",
     "output_type": "stream",
     "text": [
      "WARNING:absl:Found untraced functions such as lstm_cell_14_layer_call_fn, lstm_cell_14_layer_call_and_return_conditional_losses while saving (showing 2 of 2). These functions will not be directly callable after loading.\n",
      "WARNING:absl:<keras.layers.recurrent.LSTMCell object at 0x00000278F3690100> has the same name 'LSTMCell' as a built-in Keras object. Consider renaming <class 'keras.layers.recurrent.LSTMCell'> to avoid naming conflicts when loading with `tf.keras.models.load_model`. If renaming is not possible, pass the object in the `custom_objects` parameter of the load function.\n"
     ]
    }
   ],
   "source": [
    "for model in models:\n",
    "    models[model]['data'].save(f'''../models/{model}''')"
   ]
  },
  {
   "cell_type": "code",
   "execution_count": 289,
   "id": "f31cdb26",
   "metadata": {},
   "outputs": [],
   "source": [
    "import json\n",
    "\n",
    "unNormalizeParams2 = unNormalizeParams.copy()\n",
    "\n",
    "unNormalizeParams2['DateTime']['min'] = unNormalizeParams2['DateTime']['min'].strftime(\"%Y-%m-%d %H:%M:%S\")\n",
    "unNormalizeParams2['DateTime']['max'] = unNormalizeParams2['DateTime']['max'].strftime(\"%Y-%m-%d %H:%M:%S\")\n",
    "\n",
    "json_object = json.dumps(unNormalizeParams2, indent = 4)\n",
    "\n",
    "with open('../models/unnormalized_parameters.json', 'w') as outfile:\n",
    "    outfile.write(json_object)"
   ]
  },
  {
   "cell_type": "code",
   "execution_count": null,
   "id": "65c204f0",
   "metadata": {},
   "outputs": [],
   "source": []
  }
 ],
 "metadata": {
  "kernelspec": {
   "display_name": "Python 3 (ipykernel)",
   "language": "python",
   "name": "python3"
  },
  "language_info": {
   "codemirror_mode": {
    "name": "ipython",
    "version": 3
   },
   "file_extension": ".py",
   "mimetype": "text/x-python",
   "name": "python",
   "nbconvert_exporter": "python",
   "pygments_lexer": "ipython3",
   "version": "3.9.7"
  }
 },
 "nbformat": 4,
 "nbformat_minor": 5
}
