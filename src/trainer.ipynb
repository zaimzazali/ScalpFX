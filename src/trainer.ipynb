{
 "cells": [
  {
   "cell_type": "markdown",
   "id": "eee661e5",
   "metadata": {},
   "source": [
    "# TRAINER"
   ]
  },
  {
   "cell_type": "markdown",
   "id": "368d27e5",
   "metadata": {},
   "source": [
    "# Getting The Data"
   ]
  },
  {
   "cell_type": "markdown",
   "id": "2e31ab58",
   "metadata": {},
   "source": [
    "### Setup IG Session"
   ]
  },
  {
   "cell_type": "code",
   "execution_count": 1,
   "id": "db8cb74e",
   "metadata": {
    "scrolled": true
   },
   "outputs": [
    {
     "name": "stdout",
     "output_type": "stream",
     "text": [
      "Requirement already satisfied: trading_ig in c:\\users\\zaimp\\anaconda3\\envs\\scalpfx\\lib\\site-packages (0.0.17)\n",
      "Requirement already satisfied: pandas in c:\\users\\zaimp\\anaconda3\\envs\\scalpfx\\lib\\site-packages (1.3.4)\n",
      "Requirement already satisfied: munch in c:\\users\\zaimp\\anaconda3\\envs\\scalpfx\\lib\\site-packages (2.5.0)\n",
      "Requirement already satisfied: tenacity in c:\\users\\zaimp\\anaconda3\\envs\\scalpfx\\lib\\site-packages (8.0.1)\n",
      "Requirement already satisfied: six<2.0,>=1.15 in c:\\users\\zaimp\\anaconda3\\envs\\scalpfx\\lib\\site-packages (from trading_ig) (1.16.0)\n",
      "Requirement already satisfied: requests-cache<0.6,>=0.5 in c:\\users\\zaimp\\anaconda3\\envs\\scalpfx\\lib\\site-packages (from trading_ig) (0.5.2)\n",
      "Requirement already satisfied: pycryptodome<4.0,>=3.9 in c:\\users\\zaimp\\anaconda3\\envs\\scalpfx\\lib\\site-packages (from trading_ig) (3.14.1)\n",
      "Requirement already satisfied: requests<3.0,>=2.24 in c:\\users\\zaimp\\anaconda3\\envs\\scalpfx\\lib\\site-packages (from trading_ig) (2.26.0)\n",
      "Requirement already satisfied: pytz>=2017.3 in c:\\users\\zaimp\\anaconda3\\envs\\scalpfx\\lib\\site-packages (from pandas) (2021.3)\n",
      "Requirement already satisfied: numpy>=1.17.3 in c:\\users\\zaimp\\anaconda3\\envs\\scalpfx\\lib\\site-packages (from pandas) (1.20.3)\n",
      "Requirement already satisfied: python-dateutil>=2.7.3 in c:\\users\\zaimp\\anaconda3\\envs\\scalpfx\\lib\\site-packages (from pandas) (2.8.2)\n",
      "Requirement already satisfied: charset-normalizer~=2.0.0 in c:\\users\\zaimp\\anaconda3\\envs\\scalpfx\\lib\\site-packages (from requests<3.0,>=2.24->trading_ig) (2.0.4)\n",
      "Requirement already satisfied: idna<4,>=2.5 in c:\\users\\zaimp\\anaconda3\\envs\\scalpfx\\lib\\site-packages (from requests<3.0,>=2.24->trading_ig) (3.2)\n",
      "Requirement already satisfied: urllib3<1.27,>=1.21.1 in c:\\users\\zaimp\\anaconda3\\envs\\scalpfx\\lib\\site-packages (from requests<3.0,>=2.24->trading_ig) (1.26.7)\n",
      "Requirement already satisfied: certifi>=2017.4.17 in c:\\users\\zaimp\\anaconda3\\envs\\scalpfx\\lib\\site-packages (from requests<3.0,>=2.24->trading_ig) (2021.10.8)\n",
      "Note: you may need to restart the kernel to use updated packages.\n"
     ]
    }
   ],
   "source": [
    "pip install trading_ig pandas munch tenacity"
   ]
  },
  {
   "cell_type": "code",
   "execution_count": 2,
   "id": "dd1a6bbd",
   "metadata": {},
   "outputs": [],
   "source": [
    "import sys\n",
    "\n",
    "sys.path.append(\"./utils/\")"
   ]
  },
  {
   "cell_type": "code",
   "execution_count": 3,
   "id": "2c0e1df0",
   "metadata": {},
   "outputs": [
    {
     "name": "stdout",
     "output_type": "stream",
     "text": [
      "IG - Instantiated\n"
     ]
    }
   ],
   "source": [
    "from utils.IG import IG\n",
    "\n",
    "_IG = IG()\n",
    "config_live = _IG.getLoginConfig('live')"
   ]
  },
  {
   "cell_type": "code",
   "execution_count": 4,
   "id": "1d9fc3ad",
   "metadata": {},
   "outputs": [
    {
     "data": {
      "text/plain": [
       "{'accountType': 'CFD',\n",
       " 'accountInfo': {'balance': 236.35,\n",
       "  'deposit': 52.81,\n",
       "  'profitLoss': -39.0,\n",
       "  'available': 144.54},\n",
       " 'currencyIsoCode': 'USD',\n",
       " 'currencySymbol': '$',\n",
       " 'currentAccountId': 'QM0EM',\n",
       " 'lightstreamerEndpoint': 'https://apd.marketdatasystems.com',\n",
       " 'accounts': [{'accountId': 'QM0EM',\n",
       "   'accountName': 'CFD Live',\n",
       "   'preferred': True,\n",
       "   'accountType': 'CFD'}],\n",
       " 'clientId': '104831189',\n",
       " 'timezoneOffset': 8,\n",
       " 'hasActiveDemoAccounts': True,\n",
       " 'hasActiveLiveAccounts': True,\n",
       " 'trailingStopsEnabled': False,\n",
       " 'reroutingEnvironment': None,\n",
       " 'dealingEnabled': True}"
      ]
     },
     "execution_count": 4,
     "metadata": {},
     "output_type": "execute_result"
    }
   ],
   "source": [
    "ig_service_live = _IG.getIgService(config_live)\n",
    "_IG.getIgAccountDetails(ig_service_live)"
   ]
  },
  {
   "cell_type": "markdown",
   "id": "c92ed013",
   "metadata": {},
   "source": [
    "### Get the Historical Data of GBP/USD Mini"
   ]
  },
  {
   "cell_type": "code",
   "execution_count": 5,
   "id": "ec2bfe24",
   "metadata": {},
   "outputs": [],
   "source": [
    "TARGET_EPIC = 'CS.D.GBPUSD.MINI.IP'\n",
    "RESOLUTION = '15Min'\n",
    "PREVIOUS_MONTHS_COUNT_FROM_TODAY = 4"
   ]
  },
  {
   "cell_type": "code",
   "execution_count": 6,
   "id": "b10c512c",
   "metadata": {},
   "outputs": [
    {
     "name": "stdout",
     "output_type": "stream",
     "text": [
      "End: 2022-05-10 23:59:59.999999\n",
      "Start: 2022-01-10 00:00:00\n"
     ]
    }
   ],
   "source": [
    "# Get today's next day date as End Date, and previous X month(s) from today as Start Date\n",
    "\n",
    "from datetime import datetime, date\n",
    "from dateutil.relativedelta import relativedelta\n",
    "\n",
    "end_date = datetime.combine(date.today(), datetime.max.time())\n",
    "start_date = datetime.combine(date.today() - relativedelta(months=PREVIOUS_MONTHS_COUNT_FROM_TODAY), datetime.min.time())\n",
    "\n",
    "print(f'''End: {end_date}''')\n",
    "print(f'''Start: {start_date}''')"
   ]
  },
  {
   "cell_type": "code",
   "execution_count": 7,
   "id": "d63c8273",
   "metadata": {
    "scrolled": true
   },
   "outputs": [],
   "source": [
    "LOCAL_READ = False\n",
    "\n",
    "try:\n",
    "    history = _IG.getHistoricalPricesByDuration(ig_service_live, {'TARGET_EPIC':TARGET_EPIC, \n",
    "                                                                  'RESOLUTION':RESOLUTION, \n",
    "                                                                  'start_date':start_date, \n",
    "                                                                  'end_date':end_date})\n",
    "    history['prices']\n",
    "except Exception as e:\n",
    "    print(e)\n",
    "    LOCAL_READ = True"
   ]
  },
  {
   "cell_type": "code",
   "execution_count": 8,
   "id": "454c8ea7",
   "metadata": {},
   "outputs": [],
   "source": [
    "# If API failed, read data from previously saved Excel File\n",
    "\n",
    "from os import listdir\n",
    "from os.path import isfile, join\n",
    "    \n",
    "def readLatestFile(TARGET_EPIC, RESOLUTION, DATA_PATH):\n",
    "    onlyfiles = [f for f in listdir(DATA_PATH) if isfile(join(DATA_PATH, f))]\n",
    "    onlyfiles.sort(reverse=True)\n",
    "    for fileName in onlyfiles:\n",
    "        if TARGET_EPIC in fileName and RESOLUTION in fileName:\n",
    "            return fileName\n",
    "        \n",
    "    return ''"
   ]
  },
  {
   "cell_type": "code",
   "execution_count": 9,
   "id": "4862729d",
   "metadata": {
    "scrolled": true
   },
   "outputs": [
    {
     "name": "stdout",
     "output_type": "stream",
     "text": [
      "Retrieved from API\n"
     ]
    },
    {
     "data": {
      "text/html": [
       "<div>\n",
       "<style scoped>\n",
       "    .dataframe tbody tr th:only-of-type {\n",
       "        vertical-align: middle;\n",
       "    }\n",
       "\n",
       "    .dataframe tbody tr th {\n",
       "        vertical-align: top;\n",
       "    }\n",
       "\n",
       "    .dataframe thead tr th {\n",
       "        text-align: left;\n",
       "    }\n",
       "</style>\n",
       "<table border=\"1\" class=\"dataframe\">\n",
       "  <thead>\n",
       "    <tr>\n",
       "      <th></th>\n",
       "      <th>DateTime</th>\n",
       "      <th colspan=\"4\" halign=\"left\">bid</th>\n",
       "      <th colspan=\"4\" halign=\"left\">ask</th>\n",
       "      <th colspan=\"5\" halign=\"left\">last</th>\n",
       "    </tr>\n",
       "    <tr>\n",
       "      <th></th>\n",
       "      <th></th>\n",
       "      <th>Open</th>\n",
       "      <th>High</th>\n",
       "      <th>Low</th>\n",
       "      <th>Close</th>\n",
       "      <th>Open</th>\n",
       "      <th>High</th>\n",
       "      <th>Low</th>\n",
       "      <th>Close</th>\n",
       "      <th>Open</th>\n",
       "      <th>High</th>\n",
       "      <th>Low</th>\n",
       "      <th>Close</th>\n",
       "      <th>Volume</th>\n",
       "    </tr>\n",
       "  </thead>\n",
       "  <tbody>\n",
       "    <tr>\n",
       "      <th>0</th>\n",
       "      <td>2022-01-10 04:00:00</td>\n",
       "      <td>1.35714</td>\n",
       "      <td>1.35816</td>\n",
       "      <td>1.35682</td>\n",
       "      <td>1.35719</td>\n",
       "      <td>1.35924</td>\n",
       "      <td>1.36003</td>\n",
       "      <td>1.35892</td>\n",
       "      <td>1.35929</td>\n",
       "      <td>NaN</td>\n",
       "      <td>NaN</td>\n",
       "      <td>NaN</td>\n",
       "      <td>NaN</td>\n",
       "      <td>58</td>\n",
       "    </tr>\n",
       "    <tr>\n",
       "      <th>1</th>\n",
       "      <td>2022-01-10 04:15:00</td>\n",
       "      <td>1.35699</td>\n",
       "      <td>1.35721</td>\n",
       "      <td>1.35691</td>\n",
       "      <td>1.35699</td>\n",
       "      <td>1.35909</td>\n",
       "      <td>1.35931</td>\n",
       "      <td>1.35901</td>\n",
       "      <td>1.35909</td>\n",
       "      <td>NaN</td>\n",
       "      <td>NaN</td>\n",
       "      <td>NaN</td>\n",
       "      <td>NaN</td>\n",
       "      <td>26</td>\n",
       "    </tr>\n",
       "    <tr>\n",
       "      <th>2</th>\n",
       "      <td>2022-01-10 04:30:00</td>\n",
       "      <td>1.35698</td>\n",
       "      <td>1.35719</td>\n",
       "      <td>1.35687</td>\n",
       "      <td>1.35698</td>\n",
       "      <td>1.35908</td>\n",
       "      <td>1.35929</td>\n",
       "      <td>1.35897</td>\n",
       "      <td>1.35908</td>\n",
       "      <td>NaN</td>\n",
       "      <td>NaN</td>\n",
       "      <td>NaN</td>\n",
       "      <td>NaN</td>\n",
       "      <td>31</td>\n",
       "    </tr>\n",
       "    <tr>\n",
       "      <th>3</th>\n",
       "      <td>2022-01-10 04:45:00</td>\n",
       "      <td>1.35700</td>\n",
       "      <td>1.35737</td>\n",
       "      <td>1.35669</td>\n",
       "      <td>1.35687</td>\n",
       "      <td>1.35910</td>\n",
       "      <td>1.35947</td>\n",
       "      <td>1.35879</td>\n",
       "      <td>1.35897</td>\n",
       "      <td>NaN</td>\n",
       "      <td>NaN</td>\n",
       "      <td>NaN</td>\n",
       "      <td>NaN</td>\n",
       "      <td>78</td>\n",
       "    </tr>\n",
       "    <tr>\n",
       "      <th>4</th>\n",
       "      <td>2022-01-10 05:00:00</td>\n",
       "      <td>1.35685</td>\n",
       "      <td>1.35810</td>\n",
       "      <td>1.35660</td>\n",
       "      <td>1.35806</td>\n",
       "      <td>1.35895</td>\n",
       "      <td>1.35946</td>\n",
       "      <td>1.35795</td>\n",
       "      <td>1.35916</td>\n",
       "      <td>NaN</td>\n",
       "      <td>NaN</td>\n",
       "      <td>NaN</td>\n",
       "      <td>NaN</td>\n",
       "      <td>256</td>\n",
       "    </tr>\n",
       "    <tr>\n",
       "      <th>...</th>\n",
       "      <td>...</td>\n",
       "      <td>...</td>\n",
       "      <td>...</td>\n",
       "      <td>...</td>\n",
       "      <td>...</td>\n",
       "      <td>...</td>\n",
       "      <td>...</td>\n",
       "      <td>...</td>\n",
       "      <td>...</td>\n",
       "      <td>...</td>\n",
       "      <td>...</td>\n",
       "      <td>...</td>\n",
       "      <td>...</td>\n",
       "      <td>...</td>\n",
       "    </tr>\n",
       "    <tr>\n",
       "      <th>8296</th>\n",
       "      <td>2022-05-09 23:00:00</td>\n",
       "      <td>1.23053</td>\n",
       "      <td>1.23216</td>\n",
       "      <td>1.23042</td>\n",
       "      <td>1.23145</td>\n",
       "      <td>1.23062</td>\n",
       "      <td>1.23225</td>\n",
       "      <td>1.23051</td>\n",
       "      <td>1.23154</td>\n",
       "      <td>NaN</td>\n",
       "      <td>NaN</td>\n",
       "      <td>NaN</td>\n",
       "      <td>NaN</td>\n",
       "      <td>2625</td>\n",
       "    </tr>\n",
       "    <tr>\n",
       "      <th>8297</th>\n",
       "      <td>2022-05-09 23:15:00</td>\n",
       "      <td>1.23144</td>\n",
       "      <td>1.23174</td>\n",
       "      <td>1.23072</td>\n",
       "      <td>1.23090</td>\n",
       "      <td>1.23153</td>\n",
       "      <td>1.23186</td>\n",
       "      <td>1.23083</td>\n",
       "      <td>1.23099</td>\n",
       "      <td>NaN</td>\n",
       "      <td>NaN</td>\n",
       "      <td>NaN</td>\n",
       "      <td>NaN</td>\n",
       "      <td>1955</td>\n",
       "    </tr>\n",
       "    <tr>\n",
       "      <th>8298</th>\n",
       "      <td>2022-05-09 23:30:00</td>\n",
       "      <td>1.23093</td>\n",
       "      <td>1.23254</td>\n",
       "      <td>1.23064</td>\n",
       "      <td>1.23228</td>\n",
       "      <td>1.23102</td>\n",
       "      <td>1.23263</td>\n",
       "      <td>1.23073</td>\n",
       "      <td>1.23237</td>\n",
       "      <td>NaN</td>\n",
       "      <td>NaN</td>\n",
       "      <td>NaN</td>\n",
       "      <td>NaN</td>\n",
       "      <td>2862</td>\n",
       "    </tr>\n",
       "    <tr>\n",
       "      <th>8299</th>\n",
       "      <td>2022-05-09 23:45:00</td>\n",
       "      <td>1.23227</td>\n",
       "      <td>1.23413</td>\n",
       "      <td>1.23214</td>\n",
       "      <td>1.23336</td>\n",
       "      <td>1.23236</td>\n",
       "      <td>1.23422</td>\n",
       "      <td>1.23223</td>\n",
       "      <td>1.23345</td>\n",
       "      <td>NaN</td>\n",
       "      <td>NaN</td>\n",
       "      <td>NaN</td>\n",
       "      <td>NaN</td>\n",
       "      <td>2735</td>\n",
       "    </tr>\n",
       "    <tr>\n",
       "      <th>8300</th>\n",
       "      <td>2022-05-10 00:00:00</td>\n",
       "      <td>1.23333</td>\n",
       "      <td>1.23399</td>\n",
       "      <td>1.23250</td>\n",
       "      <td>1.23362</td>\n",
       "      <td>1.23348</td>\n",
       "      <td>1.23411</td>\n",
       "      <td>1.23265</td>\n",
       "      <td>1.23371</td>\n",
       "      <td>NaN</td>\n",
       "      <td>NaN</td>\n",
       "      <td>NaN</td>\n",
       "      <td>NaN</td>\n",
       "      <td>1684</td>\n",
       "    </tr>\n",
       "  </tbody>\n",
       "</table>\n",
       "<p>8301 rows × 14 columns</p>\n",
       "</div>"
      ],
      "text/plain": [
       "                DateTime      bid                                 ask  \\\n",
       "                             Open     High      Low    Close     Open   \n",
       "0    2022-01-10 04:00:00  1.35714  1.35816  1.35682  1.35719  1.35924   \n",
       "1    2022-01-10 04:15:00  1.35699  1.35721  1.35691  1.35699  1.35909   \n",
       "2    2022-01-10 04:30:00  1.35698  1.35719  1.35687  1.35698  1.35908   \n",
       "3    2022-01-10 04:45:00  1.35700  1.35737  1.35669  1.35687  1.35910   \n",
       "4    2022-01-10 05:00:00  1.35685  1.35810  1.35660  1.35806  1.35895   \n",
       "...                  ...      ...      ...      ...      ...      ...   \n",
       "8296 2022-05-09 23:00:00  1.23053  1.23216  1.23042  1.23145  1.23062   \n",
       "8297 2022-05-09 23:15:00  1.23144  1.23174  1.23072  1.23090  1.23153   \n",
       "8298 2022-05-09 23:30:00  1.23093  1.23254  1.23064  1.23228  1.23102   \n",
       "8299 2022-05-09 23:45:00  1.23227  1.23413  1.23214  1.23336  1.23236   \n",
       "8300 2022-05-10 00:00:00  1.23333  1.23399  1.23250  1.23362  1.23348   \n",
       "\n",
       "                                last                        \n",
       "         High      Low    Close Open High Low Close Volume  \n",
       "0     1.36003  1.35892  1.35929  NaN  NaN NaN   NaN     58  \n",
       "1     1.35931  1.35901  1.35909  NaN  NaN NaN   NaN     26  \n",
       "2     1.35929  1.35897  1.35908  NaN  NaN NaN   NaN     31  \n",
       "3     1.35947  1.35879  1.35897  NaN  NaN NaN   NaN     78  \n",
       "4     1.35946  1.35795  1.35916  NaN  NaN NaN   NaN    256  \n",
       "...       ...      ...      ...  ...  ...  ..   ...    ...  \n",
       "8296  1.23225  1.23051  1.23154  NaN  NaN NaN   NaN   2625  \n",
       "8297  1.23186  1.23083  1.23099  NaN  NaN NaN   NaN   1955  \n",
       "8298  1.23263  1.23073  1.23237  NaN  NaN NaN   NaN   2862  \n",
       "8299  1.23422  1.23223  1.23345  NaN  NaN NaN   NaN   2735  \n",
       "8300  1.23411  1.23265  1.23371  NaN  NaN NaN   NaN   1684  \n",
       "\n",
       "[8301 rows x 14 columns]"
      ]
     },
     "execution_count": 9,
     "metadata": {},
     "output_type": "execute_result"
    }
   ],
   "source": [
    "import pandas as pd\n",
    "\n",
    "DATA_PATH = '../data/'\n",
    "\n",
    "if LOCAL_READ:\n",
    "    print(f'''{DATA_PATH}{readLatestFile(TARGET_EPIC, RESOLUTION, DATA_PATH)}''')\n",
    "    df_history = pd.read_excel(f'''{DATA_PATH}{readLatestFile(TARGET_EPIC, RESOLUTION, DATA_PATH)}''',\n",
    "                               index_col=[0], header=[0,1])\n",
    "    df_history = df_history.rename(columns={df_history.columns[0][1]:''}, level=1)\n",
    "else:\n",
    "    print('Retrieved from API')\n",
    "    df_history = pd.DataFrame.from_dict(history['prices'])\n",
    "    df_history = df_history.reset_index()\n",
    "    \n",
    "df_history"
   ]
  },
  {
   "cell_type": "code",
   "execution_count": 10,
   "id": "b37704ad",
   "metadata": {},
   "outputs": [
    {
     "data": {
      "image/png": "[encoded data removed]",
      "text/plain": [
       "<Figure size 432x288 with 1 Axes>"
      ]
     },
     "metadata": {
      "needs_background": "light"
     },
     "output_type": "display_data"
    },
    {
     "data": {
      "text/plain": [
       "<Figure size 1152x648 with 0 Axes>"
      ]
     },
     "metadata": {},
     "output_type": "display_data"
    }
   ],
   "source": [
    "import matplotlib.pyplot as plt\n",
    "\n",
    "plt.plot(df_history[('bid', 'Close')])\n",
    "\n",
    "plt.xlabel(\"DateTime\")\n",
    "plt.ylabel(\"Close\")\n",
    "plt.title(\"Historical Data\")\n",
    "\n",
    "fig = plt.figure()\n",
    "fig.set_figheight(9)\n",
    "fig.set_figwidth(16)\n",
    "\n",
    "plt.show()"
   ]
  },
  {
   "cell_type": "code",
   "execution_count": 11,
   "id": "b0a13b8f",
   "metadata": {
    "scrolled": true
   },
   "outputs": [
    {
     "data": {
      "text/html": [
       "<div>\n",
       "<style scoped>\n",
       "    .dataframe tbody tr th:only-of-type {\n",
       "        vertical-align: middle;\n",
       "    }\n",
       "\n",
       "    .dataframe tbody tr th {\n",
       "        vertical-align: top;\n",
       "    }\n",
       "\n",
       "    .dataframe thead tr th {\n",
       "        text-align: left;\n",
       "    }\n",
       "</style>\n",
       "<table border=\"1\" class=\"dataframe\">\n",
       "  <thead>\n",
       "    <tr>\n",
       "      <th></th>\n",
       "      <th>DateTime</th>\n",
       "      <th colspan=\"4\" halign=\"left\">bid</th>\n",
       "      <th colspan=\"4\" halign=\"left\">ask</th>\n",
       "      <th colspan=\"5\" halign=\"left\">last</th>\n",
       "    </tr>\n",
       "    <tr>\n",
       "      <th></th>\n",
       "      <th></th>\n",
       "      <th>Open</th>\n",
       "      <th>High</th>\n",
       "      <th>Low</th>\n",
       "      <th>Close</th>\n",
       "      <th>Open</th>\n",
       "      <th>High</th>\n",
       "      <th>Low</th>\n",
       "      <th>Close</th>\n",
       "      <th>Open</th>\n",
       "      <th>High</th>\n",
       "      <th>Low</th>\n",
       "      <th>Close</th>\n",
       "      <th>Volume</th>\n",
       "    </tr>\n",
       "  </thead>\n",
       "  <tbody>\n",
       "    <tr>\n",
       "      <th>8300</th>\n",
       "      <td>2022-05-10 00:00:00</td>\n",
       "      <td>1.23333</td>\n",
       "      <td>1.23399</td>\n",
       "      <td>1.23250</td>\n",
       "      <td>1.23362</td>\n",
       "      <td>1.23348</td>\n",
       "      <td>1.23411</td>\n",
       "      <td>1.23265</td>\n",
       "      <td>1.23371</td>\n",
       "      <td>NaN</td>\n",
       "      <td>NaN</td>\n",
       "      <td>NaN</td>\n",
       "      <td>NaN</td>\n",
       "      <td>1684</td>\n",
       "    </tr>\n",
       "    <tr>\n",
       "      <th>8299</th>\n",
       "      <td>2022-05-09 23:45:00</td>\n",
       "      <td>1.23227</td>\n",
       "      <td>1.23413</td>\n",
       "      <td>1.23214</td>\n",
       "      <td>1.23336</td>\n",
       "      <td>1.23236</td>\n",
       "      <td>1.23422</td>\n",
       "      <td>1.23223</td>\n",
       "      <td>1.23345</td>\n",
       "      <td>NaN</td>\n",
       "      <td>NaN</td>\n",
       "      <td>NaN</td>\n",
       "      <td>NaN</td>\n",
       "      <td>2735</td>\n",
       "    </tr>\n",
       "    <tr>\n",
       "      <th>8298</th>\n",
       "      <td>2022-05-09 23:30:00</td>\n",
       "      <td>1.23093</td>\n",
       "      <td>1.23254</td>\n",
       "      <td>1.23064</td>\n",
       "      <td>1.23228</td>\n",
       "      <td>1.23102</td>\n",
       "      <td>1.23263</td>\n",
       "      <td>1.23073</td>\n",
       "      <td>1.23237</td>\n",
       "      <td>NaN</td>\n",
       "      <td>NaN</td>\n",
       "      <td>NaN</td>\n",
       "      <td>NaN</td>\n",
       "      <td>2862</td>\n",
       "    </tr>\n",
       "    <tr>\n",
       "      <th>8297</th>\n",
       "      <td>2022-05-09 23:15:00</td>\n",
       "      <td>1.23144</td>\n",
       "      <td>1.23174</td>\n",
       "      <td>1.23072</td>\n",
       "      <td>1.23090</td>\n",
       "      <td>1.23153</td>\n",
       "      <td>1.23186</td>\n",
       "      <td>1.23083</td>\n",
       "      <td>1.23099</td>\n",
       "      <td>NaN</td>\n",
       "      <td>NaN</td>\n",
       "      <td>NaN</td>\n",
       "      <td>NaN</td>\n",
       "      <td>1955</td>\n",
       "    </tr>\n",
       "    <tr>\n",
       "      <th>8296</th>\n",
       "      <td>2022-05-09 23:00:00</td>\n",
       "      <td>1.23053</td>\n",
       "      <td>1.23216</td>\n",
       "      <td>1.23042</td>\n",
       "      <td>1.23145</td>\n",
       "      <td>1.23062</td>\n",
       "      <td>1.23225</td>\n",
       "      <td>1.23051</td>\n",
       "      <td>1.23154</td>\n",
       "      <td>NaN</td>\n",
       "      <td>NaN</td>\n",
       "      <td>NaN</td>\n",
       "      <td>NaN</td>\n",
       "      <td>2625</td>\n",
       "    </tr>\n",
       "    <tr>\n",
       "      <th>...</th>\n",
       "      <td>...</td>\n",
       "      <td>...</td>\n",
       "      <td>...</td>\n",
       "      <td>...</td>\n",
       "      <td>...</td>\n",
       "      <td>...</td>\n",
       "      <td>...</td>\n",
       "      <td>...</td>\n",
       "      <td>...</td>\n",
       "      <td>...</td>\n",
       "      <td>...</td>\n",
       "      <td>...</td>\n",
       "      <td>...</td>\n",
       "      <td>...</td>\n",
       "    </tr>\n",
       "    <tr>\n",
       "      <th>4</th>\n",
       "      <td>2022-01-10 05:00:00</td>\n",
       "      <td>1.35685</td>\n",
       "      <td>1.35810</td>\n",
       "      <td>1.35660</td>\n",
       "      <td>1.35806</td>\n",
       "      <td>1.35895</td>\n",
       "      <td>1.35946</td>\n",
       "      <td>1.35795</td>\n",
       "      <td>1.35916</td>\n",
       "      <td>NaN</td>\n",
       "      <td>NaN</td>\n",
       "      <td>NaN</td>\n",
       "      <td>NaN</td>\n",
       "      <td>256</td>\n",
       "    </tr>\n",
       "    <tr>\n",
       "      <th>3</th>\n",
       "      <td>2022-01-10 04:45:00</td>\n",
       "      <td>1.35700</td>\n",
       "      <td>1.35737</td>\n",
       "      <td>1.35669</td>\n",
       "      <td>1.35687</td>\n",
       "      <td>1.35910</td>\n",
       "      <td>1.35947</td>\n",
       "      <td>1.35879</td>\n",
       "      <td>1.35897</td>\n",
       "      <td>NaN</td>\n",
       "      <td>NaN</td>\n",
       "      <td>NaN</td>\n",
       "      <td>NaN</td>\n",
       "      <td>78</td>\n",
       "    </tr>\n",
       "    <tr>\n",
       "      <th>2</th>\n",
       "      <td>2022-01-10 04:30:00</td>\n",
       "      <td>1.35698</td>\n",
       "      <td>1.35719</td>\n",
       "      <td>1.35687</td>\n",
       "      <td>1.35698</td>\n",
       "      <td>1.35908</td>\n",
       "      <td>1.35929</td>\n",
       "      <td>1.35897</td>\n",
       "      <td>1.35908</td>\n",
       "      <td>NaN</td>\n",
       "      <td>NaN</td>\n",
       "      <td>NaN</td>\n",
       "      <td>NaN</td>\n",
       "      <td>31</td>\n",
       "    </tr>\n",
       "    <tr>\n",
       "      <th>1</th>\n",
       "      <td>2022-01-10 04:15:00</td>\n",
       "      <td>1.35699</td>\n",
       "      <td>1.35721</td>\n",
       "      <td>1.35691</td>\n",
       "      <td>1.35699</td>\n",
       "      <td>1.35909</td>\n",
       "      <td>1.35931</td>\n",
       "      <td>1.35901</td>\n",
       "      <td>1.35909</td>\n",
       "      <td>NaN</td>\n",
       "      <td>NaN</td>\n",
       "      <td>NaN</td>\n",
       "      <td>NaN</td>\n",
       "      <td>26</td>\n",
       "    </tr>\n",
       "    <tr>\n",
       "      <th>0</th>\n",
       "      <td>2022-01-10 04:00:00</td>\n",
       "      <td>1.35714</td>\n",
       "      <td>1.35816</td>\n",
       "      <td>1.35682</td>\n",
       "      <td>1.35719</td>\n",
       "      <td>1.35924</td>\n",
       "      <td>1.36003</td>\n",
       "      <td>1.35892</td>\n",
       "      <td>1.35929</td>\n",
       "      <td>NaN</td>\n",
       "      <td>NaN</td>\n",
       "      <td>NaN</td>\n",
       "      <td>NaN</td>\n",
       "      <td>58</td>\n",
       "    </tr>\n",
       "  </tbody>\n",
       "</table>\n",
       "<p>8301 rows × 14 columns</p>\n",
       "</div>"
      ],
      "text/plain": [
       "                DateTime      bid                                 ask  \\\n",
       "                             Open     High      Low    Close     Open   \n",
       "8300 2022-05-10 00:00:00  1.23333  1.23399  1.23250  1.23362  1.23348   \n",
       "8299 2022-05-09 23:45:00  1.23227  1.23413  1.23214  1.23336  1.23236   \n",
       "8298 2022-05-09 23:30:00  1.23093  1.23254  1.23064  1.23228  1.23102   \n",
       "8297 2022-05-09 23:15:00  1.23144  1.23174  1.23072  1.23090  1.23153   \n",
       "8296 2022-05-09 23:00:00  1.23053  1.23216  1.23042  1.23145  1.23062   \n",
       "...                  ...      ...      ...      ...      ...      ...   \n",
       "4    2022-01-10 05:00:00  1.35685  1.35810  1.35660  1.35806  1.35895   \n",
       "3    2022-01-10 04:45:00  1.35700  1.35737  1.35669  1.35687  1.35910   \n",
       "2    2022-01-10 04:30:00  1.35698  1.35719  1.35687  1.35698  1.35908   \n",
       "1    2022-01-10 04:15:00  1.35699  1.35721  1.35691  1.35699  1.35909   \n",
       "0    2022-01-10 04:00:00  1.35714  1.35816  1.35682  1.35719  1.35924   \n",
       "\n",
       "                                last                        \n",
       "         High      Low    Close Open High Low Close Volume  \n",
       "8300  1.23411  1.23265  1.23371  NaN  NaN NaN   NaN   1684  \n",
       "8299  1.23422  1.23223  1.23345  NaN  NaN NaN   NaN   2735  \n",
       "8298  1.23263  1.23073  1.23237  NaN  NaN NaN   NaN   2862  \n",
       "8297  1.23186  1.23083  1.23099  NaN  NaN NaN   NaN   1955  \n",
       "8296  1.23225  1.23051  1.23154  NaN  NaN NaN   NaN   2625  \n",
       "...       ...      ...      ...  ...  ...  ..   ...    ...  \n",
       "4     1.35946  1.35795  1.35916  NaN  NaN NaN   NaN    256  \n",
       "3     1.35947  1.35879  1.35897  NaN  NaN NaN   NaN     78  \n",
       "2     1.35929  1.35897  1.35908  NaN  NaN NaN   NaN     31  \n",
       "1     1.35931  1.35901  1.35909  NaN  NaN NaN   NaN     26  \n",
       "0     1.36003  1.35892  1.35929  NaN  NaN NaN   NaN     58  \n",
       "\n",
       "[8301 rows x 14 columns]"
      ]
     },
     "execution_count": 11,
     "metadata": {},
     "output_type": "execute_result"
    }
   ],
   "source": [
    "df_history = df_history.sort_values(by=['DateTime'], ascending=False)\n",
    "df_history"
   ]
  },
  {
   "cell_type": "code",
   "execution_count": 12,
   "id": "ad823fb6",
   "metadata": {
    "scrolled": true
   },
   "outputs": [
    {
     "data": {
      "text/html": [
       "<div>\n",
       "<style scoped>\n",
       "    .dataframe tbody tr th:only-of-type {\n",
       "        vertical-align: middle;\n",
       "    }\n",
       "\n",
       "    .dataframe tbody tr th {\n",
       "        vertical-align: top;\n",
       "    }\n",
       "\n",
       "    .dataframe thead tr th {\n",
       "        text-align: left;\n",
       "    }\n",
       "</style>\n",
       "<table border=\"1\" class=\"dataframe\">\n",
       "  <thead>\n",
       "    <tr>\n",
       "      <th></th>\n",
       "      <th colspan=\"4\" halign=\"left\">bid</th>\n",
       "      <th colspan=\"4\" halign=\"left\">ask</th>\n",
       "      <th colspan=\"5\" halign=\"left\">last</th>\n",
       "    </tr>\n",
       "    <tr>\n",
       "      <th></th>\n",
       "      <th>Open</th>\n",
       "      <th>High</th>\n",
       "      <th>Low</th>\n",
       "      <th>Close</th>\n",
       "      <th>Open</th>\n",
       "      <th>High</th>\n",
       "      <th>Low</th>\n",
       "      <th>Close</th>\n",
       "      <th>Open</th>\n",
       "      <th>High</th>\n",
       "      <th>Low</th>\n",
       "      <th>Close</th>\n",
       "      <th>Volume</th>\n",
       "    </tr>\n",
       "  </thead>\n",
       "  <tbody>\n",
       "    <tr>\n",
       "      <th>count</th>\n",
       "      <td>8301.000000</td>\n",
       "      <td>8301.000000</td>\n",
       "      <td>8301.000000</td>\n",
       "      <td>8301.000000</td>\n",
       "      <td>8301.000000</td>\n",
       "      <td>8301.000000</td>\n",
       "      <td>8301.000000</td>\n",
       "      <td>8301.000000</td>\n",
       "      <td>0.0</td>\n",
       "      <td>0.0</td>\n",
       "      <td>0.0</td>\n",
       "      <td>0.0</td>\n",
       "      <td>8301.000000</td>\n",
       "    </tr>\n",
       "    <tr>\n",
       "      <th>mean</th>\n",
       "      <td>1.322740</td>\n",
       "      <td>1.323203</td>\n",
       "      <td>1.322262</td>\n",
       "      <td>1.322727</td>\n",
       "      <td>1.322938</td>\n",
       "      <td>1.323400</td>\n",
       "      <td>1.322458</td>\n",
       "      <td>1.322922</td>\n",
       "      <td>NaN</td>\n",
       "      <td>NaN</td>\n",
       "      <td>NaN</td>\n",
       "      <td>NaN</td>\n",
       "      <td>1791.434887</td>\n",
       "    </tr>\n",
       "    <tr>\n",
       "      <th>std</th>\n",
       "      <td>0.034692</td>\n",
       "      <td>0.034629</td>\n",
       "      <td>0.034761</td>\n",
       "      <td>0.034706</td>\n",
       "      <td>0.034689</td>\n",
       "      <td>0.034624</td>\n",
       "      <td>0.034757</td>\n",
       "      <td>0.034702</td>\n",
       "      <td>NaN</td>\n",
       "      <td>NaN</td>\n",
       "      <td>NaN</td>\n",
       "      <td>NaN</td>\n",
       "      <td>922.906580</td>\n",
       "    </tr>\n",
       "    <tr>\n",
       "      <th>min</th>\n",
       "      <td>1.226410</td>\n",
       "      <td>1.227380</td>\n",
       "      <td>1.226040</td>\n",
       "      <td>1.226420</td>\n",
       "      <td>1.226500</td>\n",
       "      <td>1.227470</td>\n",
       "      <td>1.226130</td>\n",
       "      <td>1.226510</td>\n",
       "      <td>NaN</td>\n",
       "      <td>NaN</td>\n",
       "      <td>NaN</td>\n",
       "      <td>NaN</td>\n",
       "      <td>2.000000</td>\n",
       "    </tr>\n",
       "    <tr>\n",
       "      <th>25%</th>\n",
       "      <td>1.305680</td>\n",
       "      <td>1.306130</td>\n",
       "      <td>1.305190</td>\n",
       "      <td>1.305670</td>\n",
       "      <td>1.306080</td>\n",
       "      <td>1.306590</td>\n",
       "      <td>1.305550</td>\n",
       "      <td>1.306090</td>\n",
       "      <td>NaN</td>\n",
       "      <td>NaN</td>\n",
       "      <td>NaN</td>\n",
       "      <td>NaN</td>\n",
       "      <td>1129.000000</td>\n",
       "    </tr>\n",
       "    <tr>\n",
       "      <th>50%</th>\n",
       "      <td>1.319240</td>\n",
       "      <td>1.319650</td>\n",
       "      <td>1.318620</td>\n",
       "      <td>1.319220</td>\n",
       "      <td>1.319370</td>\n",
       "      <td>1.319850</td>\n",
       "      <td>1.318770</td>\n",
       "      <td>1.319360</td>\n",
       "      <td>NaN</td>\n",
       "      <td>NaN</td>\n",
       "      <td>NaN</td>\n",
       "      <td>NaN</td>\n",
       "      <td>1678.000000</td>\n",
       "    </tr>\n",
       "    <tr>\n",
       "      <th>75%</th>\n",
       "      <td>1.354220</td>\n",
       "      <td>1.354540</td>\n",
       "      <td>1.353830</td>\n",
       "      <td>1.354210</td>\n",
       "      <td>1.354400</td>\n",
       "      <td>1.354770</td>\n",
       "      <td>1.354040</td>\n",
       "      <td>1.354390</td>\n",
       "      <td>NaN</td>\n",
       "      <td>NaN</td>\n",
       "      <td>NaN</td>\n",
       "      <td>NaN</td>\n",
       "      <td>2282.000000</td>\n",
       "    </tr>\n",
       "    <tr>\n",
       "      <th>max</th>\n",
       "      <td>1.374610</td>\n",
       "      <td>1.374850</td>\n",
       "      <td>1.373980</td>\n",
       "      <td>1.374620</td>\n",
       "      <td>1.374700</td>\n",
       "      <td>1.374940</td>\n",
       "      <td>1.374070</td>\n",
       "      <td>1.374710</td>\n",
       "      <td>NaN</td>\n",
       "      <td>NaN</td>\n",
       "      <td>NaN</td>\n",
       "      <td>NaN</td>\n",
       "      <td>7683.000000</td>\n",
       "    </tr>\n",
       "  </tbody>\n",
       "</table>\n",
       "</div>"
      ],
      "text/plain": [
       "               bid                                                 ask  \\\n",
       "              Open         High          Low        Close         Open   \n",
       "count  8301.000000  8301.000000  8301.000000  8301.000000  8301.000000   \n",
       "mean      1.322740     1.323203     1.322262     1.322727     1.322938   \n",
       "std       0.034692     0.034629     0.034761     0.034706     0.034689   \n",
       "min       1.226410     1.227380     1.226040     1.226420     1.226500   \n",
       "25%       1.305680     1.306130     1.305190     1.305670     1.306080   \n",
       "50%       1.319240     1.319650     1.318620     1.319220     1.319370   \n",
       "75%       1.354220     1.354540     1.353830     1.354210     1.354400   \n",
       "max       1.374610     1.374850     1.373980     1.374620     1.374700   \n",
       "\n",
       "                                             last                               \n",
       "              High          Low        Close Open High  Low Close       Volume  \n",
       "count  8301.000000  8301.000000  8301.000000  0.0  0.0  0.0   0.0  8301.000000  \n",
       "mean      1.323400     1.322458     1.322922  NaN  NaN  NaN   NaN  1791.434887  \n",
       "std       0.034624     0.034757     0.034702  NaN  NaN  NaN   NaN   922.906580  \n",
       "min       1.227470     1.226130     1.226510  NaN  NaN  NaN   NaN     2.000000  \n",
       "25%       1.306590     1.305550     1.306090  NaN  NaN  NaN   NaN  1129.000000  \n",
       "50%       1.319850     1.318770     1.319360  NaN  NaN  NaN   NaN  1678.000000  \n",
       "75%       1.354770     1.354040     1.354390  NaN  NaN  NaN   NaN  2282.000000  \n",
       "max       1.374940     1.374070     1.374710  NaN  NaN  NaN   NaN  7683.000000  "
      ]
     },
     "execution_count": 12,
     "metadata": {},
     "output_type": "execute_result"
    }
   ],
   "source": [
    "df_history.describe()"
   ]
  },
  {
   "cell_type": "code",
   "execution_count": 13,
   "id": "e1d6393c",
   "metadata": {},
   "outputs": [],
   "source": [
    "# Data local backup\n",
    "\n",
    "if not LOCAL_READ:\n",
    "    df_history.to_excel(f'''../data/{TARGET_EPIC}-{RESOLUTION}_{date.today()}.xlsx''', index=True)"
   ]
  },
  {
   "cell_type": "markdown",
   "id": "30082818",
   "metadata": {},
   "source": [
    "# Data Transformation"
   ]
  },
  {
   "cell_type": "markdown",
   "id": "fddf66b3",
   "metadata": {},
   "source": [
    "### Refer to the Notebook (Data_Transformer.ipynb) for the detailed process"
   ]
  },
  {
   "cell_type": "code",
   "execution_count": 14,
   "id": "c158c574",
   "metadata": {
    "scrolled": true
   },
   "outputs": [
    {
     "name": "stdout",
     "output_type": "stream",
     "text": [
      "Requirement already satisfied: round2 in c:\\users\\zaimp\\anaconda3\\envs\\scalpfx\\lib\\site-packages (0.0.4)\n",
      "Note: you may need to restart the kernel to use updated packages.\n"
     ]
    }
   ],
   "source": [
    "param = df_history\n",
    "mode = \"trainer\"\n",
    "%run ./utils/Data_Transformer.ipynb"
   ]
  },
  {
   "cell_type": "code",
   "execution_count": 15,
   "id": "ff11e595",
   "metadata": {},
   "outputs": [
    {
     "data": {
      "text/html": [
       "<div>\n",
       "<style scoped>\n",
       "    .dataframe tbody tr th:only-of-type {\n",
       "        vertical-align: middle;\n",
       "    }\n",
       "\n",
       "    .dataframe tbody tr th {\n",
       "        vertical-align: top;\n",
       "    }\n",
       "\n",
       "    .dataframe thead th {\n",
       "        text-align: right;\n",
       "    }\n",
       "</style>\n",
       "<table border=\"1\" class=\"dataframe\">\n",
       "  <thead>\n",
       "    <tr style=\"text-align: right;\">\n",
       "      <th></th>\n",
       "      <th>Open</th>\n",
       "      <th>High</th>\n",
       "      <th>Low</th>\n",
       "      <th>Close</th>\n",
       "      <th>Volume</th>\n",
       "      <th>O-H</th>\n",
       "      <th>O-L</th>\n",
       "      <th>C-H</th>\n",
       "      <th>C-L</th>\n",
       "      <th>H-L</th>\n",
       "      <th>O-C-Value</th>\n",
       "      <th>O-C-Sign</th>\n",
       "    </tr>\n",
       "  </thead>\n",
       "  <tbody>\n",
       "    <tr>\n",
       "      <th>8299</th>\n",
       "      <td>0.039474</td>\n",
       "      <td>0.045772</td>\n",
       "      <td>0.041230</td>\n",
       "      <td>0.046761</td>\n",
       "      <td>0.355813</td>\n",
       "      <td>0.296355</td>\n",
       "      <td>0.012150</td>\n",
       "      <td>0.063209</td>\n",
       "      <td>0.131183</td>\n",
       "      <td>0.157294</td>\n",
       "      <td>0.120442</td>\n",
       "      <td>1.0</td>\n",
       "    </tr>\n",
       "    <tr>\n",
       "      <th>8298</th>\n",
       "      <td>0.030499</td>\n",
       "      <td>0.034922</td>\n",
       "      <td>0.031159</td>\n",
       "      <td>0.039474</td>\n",
       "      <td>0.372347</td>\n",
       "      <td>0.253566</td>\n",
       "      <td>0.027103</td>\n",
       "      <td>0.021070</td>\n",
       "      <td>0.175269</td>\n",
       "      <td>0.148329</td>\n",
       "      <td>0.148066</td>\n",
       "      <td>1.0</td>\n",
       "    </tr>\n",
       "    <tr>\n",
       "      <th>8297</th>\n",
       "      <td>0.033941</td>\n",
       "      <td>0.029633</td>\n",
       "      <td>0.031767</td>\n",
       "      <td>0.030229</td>\n",
       "      <td>0.254264</td>\n",
       "      <td>0.049128</td>\n",
       "      <td>0.066355</td>\n",
       "      <td>0.068882</td>\n",
       "      <td>0.018280</td>\n",
       "      <td>0.077425</td>\n",
       "      <td>0.059669</td>\n",
       "      <td>0.0</td>\n",
       "    </tr>\n",
       "    <tr>\n",
       "      <th>8296</th>\n",
       "      <td>0.027800</td>\n",
       "      <td>0.032413</td>\n",
       "      <td>0.029672</td>\n",
       "      <td>0.033941</td>\n",
       "      <td>0.341492</td>\n",
       "      <td>0.258320</td>\n",
       "      <td>0.010280</td>\n",
       "      <td>0.057536</td>\n",
       "      <td>0.110753</td>\n",
       "      <td>0.136104</td>\n",
       "      <td>0.101657</td>\n",
       "      <td>1.0</td>\n",
       "    </tr>\n",
       "    <tr>\n",
       "      <th>8295</th>\n",
       "      <td>0.030364</td>\n",
       "      <td>0.024886</td>\n",
       "      <td>0.026969</td>\n",
       "      <td>0.027800</td>\n",
       "      <td>0.399557</td>\n",
       "      <td>0.022187</td>\n",
       "      <td>0.083178</td>\n",
       "      <td>0.041329</td>\n",
       "      <td>0.055914</td>\n",
       "      <td>0.078240</td>\n",
       "      <td>0.040884</td>\n",
       "      <td>0.0</td>\n",
       "    </tr>\n",
       "    <tr>\n",
       "      <th>...</th>\n",
       "      <td>...</td>\n",
       "      <td>...</td>\n",
       "      <td>...</td>\n",
       "      <td>...</td>\n",
       "      <td>...</td>\n",
       "      <td>...</td>\n",
       "      <td>...</td>\n",
       "      <td>...</td>\n",
       "      <td>...</td>\n",
       "      <td>...</td>\n",
       "      <td>...</td>\n",
       "      <td>...</td>\n",
       "    </tr>\n",
       "    <tr>\n",
       "      <th>4</th>\n",
       "      <td>0.886910</td>\n",
       "      <td>0.890690</td>\n",
       "      <td>0.886786</td>\n",
       "      <td>0.891633</td>\n",
       "      <td>0.033069</td>\n",
       "      <td>0.139461</td>\n",
       "      <td>0.057944</td>\n",
       "      <td>0.013776</td>\n",
       "      <td>0.143011</td>\n",
       "      <td>0.116544</td>\n",
       "      <td>0.078453</td>\n",
       "      <td>1.0</td>\n",
       "    </tr>\n",
       "    <tr>\n",
       "      <th>3</th>\n",
       "      <td>0.887922</td>\n",
       "      <td>0.888248</td>\n",
       "      <td>0.889895</td>\n",
       "      <td>0.886977</td>\n",
       "      <td>0.009895</td>\n",
       "      <td>0.058637</td>\n",
       "      <td>0.028972</td>\n",
       "      <td>0.040519</td>\n",
       "      <td>0.019355</td>\n",
       "      <td>0.049715</td>\n",
       "      <td>0.014365</td>\n",
       "      <td>0.0</td>\n",
       "    </tr>\n",
       "    <tr>\n",
       "      <th>2</th>\n",
       "      <td>0.887787</td>\n",
       "      <td>0.887028</td>\n",
       "      <td>0.891112</td>\n",
       "      <td>0.887719</td>\n",
       "      <td>0.003776</td>\n",
       "      <td>0.033281</td>\n",
       "      <td>0.010280</td>\n",
       "      <td>0.017018</td>\n",
       "      <td>0.011828</td>\n",
       "      <td>0.020375</td>\n",
       "      <td>0.000000</td>\n",
       "      <td>0.5</td>\n",
       "    </tr>\n",
       "    <tr>\n",
       "      <th>1</th>\n",
       "      <td>0.887854</td>\n",
       "      <td>0.887163</td>\n",
       "      <td>0.891382</td>\n",
       "      <td>0.887787</td>\n",
       "      <td>0.003125</td>\n",
       "      <td>0.034865</td>\n",
       "      <td>0.007477</td>\n",
       "      <td>0.017828</td>\n",
       "      <td>0.008602</td>\n",
       "      <td>0.018745</td>\n",
       "      <td>0.000000</td>\n",
       "      <td>0.5</td>\n",
       "    </tr>\n",
       "    <tr>\n",
       "      <th>0</th>\n",
       "      <td>0.888866</td>\n",
       "      <td>0.892860</td>\n",
       "      <td>0.890774</td>\n",
       "      <td>0.889136</td>\n",
       "      <td>0.007291</td>\n",
       "      <td>0.144216</td>\n",
       "      <td>0.029907</td>\n",
       "      <td>0.069692</td>\n",
       "      <td>0.039785</td>\n",
       "      <td>0.094540</td>\n",
       "      <td>0.005525</td>\n",
       "      <td>1.0</td>\n",
       "    </tr>\n",
       "  </tbody>\n",
       "</table>\n",
       "<p>8300 rows × 12 columns</p>\n",
       "</div>"
      ],
      "text/plain": [
       "          Open      High       Low     Close    Volume       O-H       O-L  \\\n",
       "8299  0.039474  0.045772  0.041230  0.046761  0.355813  0.296355  0.012150   \n",
       "8298  0.030499  0.034922  0.031159  0.039474  0.372347  0.253566  0.027103   \n",
       "8297  0.033941  0.029633  0.031767  0.030229  0.254264  0.049128  0.066355   \n",
       "8296  0.027800  0.032413  0.029672  0.033941  0.341492  0.258320  0.010280   \n",
       "8295  0.030364  0.024886  0.026969  0.027800  0.399557  0.022187  0.083178   \n",
       "...        ...       ...       ...       ...       ...       ...       ...   \n",
       "4     0.886910  0.890690  0.886786  0.891633  0.033069  0.139461  0.057944   \n",
       "3     0.887922  0.888248  0.889895  0.886977  0.009895  0.058637  0.028972   \n",
       "2     0.887787  0.887028  0.891112  0.887719  0.003776  0.033281  0.010280   \n",
       "1     0.887854  0.887163  0.891382  0.887787  0.003125  0.034865  0.007477   \n",
       "0     0.888866  0.892860  0.890774  0.889136  0.007291  0.144216  0.029907   \n",
       "\n",
       "           C-H       C-L       H-L  O-C-Value  O-C-Sign  \n",
       "8299  0.063209  0.131183  0.157294   0.120442       1.0  \n",
       "8298  0.021070  0.175269  0.148329   0.148066       1.0  \n",
       "8297  0.068882  0.018280  0.077425   0.059669       0.0  \n",
       "8296  0.057536  0.110753  0.136104   0.101657       1.0  \n",
       "8295  0.041329  0.055914  0.078240   0.040884       0.0  \n",
       "...        ...       ...       ...        ...       ...  \n",
       "4     0.013776  0.143011  0.116544   0.078453       1.0  \n",
       "3     0.040519  0.019355  0.049715   0.014365       0.0  \n",
       "2     0.017018  0.011828  0.020375   0.000000       0.5  \n",
       "1     0.017828  0.008602  0.018745   0.000000       0.5  \n",
       "0     0.069692  0.039785  0.094540   0.005525       1.0  \n",
       "\n",
       "[8300 rows x 12 columns]"
      ]
     },
     "execution_count": 15,
     "metadata": {},
     "output_type": "execute_result"
    }
   ],
   "source": [
    "df_min_max_scaled"
   ]
  },
  {
   "cell_type": "code",
   "execution_count": 16,
   "id": "448705e8",
   "metadata": {},
   "outputs": [
    {
     "data": {
      "text/html": [
       "<div>\n",
       "<style scoped>\n",
       "    .dataframe tbody tr th:only-of-type {\n",
       "        vertical-align: middle;\n",
       "    }\n",
       "\n",
       "    .dataframe tbody tr th {\n",
       "        vertical-align: top;\n",
       "    }\n",
       "\n",
       "    .dataframe thead tr th {\n",
       "        text-align: left;\n",
       "    }\n",
       "</style>\n",
       "<table border=\"1\" class=\"dataframe\">\n",
       "  <thead>\n",
       "    <tr>\n",
       "      <th></th>\n",
       "      <th>DateTime</th>\n",
       "      <th colspan=\"4\" halign=\"left\">bid</th>\n",
       "      <th colspan=\"4\" halign=\"left\">ask</th>\n",
       "      <th>last</th>\n",
       "      <th colspan=\"4\" halign=\"left\">mid</th>\n",
       "    </tr>\n",
       "    <tr>\n",
       "      <th></th>\n",
       "      <th></th>\n",
       "      <th>Open</th>\n",
       "      <th>High</th>\n",
       "      <th>Low</th>\n",
       "      <th>Close</th>\n",
       "      <th>Open</th>\n",
       "      <th>High</th>\n",
       "      <th>Low</th>\n",
       "      <th>Close</th>\n",
       "      <th>Volume</th>\n",
       "      <th>Open</th>\n",
       "      <th>High</th>\n",
       "      <th>Low</th>\n",
       "      <th>Close</th>\n",
       "    </tr>\n",
       "  </thead>\n",
       "  <tbody>\n",
       "    <tr>\n",
       "      <th>8299</th>\n",
       "      <td>2022-05-09 23:45:00</td>\n",
       "      <td>1.23227</td>\n",
       "      <td>1.23413</td>\n",
       "      <td>1.23214</td>\n",
       "      <td>1.23336</td>\n",
       "      <td>1.23236</td>\n",
       "      <td>1.23422</td>\n",
       "      <td>1.23223</td>\n",
       "      <td>1.23345</td>\n",
       "      <td>2735</td>\n",
       "      <td>1.23231</td>\n",
       "      <td>1.23418</td>\n",
       "      <td>1.23218</td>\n",
       "      <td>1.23340</td>\n",
       "    </tr>\n",
       "    <tr>\n",
       "      <th>8298</th>\n",
       "      <td>2022-05-09 23:30:00</td>\n",
       "      <td>1.23093</td>\n",
       "      <td>1.23254</td>\n",
       "      <td>1.23064</td>\n",
       "      <td>1.23228</td>\n",
       "      <td>1.23102</td>\n",
       "      <td>1.23263</td>\n",
       "      <td>1.23073</td>\n",
       "      <td>1.23237</td>\n",
       "      <td>2862</td>\n",
       "      <td>1.23098</td>\n",
       "      <td>1.23258</td>\n",
       "      <td>1.23069</td>\n",
       "      <td>1.23232</td>\n",
       "    </tr>\n",
       "    <tr>\n",
       "      <th>8297</th>\n",
       "      <td>2022-05-09 23:15:00</td>\n",
       "      <td>1.23144</td>\n",
       "      <td>1.23174</td>\n",
       "      <td>1.23072</td>\n",
       "      <td>1.23090</td>\n",
       "      <td>1.23153</td>\n",
       "      <td>1.23186</td>\n",
       "      <td>1.23083</td>\n",
       "      <td>1.23099</td>\n",
       "      <td>1955</td>\n",
       "      <td>1.23149</td>\n",
       "      <td>1.23180</td>\n",
       "      <td>1.23078</td>\n",
       "      <td>1.23095</td>\n",
       "    </tr>\n",
       "    <tr>\n",
       "      <th>8296</th>\n",
       "      <td>2022-05-09 23:00:00</td>\n",
       "      <td>1.23053</td>\n",
       "      <td>1.23216</td>\n",
       "      <td>1.23042</td>\n",
       "      <td>1.23145</td>\n",
       "      <td>1.23062</td>\n",
       "      <td>1.23225</td>\n",
       "      <td>1.23051</td>\n",
       "      <td>1.23154</td>\n",
       "      <td>2625</td>\n",
       "      <td>1.23058</td>\n",
       "      <td>1.23221</td>\n",
       "      <td>1.23047</td>\n",
       "      <td>1.23150</td>\n",
       "    </tr>\n",
       "    <tr>\n",
       "      <th>8295</th>\n",
       "      <td>2022-05-09 22:45:00</td>\n",
       "      <td>1.23091</td>\n",
       "      <td>1.23105</td>\n",
       "      <td>1.23002</td>\n",
       "      <td>1.23054</td>\n",
       "      <td>1.23100</td>\n",
       "      <td>1.23116</td>\n",
       "      <td>1.23013</td>\n",
       "      <td>1.23063</td>\n",
       "      <td>3071</td>\n",
       "      <td>1.23096</td>\n",
       "      <td>1.23110</td>\n",
       "      <td>1.23007</td>\n",
       "      <td>1.23059</td>\n",
       "    </tr>\n",
       "    <tr>\n",
       "      <th>...</th>\n",
       "      <td>...</td>\n",
       "      <td>...</td>\n",
       "      <td>...</td>\n",
       "      <td>...</td>\n",
       "      <td>...</td>\n",
       "      <td>...</td>\n",
       "      <td>...</td>\n",
       "      <td>...</td>\n",
       "      <td>...</td>\n",
       "      <td>...</td>\n",
       "      <td>...</td>\n",
       "      <td>...</td>\n",
       "      <td>...</td>\n",
       "      <td>...</td>\n",
       "    </tr>\n",
       "    <tr>\n",
       "      <th>4</th>\n",
       "      <td>2022-01-10 05:00:00</td>\n",
       "      <td>1.35685</td>\n",
       "      <td>1.35810</td>\n",
       "      <td>1.35660</td>\n",
       "      <td>1.35806</td>\n",
       "      <td>1.35895</td>\n",
       "      <td>1.35946</td>\n",
       "      <td>1.35795</td>\n",
       "      <td>1.35916</td>\n",
       "      <td>256</td>\n",
       "      <td>1.35790</td>\n",
       "      <td>1.35878</td>\n",
       "      <td>1.35728</td>\n",
       "      <td>1.35861</td>\n",
       "    </tr>\n",
       "    <tr>\n",
       "      <th>3</th>\n",
       "      <td>2022-01-10 04:45:00</td>\n",
       "      <td>1.35700</td>\n",
       "      <td>1.35737</td>\n",
       "      <td>1.35669</td>\n",
       "      <td>1.35687</td>\n",
       "      <td>1.35910</td>\n",
       "      <td>1.35947</td>\n",
       "      <td>1.35879</td>\n",
       "      <td>1.35897</td>\n",
       "      <td>78</td>\n",
       "      <td>1.35805</td>\n",
       "      <td>1.35842</td>\n",
       "      <td>1.35774</td>\n",
       "      <td>1.35792</td>\n",
       "    </tr>\n",
       "    <tr>\n",
       "      <th>2</th>\n",
       "      <td>2022-01-10 04:30:00</td>\n",
       "      <td>1.35698</td>\n",
       "      <td>1.35719</td>\n",
       "      <td>1.35687</td>\n",
       "      <td>1.35698</td>\n",
       "      <td>1.35908</td>\n",
       "      <td>1.35929</td>\n",
       "      <td>1.35897</td>\n",
       "      <td>1.35908</td>\n",
       "      <td>31</td>\n",
       "      <td>1.35803</td>\n",
       "      <td>1.35824</td>\n",
       "      <td>1.35792</td>\n",
       "      <td>1.35803</td>\n",
       "    </tr>\n",
       "    <tr>\n",
       "      <th>1</th>\n",
       "      <td>2022-01-10 04:15:00</td>\n",
       "      <td>1.35699</td>\n",
       "      <td>1.35721</td>\n",
       "      <td>1.35691</td>\n",
       "      <td>1.35699</td>\n",
       "      <td>1.35909</td>\n",
       "      <td>1.35931</td>\n",
       "      <td>1.35901</td>\n",
       "      <td>1.35909</td>\n",
       "      <td>26</td>\n",
       "      <td>1.35804</td>\n",
       "      <td>1.35826</td>\n",
       "      <td>1.35796</td>\n",
       "      <td>1.35804</td>\n",
       "    </tr>\n",
       "    <tr>\n",
       "      <th>0</th>\n",
       "      <td>2022-01-10 04:00:00</td>\n",
       "      <td>1.35714</td>\n",
       "      <td>1.35816</td>\n",
       "      <td>1.35682</td>\n",
       "      <td>1.35719</td>\n",
       "      <td>1.35924</td>\n",
       "      <td>1.36003</td>\n",
       "      <td>1.35892</td>\n",
       "      <td>1.35929</td>\n",
       "      <td>58</td>\n",
       "      <td>1.35819</td>\n",
       "      <td>1.35910</td>\n",
       "      <td>1.35787</td>\n",
       "      <td>1.35824</td>\n",
       "    </tr>\n",
       "  </tbody>\n",
       "</table>\n",
       "<p>8300 rows × 14 columns</p>\n",
       "</div>"
      ],
      "text/plain": [
       "                DateTime      bid                                 ask  \\\n",
       "                             Open     High      Low    Close     Open   \n",
       "8299 2022-05-09 23:45:00  1.23227  1.23413  1.23214  1.23336  1.23236   \n",
       "8298 2022-05-09 23:30:00  1.23093  1.23254  1.23064  1.23228  1.23102   \n",
       "8297 2022-05-09 23:15:00  1.23144  1.23174  1.23072  1.23090  1.23153   \n",
       "8296 2022-05-09 23:00:00  1.23053  1.23216  1.23042  1.23145  1.23062   \n",
       "8295 2022-05-09 22:45:00  1.23091  1.23105  1.23002  1.23054  1.23100   \n",
       "...                  ...      ...      ...      ...      ...      ...   \n",
       "4    2022-01-10 05:00:00  1.35685  1.35810  1.35660  1.35806  1.35895   \n",
       "3    2022-01-10 04:45:00  1.35700  1.35737  1.35669  1.35687  1.35910   \n",
       "2    2022-01-10 04:30:00  1.35698  1.35719  1.35687  1.35698  1.35908   \n",
       "1    2022-01-10 04:15:00  1.35699  1.35721  1.35691  1.35699  1.35909   \n",
       "0    2022-01-10 04:00:00  1.35714  1.35816  1.35682  1.35719  1.35924   \n",
       "\n",
       "                                  last      mid                             \n",
       "         High      Low    Close Volume     Open     High      Low    Close  \n",
       "8299  1.23422  1.23223  1.23345   2735  1.23231  1.23418  1.23218  1.23340  \n",
       "8298  1.23263  1.23073  1.23237   2862  1.23098  1.23258  1.23069  1.23232  \n",
       "8297  1.23186  1.23083  1.23099   1955  1.23149  1.23180  1.23078  1.23095  \n",
       "8296  1.23225  1.23051  1.23154   2625  1.23058  1.23221  1.23047  1.23150  \n",
       "8295  1.23116  1.23013  1.23063   3071  1.23096  1.23110  1.23007  1.23059  \n",
       "...       ...      ...      ...    ...      ...      ...      ...      ...  \n",
       "4     1.35946  1.35795  1.35916    256  1.35790  1.35878  1.35728  1.35861  \n",
       "3     1.35947  1.35879  1.35897     78  1.35805  1.35842  1.35774  1.35792  \n",
       "2     1.35929  1.35897  1.35908     31  1.35803  1.35824  1.35792  1.35803  \n",
       "1     1.35931  1.35901  1.35909     26  1.35804  1.35826  1.35796  1.35804  \n",
       "0     1.36003  1.35892  1.35929     58  1.35819  1.35910  1.35787  1.35824  \n",
       "\n",
       "[8300 rows x 14 columns]"
      ]
     },
     "execution_count": 16,
     "metadata": {},
     "output_type": "execute_result"
    }
   ],
   "source": [
    "df_history2"
   ]
  },
  {
   "cell_type": "markdown",
   "id": "2c4c7a7a",
   "metadata": {},
   "source": [
    "# Build the Predictive Models"
   ]
  },
  {
   "cell_type": "code",
   "execution_count": 17,
   "id": "ba8a87c9",
   "metadata": {
    "scrolled": true
   },
   "outputs": [
    {
     "name": "stdout",
     "output_type": "stream",
     "text": [
      "Requirement already satisfied: tensorflow in c:\\users\\zaimp\\anaconda3\\envs\\scalpfx\\lib\\site-packages (2.8.0)\n",
      "Requirement already satisfied: libclang>=9.0.1 in c:\\users\\zaimp\\anaconda3\\envs\\scalpfx\\lib\\site-packages (from tensorflow) (14.0.1)\n",
      "Requirement already satisfied: keras<2.9,>=2.8.0rc0 in c:\\users\\zaimp\\anaconda3\\envs\\scalpfx\\lib\\site-packages (from tensorflow) (2.8.0)\n",
      "Requirement already satisfied: keras-preprocessing>=1.1.1 in c:\\users\\zaimp\\anaconda3\\envs\\scalpfx\\lib\\site-packages (from tensorflow) (1.1.2)\n",
      "Requirement already satisfied: typing-extensions>=3.6.6 in c:\\users\\zaimp\\anaconda3\\envs\\scalpfx\\lib\\site-packages (from tensorflow) (3.10.0.2)\n",
      "Requirement already satisfied: gast>=0.2.1 in c:\\users\\zaimp\\anaconda3\\envs\\scalpfx\\lib\\site-packages (from tensorflow) (0.5.3)\n",
      "Requirement already satisfied: opt-einsum>=2.3.2 in c:\\users\\zaimp\\anaconda3\\envs\\scalpfx\\lib\\site-packages (from tensorflow) (3.3.0)\n",
      "Requirement already satisfied: grpcio<2.0,>=1.24.3 in c:\\users\\zaimp\\anaconda3\\envs\\scalpfx\\lib\\site-packages (from tensorflow) (1.46.0)\n",
      "Requirement already satisfied: protobuf>=3.9.2 in c:\\users\\zaimp\\anaconda3\\envs\\scalpfx\\lib\\site-packages (from tensorflow) (3.20.1)\n",
      "Requirement already satisfied: h5py>=2.9.0 in c:\\users\\zaimp\\anaconda3\\envs\\scalpfx\\lib\\site-packages (from tensorflow) (3.2.1)\n",
      "Requirement already satisfied: flatbuffers>=1.12 in c:\\users\\zaimp\\anaconda3\\envs\\scalpfx\\lib\\site-packages (from tensorflow) (2.0)\n",
      "Requirement already satisfied: numpy>=1.20 in c:\\users\\zaimp\\anaconda3\\envs\\scalpfx\\lib\\site-packages (from tensorflow) (1.20.3)\n",
      "Requirement already satisfied: tensorflow-io-gcs-filesystem>=0.23.1 in c:\\users\\zaimp\\anaconda3\\envs\\scalpfx\\lib\\site-packages (from tensorflow) (0.25.0)\n",
      "Requirement already satisfied: setuptools in c:\\users\\zaimp\\anaconda3\\envs\\scalpfx\\lib\\site-packages (from tensorflow) (58.0.4)\n",
      "Requirement already satisfied: google-pasta>=0.1.1 in c:\\users\\zaimp\\anaconda3\\envs\\scalpfx\\lib\\site-packages (from tensorflow) (0.2.0)\n",
      "Requirement already satisfied: tensorboard<2.9,>=2.8 in c:\\users\\zaimp\\anaconda3\\envs\\scalpfx\\lib\\site-packages (from tensorflow) (2.8.0)\n",
      "Requirement already satisfied: six>=1.12.0 in c:\\users\\zaimp\\anaconda3\\envs\\scalpfx\\lib\\site-packages (from tensorflow) (1.16.0)\n",
      "Requirement already satisfied: astunparse>=1.6.0 in c:\\users\\zaimp\\anaconda3\\envs\\scalpfx\\lib\\site-packages (from tensorflow) (1.6.3)\n",
      "Requirement already satisfied: tf-estimator-nightly==2.8.0.dev2021122109 in c:\\users\\zaimp\\anaconda3\\envs\\scalpfx\\lib\\site-packages (from tensorflow) (2.8.0.dev2021122109)\n",
      "Requirement already satisfied: wrapt>=1.11.0 in c:\\users\\zaimp\\anaconda3\\envs\\scalpfx\\lib\\site-packages (from tensorflow) (1.12.1)\n",
      "Requirement already satisfied: termcolor>=1.1.0 in c:\\users\\zaimp\\anaconda3\\envs\\scalpfx\\lib\\site-packages (from tensorflow) (1.1.0)\n",
      "Requirement already satisfied: absl-py>=0.4.0 in c:\\users\\zaimp\\anaconda3\\envs\\scalpfx\\lib\\site-packages (from tensorflow) (1.0.0)\n",
      "Requirement already satisfied: wheel<1.0,>=0.23.0 in c:\\users\\zaimp\\anaconda3\\envs\\scalpfx\\lib\\site-packages (from astunparse>=1.6.0->tensorflow) (0.37.0)\n",
      "Requirement already satisfied: requests<3,>=2.21.0 in c:\\users\\zaimp\\anaconda3\\envs\\scalpfx\\lib\\site-packages (from tensorboard<2.9,>=2.8->tensorflow) (2.26.0)\n",
      "Requirement already satisfied: werkzeug>=0.11.15 in c:\\users\\zaimp\\anaconda3\\envs\\scalpfx\\lib\\site-packages (from tensorboard<2.9,>=2.8->tensorflow) (2.0.2)\n",
      "Requirement already satisfied: google-auth<3,>=1.6.3 in c:\\users\\zaimp\\anaconda3\\envs\\scalpfx\\lib\\site-packages (from tensorboard<2.9,>=2.8->tensorflow) (2.6.6)\n",
      "Requirement already satisfied: google-auth-oauthlib<0.5,>=0.4.1 in c:\\users\\zaimp\\anaconda3\\envs\\scalpfx\\lib\\site-packages (from tensorboard<2.9,>=2.8->tensorflow) (0.4.6)\n",
      "Requirement already satisfied: tensorboard-plugin-wit>=1.6.0 in c:\\users\\zaimp\\anaconda3\\envs\\scalpfx\\lib\\site-packages (from tensorboard<2.9,>=2.8->tensorflow) (1.8.1)\n",
      "Requirement already satisfied: markdown>=2.6.8 in c:\\users\\zaimp\\anaconda3\\envs\\scalpfx\\lib\\site-packages (from tensorboard<2.9,>=2.8->tensorflow) (3.3.7)\n",
      "Requirement already satisfied: tensorboard-data-server<0.7.0,>=0.6.0 in c:\\users\\zaimp\\anaconda3\\envs\\scalpfx\\lib\\site-packages (from tensorboard<2.9,>=2.8->tensorflow) (0.6.1)\n",
      "Requirement already satisfied: cachetools<6.0,>=2.0.0 in c:\\users\\zaimp\\anaconda3\\envs\\scalpfx\\lib\\site-packages (from google-auth<3,>=1.6.3->tensorboard<2.9,>=2.8->tensorflow) (5.0.0)\n",
      "Requirement already satisfied: rsa<5,>=3.1.4 in c:\\users\\zaimp\\anaconda3\\envs\\scalpfx\\lib\\site-packages (from google-auth<3,>=1.6.3->tensorboard<2.9,>=2.8->tensorflow) (4.8)\n",
      "Requirement already satisfied: pyasn1-modules>=0.2.1 in c:\\users\\zaimp\\anaconda3\\envs\\scalpfx\\lib\\site-packages (from google-auth<3,>=1.6.3->tensorboard<2.9,>=2.8->tensorflow) (0.2.8)\n",
      "Requirement already satisfied: requests-oauthlib>=0.7.0 in c:\\users\\zaimp\\anaconda3\\envs\\scalpfx\\lib\\site-packages (from google-auth-oauthlib<0.5,>=0.4.1->tensorboard<2.9,>=2.8->tensorflow) (1.3.1)\n",
      "Requirement already satisfied: importlib-metadata>=4.4 in c:\\users\\zaimp\\anaconda3\\envs\\scalpfx\\lib\\site-packages (from markdown>=2.6.8->tensorboard<2.9,>=2.8->tensorflow) (4.8.1)\n",
      "Requirement already satisfied: zipp>=0.5 in c:\\users\\zaimp\\anaconda3\\envs\\scalpfx\\lib\\site-packages (from importlib-metadata>=4.4->markdown>=2.6.8->tensorboard<2.9,>=2.8->tensorflow) (3.6.0)\n",
      "Requirement already satisfied: pyasn1<0.5.0,>=0.4.6 in c:\\users\\zaimp\\anaconda3\\envs\\scalpfx\\lib\\site-packages (from pyasn1-modules>=0.2.1->google-auth<3,>=1.6.3->tensorboard<2.9,>=2.8->tensorflow) (0.4.8)\n",
      "Requirement already satisfied: certifi>=2017.4.17 in c:\\users\\zaimp\\anaconda3\\envs\\scalpfx\\lib\\site-packages (from requests<3,>=2.21.0->tensorboard<2.9,>=2.8->tensorflow) (2021.10.8)\n",
      "Requirement already satisfied: charset-normalizer~=2.0.0 in c:\\users\\zaimp\\anaconda3\\envs\\scalpfx\\lib\\site-packages (from requests<3,>=2.21.0->tensorboard<2.9,>=2.8->tensorflow) (2.0.4)\n",
      "Requirement already satisfied: urllib3<1.27,>=1.21.1 in c:\\users\\zaimp\\anaconda3\\envs\\scalpfx\\lib\\site-packages (from requests<3,>=2.21.0->tensorboard<2.9,>=2.8->tensorflow) (1.26.7)\n",
      "Requirement already satisfied: idna<4,>=2.5 in c:\\users\\zaimp\\anaconda3\\envs\\scalpfx\\lib\\site-packages (from requests<3,>=2.21.0->tensorboard<2.9,>=2.8->tensorflow) (3.2)\n",
      "Requirement already satisfied: oauthlib>=3.0.0 in c:\\users\\zaimp\\anaconda3\\envs\\scalpfx\\lib\\site-packages (from requests-oauthlib>=0.7.0->google-auth-oauthlib<0.5,>=0.4.1->tensorboard<2.9,>=2.8->tensorflow) (3.2.0)\n",
      "Note: you may need to restart the kernel to use updated packages.\n"
     ]
    }
   ],
   "source": [
    "pip install tensorflow"
   ]
  },
  {
   "cell_type": "code",
   "execution_count": 18,
   "id": "615cae89",
   "metadata": {},
   "outputs": [],
   "source": [
    "df = df_min_max_scaled.copy()"
   ]
  },
  {
   "cell_type": "code",
   "execution_count": 19,
   "id": "af89c99f",
   "metadata": {},
   "outputs": [],
   "source": [
    "column_indices = {name: i for i, name in enumerate(df.columns)}\n",
    "\n",
    "n = len(df)\n",
    "train_df = df[0:int(n*0.7)]\n",
    "val_df = df[int(n*0.7):int(n*0.9)]\n",
    "test_df = df[int(n*0.9):]\n",
    "\n",
    "num_features = df.shape[1]"
   ]
  },
  {
   "cell_type": "code",
   "execution_count": 20,
   "id": "253c4e7e",
   "metadata": {},
   "outputs": [],
   "source": [
    "import numpy as np\n",
    "\n",
    "class WindowGenerator():\n",
    "    def __init__(self, input_width, label_width, shift,\n",
    "                 train_df=train_df, val_df=val_df, test_df=test_df,\n",
    "                 label_columns=None):\n",
    "        # Store the raw data.\n",
    "        self.train_df = train_df\n",
    "        self.val_df = val_df\n",
    "        self.test_df = test_df\n",
    "\n",
    "        # Work out the label column indices.\n",
    "        self.label_columns = label_columns\n",
    "        if label_columns is not None:\n",
    "            self.label_columns_indices = {name: i for i, name in\n",
    "                                          enumerate(label_columns)}\n",
    "            self.column_indices = {name: i for i, name in\n",
    "                                   enumerate(train_df.columns)}\n",
    "\n",
    "        # Work out the window parameters.\n",
    "        self.input_width = input_width\n",
    "        self.label_width = label_width\n",
    "        self.shift = shift\n",
    "\n",
    "        self.total_window_size = input_width + shift\n",
    "\n",
    "        self.input_slice = slice(0, input_width)\n",
    "        self.input_indices = np.arange(self.total_window_size)[self.input_slice]\n",
    "\n",
    "        self.label_start = self.total_window_size - self.label_width\n",
    "        self.labels_slice = slice(self.label_start, None)\n",
    "        self.label_indices = np.arange(self.total_window_size)[self.labels_slice]\n",
    "\n",
    "    def __repr__(self):\n",
    "        return '\\n'.join([\n",
    "            f'Total window size: {self.total_window_size}',\n",
    "            f'Input indices: {self.input_indices}',\n",
    "            f'Label indices: {self.label_indices}',\n",
    "            f'Label column name(s): {self.label_columns}'])"
   ]
  },
  {
   "cell_type": "code",
   "execution_count": 21,
   "id": "cb8e88ec",
   "metadata": {},
   "outputs": [
    {
     "data": {
      "text/plain": [
       "Total window size: 48\n",
       "Input indices: [ 0  1  2  3  4  5  6  7  8  9 10 11 12 13 14 15 16 17 18 19 20 21 22 23]\n",
       "Label indices: [47]\n",
       "Label column name(s): ['Close']"
      ]
     },
     "execution_count": 21,
     "metadata": {},
     "output_type": "execute_result"
    }
   ],
   "source": [
    "w1 = WindowGenerator(input_width=24, label_width=1, shift=24,\n",
    "                     label_columns=['Close'])\n",
    "w1"
   ]
  },
  {
   "cell_type": "code",
   "execution_count": 22,
   "id": "6c59496e",
   "metadata": {},
   "outputs": [
    {
     "data": {
      "text/plain": [
       "Total window size: 8\n",
       "Input indices: [0 1 2 3 4 5 6]\n",
       "Label indices: [7]\n",
       "Label column name(s): ['Close']"
      ]
     },
     "execution_count": 22,
     "metadata": {},
     "output_type": "execute_result"
    }
   ],
   "source": [
    "w2 = WindowGenerator(input_width=7, label_width=1, shift=1,\n",
    "                     label_columns=['Close'])\n",
    "w2"
   ]
  },
  {
   "cell_type": "code",
   "execution_count": 23,
   "id": "3f0861a1",
   "metadata": {},
   "outputs": [],
   "source": [
    "def split_window(self, features):\n",
    "    inputs = features[:, self.input_slice, :]\n",
    "    labels = features[:, self.labels_slice, :]\n",
    "    if self.label_columns is not None:\n",
    "        labels = tf.stack(\n",
    "            [labels[:, :, self.column_indices[name]] for name in self.label_columns], axis=-1)\n",
    "        \n",
    "    # Slicing doesn't preserve static shape information, so set the shapes\n",
    "    # manually. This way the `tf.data.Datasets` are easier to inspect.\n",
    "    inputs.set_shape([None, self.input_width, None])\n",
    "    labels.set_shape([None, self.label_width, None])\n",
    "    \n",
    "    return inputs, labels\n",
    "\n",
    "WindowGenerator.split_window = split_window"
   ]
  },
  {
   "cell_type": "code",
   "execution_count": 24,
   "id": "a02156f8",
   "metadata": {},
   "outputs": [],
   "source": [
    "import tensorflow as tf"
   ]
  },
  {
   "cell_type": "code",
   "execution_count": 25,
   "id": "f2860f9c",
   "metadata": {},
   "outputs": [
    {
     "name": "stdout",
     "output_type": "stream",
     "text": [
      "All shapes are: (batch, time, features)\n",
      "Window shape: (3, 8, 12)\n",
      "Inputs shape: (3, 7, 12)\n",
      "Labels shape: (3, 1, 1)\n"
     ]
    }
   ],
   "source": [
    "# Stack three slices, the length of the total window.\n",
    "example_window = tf.stack([np.array(train_df[:w2.total_window_size]),\n",
    "                           np.array(train_df[100:100+w2.total_window_size]),\n",
    "                           np.array(train_df[200:200+w2.total_window_size])])\n",
    "\n",
    "example_inputs, example_labels = w2.split_window(example_window)\n",
    "\n",
    "print('All shapes are: (batch, time, features)')\n",
    "print(f'Window shape: {example_window.shape}')\n",
    "print(f'Inputs shape: {example_inputs.shape}')\n",
    "print(f'Labels shape: {example_labels.shape}')"
   ]
  },
  {
   "cell_type": "code",
   "execution_count": 26,
   "id": "e80655de",
   "metadata": {},
   "outputs": [],
   "source": [
    "w2.example = example_inputs, example_labels"
   ]
  },
  {
   "cell_type": "code",
   "execution_count": 27,
   "id": "a9608e71",
   "metadata": {},
   "outputs": [],
   "source": [
    "import matplotlib.pyplot as plt\n",
    "\n",
    "def plot(self, model=None, plot_col='Close', max_subplots=3):\n",
    "    inputs, labels = self.example\n",
    "    plt.figure(figsize=(12, 8))\n",
    "    plot_col_index = self.column_indices[plot_col]\n",
    "    max_n = min(max_subplots, len(inputs))\n",
    "    \n",
    "    for n in range(max_n):\n",
    "        plt.subplot(max_n, 1, n+1)\n",
    "        plt.ylabel(f'{plot_col} [normed]')\n",
    "        plt.plot(self.input_indices, inputs[n, :, plot_col_index],\n",
    "                 label='Inputs', marker='.', zorder=-10)\n",
    "\n",
    "        if self.label_columns:\n",
    "            label_col_index = self.label_columns_indices.get(plot_col, None)\n",
    "        else:\n",
    "            label_col_index = plot_col_index\n",
    "\n",
    "        if label_col_index is None:\n",
    "            continue\n",
    "\n",
    "        plt.scatter(self.label_indices, labels[n, :, label_col_index],\n",
    "                    edgecolors='k', label='Labels', c='#2ca02c', s=64)\n",
    "        if model is not None:\n",
    "            predictions = model(inputs)\n",
    "            plt.scatter(self.label_indices, predictions[n, :, label_col_index],\n",
    "                        marker='X', edgecolors='k', label='Predictions',\n",
    "                        c='#ff7f0e', s=64)\n",
    "\n",
    "        if n == 0:\n",
    "            plt.legend()\n",
    "        \n",
    "    plt.xlabel('DateTime')\n",
    "\n",
    "WindowGenerator.plot = plot"
   ]
  },
  {
   "cell_type": "code",
   "execution_count": 28,
   "id": "a8d7462c",
   "metadata": {},
   "outputs": [
    {
     "data": {
      "image/png": "[encoded data removed]",
      "text/plain": [
       "<Figure size 864x576 with 3 Axes>"
      ]
     },
     "metadata": {
      "needs_background": "light"
     },
     "output_type": "display_data"
    }
   ],
   "source": [
    "w2.plot()"
   ]
  },
  {
   "cell_type": "code",
   "execution_count": 29,
   "id": "3730dd91",
   "metadata": {},
   "outputs": [],
   "source": [
    "def make_dataset(self, data):\n",
    "    data = np.array(data, dtype=np.float32)\n",
    "    ds = tf.keras.utils.timeseries_dataset_from_array(\n",
    "        data=data,\n",
    "        targets=None,\n",
    "        sequence_length=self.total_window_size,\n",
    "        sequence_stride=1,\n",
    "        shuffle=True,\n",
    "        batch_size=32,)\n",
    "    \n",
    "    ds = ds.map(self.split_window)\n",
    "    return ds\n",
    "\n",
    "WindowGenerator.make_dataset = make_dataset"
   ]
  },
  {
   "cell_type": "code",
   "execution_count": 30,
   "id": "6321fc38",
   "metadata": {},
   "outputs": [],
   "source": [
    "@property\n",
    "def train(self):\n",
    "    return self.make_dataset(self.train_df)\n",
    "\n",
    "@property\n",
    "def val(self):\n",
    "    return self.make_dataset(self.val_df)\n",
    "\n",
    "@property\n",
    "def test(self):\n",
    "    return self.make_dataset(self.test_df)\n",
    "\n",
    "@property\n",
    "def example(self):\n",
    "    \"\"\"Get and cache an example batch of `inputs, labels` for plotting.\"\"\"\n",
    "    result = getattr(self, '_example', None)\n",
    "    if result is None:\n",
    "        # No example batch was found, so get one from the `.train` dataset\n",
    "        result = next(iter(self.train))\n",
    "        # And cache it for next time\n",
    "        self._example = result\n",
    "    return result\n",
    "\n",
    "WindowGenerator.train = train\n",
    "WindowGenerator.val = val\n",
    "WindowGenerator.test = test\n",
    "WindowGenerator.example = example"
   ]
  },
  {
   "cell_type": "code",
   "execution_count": 31,
   "id": "fab91675",
   "metadata": {},
   "outputs": [
    {
     "data": {
      "text/plain": [
       "(TensorSpec(shape=(None, 7, 12), dtype=tf.float32, name=None),\n",
       " TensorSpec(shape=(None, 1, 1), dtype=tf.float32, name=None))"
      ]
     },
     "execution_count": 31,
     "metadata": {},
     "output_type": "execute_result"
    }
   ],
   "source": [
    "# Each element is an (inputs, label) pair.\n",
    "w2.train.element_spec"
   ]
  },
  {
   "cell_type": "code",
   "execution_count": 32,
   "id": "7bf88a61",
   "metadata": {},
   "outputs": [
    {
     "name": "stdout",
     "output_type": "stream",
     "text": [
      "Inputs shape (batch, time, features): (32, 7, 12)\n",
      "Labels shape (batch, time, features): (32, 1, 1)\n"
     ]
    }
   ],
   "source": [
    "for example_inputs, example_labels in w2.train.take(1):\n",
    "    print(f'Inputs shape (batch, time, features): {example_inputs.shape}')\n",
    "    print(f'Labels shape (batch, time, features): {example_labels.shape}')"
   ]
  },
  {
   "cell_type": "markdown",
   "id": "e0e2d123",
   "metadata": {},
   "source": [
    "### Single-Step Models"
   ]
  },
  {
   "cell_type": "code",
   "execution_count": 33,
   "id": "def6ce87",
   "metadata": {},
   "outputs": [
    {
     "data": {
      "text/plain": [
       "Total window size: 2\n",
       "Input indices: [0]\n",
       "Label indices: [1]\n",
       "Label column name(s): ['Close']"
      ]
     },
     "execution_count": 33,
     "metadata": {},
     "output_type": "execute_result"
    }
   ],
   "source": [
    "single_step_window = WindowGenerator(\n",
    "    input_width=1, label_width=1, shift=1,\n",
    "    label_columns=['Close'])\n",
    "single_step_window"
   ]
  },
  {
   "cell_type": "code",
   "execution_count": 34,
   "id": "a0b61489",
   "metadata": {},
   "outputs": [
    {
     "name": "stdout",
     "output_type": "stream",
     "text": [
      "Inputs shape (batch, time, features): (32, 1, 12)\n",
      "Labels shape (batch, time, features): (32, 1, 1)\n"
     ]
    }
   ],
   "source": [
    "for example_inputs, example_labels in single_step_window.train.take(1):\n",
    "    print(f'Inputs shape (batch, time, features): {example_inputs.shape}')\n",
    "    print(f'Labels shape (batch, time, features): {example_labels.shape}')"
   ]
  },
  {
   "cell_type": "code",
   "execution_count": 35,
   "id": "4b2baab8",
   "metadata": {},
   "outputs": [],
   "source": [
    "models = {}"
   ]
  },
  {
   "cell_type": "markdown",
   "id": "1964516a",
   "metadata": {},
   "source": [
    "### Baseline"
   ]
  },
  {
   "cell_type": "code",
   "execution_count": 36,
   "id": "d33cab1f",
   "metadata": {},
   "outputs": [],
   "source": [
    "class Baseline(tf.keras.Model):\n",
    "    def __init__(self, label_index=None):\n",
    "        super().__init__()\n",
    "        self.label_index = label_index\n",
    "        \n",
    "    def call(self, inputs):\n",
    "        if self.label_index is None:\n",
    "            return inputs\n",
    "        result = inputs[:, :, self.label_index]\n",
    "        return result[:, :, tf.newaxis]"
   ]
  },
  {
   "cell_type": "code",
   "execution_count": 37,
   "id": "7d92f127",
   "metadata": {},
   "outputs": [
    {
     "name": "stdout",
     "output_type": "stream",
     "text": [
      "52/52 [==============================] - 0s 1ms/step - loss: 1.6819e-05 - mean_absolute_error: 0.0028\n"
     ]
    }
   ],
   "source": [
    "baseline = Baseline(label_index=column_indices['Close'])\n",
    "\n",
    "baseline.compile(loss=tf.losses.MeanSquaredError(),\n",
    "                 metrics=[tf.metrics.MeanAbsoluteError()])\n",
    "\n",
    "val_performance = {}\n",
    "performance = {}\n",
    "\n",
    "val_performance['Baseline'] = baseline.evaluate(single_step_window.val)\n",
    "performance['Baseline'] = baseline.evaluate(single_step_window.test, verbose=0)"
   ]
  },
  {
   "cell_type": "code",
   "execution_count": 102,
   "id": "358d485d",
   "metadata": {},
   "outputs": [
    {
     "data": {
      "text/plain": [
       "Total window size: 8\n",
       "Input indices: [0 1 2 3 4 5 6]\n",
       "Label indices: [1 2 3 4 5 6 7]\n",
       "Label column name(s): ['Close']"
      ]
     },
     "execution_count": 102,
     "metadata": {},
     "output_type": "execute_result"
    }
   ],
   "source": [
    "wide_window = WindowGenerator(\n",
    "    input_width=7, label_width=7, shift=1,\n",
    "    label_columns=['Close'])\n",
    "\n",
    "wide_window"
   ]
  },
  {
   "cell_type": "code",
   "execution_count": 103,
   "id": "3bec612b",
   "metadata": {},
   "outputs": [
    {
     "name": "stdout",
     "output_type": "stream",
     "text": [
      "Input shape: (32, 7, 12)\n",
      "Output shape: (32, 7, 1)\n"
     ]
    }
   ],
   "source": [
    "print('Input shape:', wide_window.example[0].shape)\n",
    "print('Output shape:', baseline(wide_window.example[0]).shape)"
   ]
  },
  {
   "cell_type": "code",
   "execution_count": 104,
   "id": "4045e2ec",
   "metadata": {},
   "outputs": [
    {
     "data": {
      "image/png": "[encoded data removed]",
      "text/plain": [
       "<Figure size 864x576 with 3 Axes>"
      ]
     },
     "metadata": {
      "needs_background": "light"
     },
     "output_type": "display_data"
    }
   ],
   "source": [
    "wide_window.plot(baseline)"
   ]
  },
  {
   "cell_type": "code",
   "execution_count": 105,
   "id": "6758ad5a",
   "metadata": {},
   "outputs": [],
   "source": [
    "models['baseline'] = {'data':baseline}"
   ]
  },
  {
   "cell_type": "markdown",
   "id": "7e6051b7",
   "metadata": {},
   "source": [
    "### Linear"
   ]
  },
  {
   "cell_type": "code",
   "execution_count": 106,
   "id": "2db6da56",
   "metadata": {},
   "outputs": [],
   "source": [
    "linear = tf.keras.Sequential([\n",
    "    tf.keras.layers.Dense(units=1) # Linear\n",
    "])"
   ]
  },
  {
   "cell_type": "code",
   "execution_count": 107,
   "id": "22df6537",
   "metadata": {},
   "outputs": [
    {
     "name": "stdout",
     "output_type": "stream",
     "text": [
      "Input shape: (32, 1, 12)\n",
      "Output shape: (32, 1, 1)\n"
     ]
    }
   ],
   "source": [
    "print('Input shape:', single_step_window.example[0].shape)\n",
    "print('Output shape:', linear(single_step_window.example[0]).shape)"
   ]
  },
  {
   "cell_type": "code",
   "execution_count": 108,
   "id": "cbee2622",
   "metadata": {},
   "outputs": [],
   "source": [
    "MAX_EPOCHS = 1000000\n",
    "\n",
    "def compile_and_fit(model, window, patience=3):\n",
    "    early_stopping = tf.keras.callbacks.EarlyStopping(monitor='val_loss',\n",
    "                                                      patience=patience,\n",
    "                                                      mode='min')\n",
    "    model.compile(loss=tf.losses.MeanSquaredError(),\n",
    "                optimizer=tf.optimizers.Adam(),\n",
    "                metrics=[tf.metrics.MeanAbsoluteError()])\n",
    "    history = model.fit(window.train, epochs=MAX_EPOCHS,\n",
    "                      validation_data=window.val,\n",
    "                      callbacks=[early_stopping])\n",
    "    return history"
   ]
  },
  {
   "cell_type": "code",
   "execution_count": 109,
   "id": "72f2b76d",
   "metadata": {
    "scrolled": true
   },
   "outputs": [
    {
     "name": "stdout",
     "output_type": "stream",
     "text": [
      "Epoch 1/1000000\n",
      "182/182 [==============================] - 1s 6ms/step - loss: 0.0327 - mean_absolute_error: 0.1387 - val_loss: 0.0226 - val_mean_absolute_error: 0.1351\n",
      "Epoch 2/1000000\n",
      "182/182 [==============================] - 1s 3ms/step - loss: 0.0077 - mean_absolute_error: 0.0649 - val_loss: 0.0049 - val_mean_absolute_error: 0.0631\n",
      "Epoch 3/1000000\n",
      "182/182 [==============================] - 1s 3ms/step - loss: 0.0020 - mean_absolute_error: 0.0317 - val_loss: 0.0012 - val_mean_absolute_error: 0.0297\n",
      "Epoch 4/1000000\n",
      "182/182 [==============================] - 1s 3ms/step - loss: 5.7166e-04 - mean_absolute_error: 0.0165 - val_loss: 3.1640e-04 - val_mean_absolute_error: 0.0139\n",
      "Epoch 5/1000000\n",
      "182/182 [==============================] - 1s 3ms/step - loss: 2.4842e-04 - mean_absolute_error: 0.0109 - val_loss: 1.4337e-04 - val_mean_absolute_error: 0.0083\n",
      "Epoch 6/1000000\n",
      "182/182 [==============================] - 1s 3ms/step - loss: 1.5655e-04 - mean_absolute_error: 0.0087 - val_loss: 9.1013e-05 - val_mean_absolute_error: 0.0067\n",
      "Epoch 7/1000000\n",
      "182/182 [==============================] - 1s 3ms/step - loss: 1.0970e-04 - mean_absolute_error: 0.0073 - val_loss: 6.2553e-05 - val_mean_absolute_error: 0.0057\n",
      "Epoch 8/1000000\n",
      "182/182 [==============================] - 1s 3ms/step - loss: 7.7979e-05 - mean_absolute_error: 0.0062 - val_loss: 4.3366e-05 - val_mean_absolute_error: 0.0047\n",
      "Epoch 9/1000000\n",
      "182/182 [==============================] - 1s 3ms/step - loss: 5.5730e-05 - mean_absolute_error: 0.0052 - val_loss: 3.0459e-05 - val_mean_absolute_error: 0.0039\n",
      "Epoch 10/1000000\n",
      "182/182 [==============================] - 1s 3ms/step - loss: 4.0454e-05 - mean_absolute_error: 0.0044 - val_loss: 2.2107e-05 - val_mean_absolute_error: 0.0033\n",
      "Epoch 11/1000000\n",
      "182/182 [==============================] - 1s 3ms/step - loss: 3.0255e-05 - mean_absolute_error: 0.0038 - val_loss: 1.6546e-05 - val_mean_absolute_error: 0.0029\n",
      "Epoch 12/1000000\n",
      "182/182 [==============================] - 1s 3ms/step - loss: 2.3148e-05 - mean_absolute_error: 0.0034 - val_loss: 1.3069e-05 - val_mean_absolute_error: 0.0026\n",
      "Epoch 13/1000000\n",
      "182/182 [==============================] - 1s 3ms/step - loss: 1.8059e-05 - mean_absolute_error: 0.0030 - val_loss: 1.0324e-05 - val_mean_absolute_error: 0.0022\n",
      "Epoch 14/1000000\n",
      "182/182 [==============================] - 1s 3ms/step - loss: 1.4447e-05 - mean_absolute_error: 0.0026 - val_loss: 7.9949e-06 - val_mean_absolute_error: 0.0020\n",
      "Epoch 15/1000000\n",
      "182/182 [==============================] - 1s 3ms/step - loss: 1.1331e-05 - mean_absolute_error: 0.0023 - val_loss: 6.2976e-06 - val_mean_absolute_error: 0.0018\n",
      "Epoch 16/1000000\n",
      "182/182 [==============================] - 1s 3ms/step - loss: 8.9639e-06 - mean_absolute_error: 0.0020 - val_loss: 4.9205e-06 - val_mean_absolute_error: 0.0015\n",
      "Epoch 17/1000000\n",
      "182/182 [==============================] - 1s 3ms/step - loss: 7.0266e-06 - mean_absolute_error: 0.0018 - val_loss: 4.2742e-06 - val_mean_absolute_error: 0.0015\n",
      "Epoch 18/1000000\n",
      "182/182 [==============================] - 1s 3ms/step - loss: 5.4399e-06 - mean_absolute_error: 0.0015 - val_loss: 3.0224e-06 - val_mean_absolute_error: 0.0012\n",
      "Epoch 19/1000000\n",
      "182/182 [==============================] - 1s 4ms/step - loss: 4.2153e-06 - mean_absolute_error: 0.0013 - val_loss: 2.9350e-06 - val_mean_absolute_error: 0.0012\n",
      "Epoch 20/1000000\n",
      "182/182 [==============================] - 1s 3ms/step - loss: 3.1724e-06 - mean_absolute_error: 0.0011 - val_loss: 1.9312e-06 - val_mean_absolute_error: 0.0010\n",
      "Epoch 21/1000000\n",
      "182/182 [==============================] - 1s 3ms/step - loss: 2.4507e-06 - mean_absolute_error: 9.2700e-04 - val_loss: 1.2245e-06 - val_mean_absolute_error: 7.3684e-04\n",
      "Epoch 22/1000000\n",
      "182/182 [==============================] - 1s 3ms/step - loss: 1.8842e-06 - mean_absolute_error: 7.5579e-04 - val_loss: 8.1614e-07 - val_mean_absolute_error: 5.6540e-04\n",
      "Epoch 23/1000000\n",
      "182/182 [==============================] - 1s 3ms/step - loss: 1.5070e-06 - mean_absolute_error: 6.1617e-04 - val_loss: 7.4398e-07 - val_mean_absolute_error: 5.6078e-04\n",
      "Epoch 24/1000000\n",
      "182/182 [==============================] - 1s 3ms/step - loss: 1.2441e-06 - mean_absolute_error: 4.9135e-04 - val_loss: 4.5023e-07 - val_mean_absolute_error: 3.6754e-04\n",
      "Epoch 25/1000000\n",
      "182/182 [==============================] - 1s 3ms/step - loss: 1.0629e-06 - mean_absolute_error: 3.8594e-04 - val_loss: 4.6347e-07 - val_mean_absolute_error: 4.2091e-04\n",
      "Epoch 26/1000000\n",
      "182/182 [==============================] - 1s 3ms/step - loss: 9.7420e-07 - mean_absolute_error: 3.2143e-04 - val_loss: 4.8670e-07 - val_mean_absolute_error: 4.7046e-04\n",
      "Epoch 27/1000000\n",
      "182/182 [==============================] - 1s 3ms/step - loss: 8.9760e-07 - mean_absolute_error: 2.4890e-04 - val_loss: 8.7839e-07 - val_mean_absolute_error: 7.9119e-04\n",
      "52/52 [==============================] - 0s 2ms/step - loss: 8.7839e-07 - mean_absolute_error: 7.9119e-04\n"
     ]
    }
   ],
   "source": [
    "history = compile_and_fit(linear, single_step_window)\n",
    "\n",
    "val_performance['Linear'] = linear.evaluate(single_step_window.val)\n",
    "performance['Linear'] = linear.evaluate(single_step_window.test, verbose=0)"
   ]
  },
  {
   "cell_type": "code",
   "execution_count": 110,
   "id": "46add168",
   "metadata": {},
   "outputs": [
    {
     "name": "stdout",
     "output_type": "stream",
     "text": [
      "Input shape: (32, 7, 12)\n",
      "Output shape: (32, 7, 1)\n"
     ]
    }
   ],
   "source": [
    "print('Input shape:', wide_window.example[0].shape)\n",
    "print('Output shape:', baseline(wide_window.example[0]).shape)"
   ]
  },
  {
   "cell_type": "code",
   "execution_count": 111,
   "id": "9121fabe",
   "metadata": {},
   "outputs": [
    {
     "data": {
      "image/png": "[encoded data removed]",
      "text/plain": [
       "<Figure size 864x576 with 3 Axes>"
      ]
     },
     "metadata": {
      "needs_background": "light"
     },
     "output_type": "display_data"
    }
   ],
   "source": [
    "wide_window.plot(linear)"
   ]
  },
  {
   "cell_type": "code",
   "execution_count": 112,
   "id": "ff0e099e",
   "metadata": {},
   "outputs": [
    {
     "data": {
      "image/png": "[encoded data removed]",
      "text/plain": [
       "<Figure size 432x288 with 1 Axes>"
      ]
     },
     "metadata": {
      "needs_background": "light"
     },
     "output_type": "display_data"
    }
   ],
   "source": [
    "plt.bar(x = range(len(train_df.columns)),\n",
    "        height=linear.layers[0].kernel[:,0].numpy())\n",
    "axis = plt.gca()\n",
    "axis.set_xticks(range(len(train_df.columns)))\n",
    "_ = axis.set_xticklabels(train_df.columns, rotation=90)"
   ]
  },
  {
   "cell_type": "code",
   "execution_count": 113,
   "id": "241ef4f2",
   "metadata": {},
   "outputs": [],
   "source": [
    "models['linear'] = {'data':linear}"
   ]
  },
  {
   "cell_type": "markdown",
   "id": "7efedadd",
   "metadata": {},
   "source": [
    "### Dense"
   ]
  },
  {
   "cell_type": "code",
   "execution_count": 114,
   "id": "214d7e97",
   "metadata": {
    "scrolled": true
   },
   "outputs": [
    {
     "name": "stdout",
     "output_type": "stream",
     "text": [
      "Epoch 1/1000000\n",
      "182/182 [==============================] - 3s 11ms/step - loss: 0.0092 - mean_absolute_error: 0.0332 - val_loss: 1.5982e-06 - val_mean_absolute_error: 8.4061e-04\n",
      "Epoch 2/1000000\n",
      "182/182 [==============================] - 2s 10ms/step - loss: 6.1684e-06 - mean_absolute_error: 0.0014 - val_loss: 7.4702e-06 - val_mean_absolute_error: 0.0025\n",
      "Epoch 3/1000000\n",
      "182/182 [==============================] - 2s 10ms/step - loss: 3.5903e-06 - mean_absolute_error: 0.0011 - val_loss: 5.9775e-07 - val_mean_absolute_error: 4.9006e-04\n",
      "Epoch 4/1000000\n",
      "182/182 [==============================] - 2s 9ms/step - loss: 3.5303e-06 - mean_absolute_error: 0.0011 - val_loss: 4.8368e-06 - val_mean_absolute_error: 0.0021\n",
      "Epoch 5/1000000\n",
      "182/182 [==============================] - 2s 9ms/step - loss: 4.2645e-06 - mean_absolute_error: 0.0013 - val_loss: 1.2021e-06 - val_mean_absolute_error: 8.4048e-04\n",
      "Epoch 6/1000000\n",
      "182/182 [==============================] - 2s 10ms/step - loss: 7.5322e-06 - mean_absolute_error: 0.0018 - val_loss: 6.3827e-07 - val_mean_absolute_error: 5.2581e-04\n",
      "52/52 [==============================] - 0s 5ms/step - loss: 6.3818e-07 - mean_absolute_error: 5.2565e-04\n"
     ]
    }
   ],
   "source": [
    "dense = tf.keras.Sequential([\n",
    "    tf.keras.layers.Dense(units=3072, activation='relu'),\n",
    "    tf.keras.layers.Dense(units=1536, activation='relu'),\n",
    "    tf.keras.layers.Dense(units=768, activation='relu'),\n",
    "    tf.keras.layers.Dense(units=348, activation='relu'),\n",
    "    tf.keras.layers.Dense(units=192, activation='relu'),\n",
    "    tf.keras.layers.Dense(units=96, activation='relu'),\n",
    "    tf.keras.layers.Dense(units=48, activation='relu'),\n",
    "    tf.keras.layers.Dense(units=24, activation='relu'),\n",
    "    tf.keras.layers.Dense(units=12, activation='relu'),\n",
    "    tf.keras.layers.Dense(units=6, activation='relu'),\n",
    "    tf.keras.layers.Dense(units=3, activation='relu'),\n",
    "    tf.keras.layers.Dense(units=1)\n",
    "])\n",
    "\n",
    "history = compile_and_fit(dense, single_step_window)\n",
    "\n",
    "val_performance['Dense'] = dense.evaluate(single_step_window.val)\n",
    "performance['Dense'] = dense.evaluate(single_step_window.test, verbose=0)"
   ]
  },
  {
   "cell_type": "code",
   "execution_count": 115,
   "id": "d17b12d0",
   "metadata": {},
   "outputs": [],
   "source": [
    "models['dense'] = {'data':dense}"
   ]
  },
  {
   "cell_type": "markdown",
   "id": "cf2d3ebb",
   "metadata": {},
   "source": [
    "### Multi-Step Dense"
   ]
  },
  {
   "cell_type": "code",
   "execution_count": 116,
   "id": "6943ed8e",
   "metadata": {},
   "outputs": [
    {
     "data": {
      "text/plain": [
       "Total window size: 8\n",
       "Input indices: [0 1 2 3 4 5 6]\n",
       "Label indices: [7]\n",
       "Label column name(s): ['Close']"
      ]
     },
     "execution_count": 116,
     "metadata": {},
     "output_type": "execute_result"
    }
   ],
   "source": [
    "CONV_WIDTH = 7\n",
    "conv_window = WindowGenerator(\n",
    "    input_width=CONV_WIDTH,\n",
    "    label_width=1,\n",
    "    shift=1,\n",
    "    label_columns=['Close'])\n",
    "\n",
    "conv_window"
   ]
  },
  {
   "cell_type": "code",
   "execution_count": 117,
   "id": "64e95813",
   "metadata": {},
   "outputs": [
    {
     "data": {
      "text/plain": [
       "Text(0.5, 1.0, 'Given 3 hours of inputs, predict 1 hour into the future.')"
      ]
     },
     "execution_count": 117,
     "metadata": {},
     "output_type": "execute_result"
    },
    {
     "data": {
      "image/png": "[encoded data removed]",
      "text/plain": [
       "<Figure size 864x576 with 3 Axes>"
      ]
     },
     "metadata": {
      "needs_background": "light"
     },
     "output_type": "display_data"
    }
   ],
   "source": [
    "conv_window.plot()\n",
    "plt.title(\"Given 3 hours of inputs, predict 1 hour into the future.\")"
   ]
  },
  {
   "cell_type": "code",
   "execution_count": 118,
   "id": "e3d8c8e7",
   "metadata": {},
   "outputs": [],
   "source": [
    "multi_step_dense = tf.keras.Sequential([\n",
    "    # Shape: (time, features) => (time*features)\n",
    "    tf.keras.layers.Flatten(),\n",
    "    tf.keras.layers.Dense(units=3072, activation='relu'),\n",
    "    tf.keras.layers.Dense(units=1536, activation='relu'),\n",
    "    tf.keras.layers.Dense(units=768, activation='relu'),\n",
    "    tf.keras.layers.Dense(units=348, activation='relu'),\n",
    "    tf.keras.layers.Dense(units=192, activation='relu'),\n",
    "    tf.keras.layers.Dense(units=96, activation='relu'),\n",
    "    tf.keras.layers.Dense(units=48, activation='relu'),\n",
    "    tf.keras.layers.Dense(units=24, activation='relu'),\n",
    "    tf.keras.layers.Dense(units=12, activation='relu'),\n",
    "    tf.keras.layers.Dense(units=6, activation='relu'),\n",
    "    tf.keras.layers.Dense(units=3, activation='relu'),\n",
    "    tf.keras.layers.Dense(units=1),\n",
    "    # Add back the time dimension.\n",
    "    # Shape: (outputs) => (1, outputs)\n",
    "    tf.keras.layers.Reshape([1, -1]),\n",
    "])"
   ]
  },
  {
   "cell_type": "code",
   "execution_count": 119,
   "id": "d2a25462",
   "metadata": {},
   "outputs": [
    {
     "name": "stdout",
     "output_type": "stream",
     "text": [
      "Input shape: (32, 7, 12)\n",
      "Output shape: (32, 1, 1)\n"
     ]
    }
   ],
   "source": [
    "print('Input shape:', conv_window.example[0].shape)\n",
    "print('Output shape:', multi_step_dense(conv_window.example[0]).shape)"
   ]
  },
  {
   "cell_type": "code",
   "execution_count": 120,
   "id": "3bfe5bd8",
   "metadata": {
    "scrolled": true
   },
   "outputs": [
    {
     "name": "stdout",
     "output_type": "stream",
     "text": [
      "Epoch 1/1000000\n",
      "182/182 [==============================] - 2s 6ms/step - loss: 0.0095 - mean_absolute_error: 0.0299 - val_loss: 9.8586e-05 - val_mean_absolute_error: 0.0095\n",
      "Epoch 2/1000000\n",
      "182/182 [==============================] - 1s 5ms/step - loss: 9.7100e-05 - mean_absolute_error: 0.0071 - val_loss: 2.0837e-05 - val_mean_absolute_error: 0.0039\n",
      "Epoch 3/1000000\n",
      "182/182 [==============================] - 1s 5ms/step - loss: 6.9207e-05 - mean_absolute_error: 0.0063 - val_loss: 1.9764e-04 - val_mean_absolute_error: 0.0138\n",
      "Epoch 4/1000000\n",
      "182/182 [==============================] - 1s 5ms/step - loss: 9.5357e-05 - mean_absolute_error: 0.0068 - val_loss: 7.1385e-06 - val_mean_absolute_error: 0.0022\n",
      "Epoch 5/1000000\n",
      "182/182 [==============================] - 1s 5ms/step - loss: 6.3977e-05 - mean_absolute_error: 0.0056 - val_loss: 0.0011 - val_mean_absolute_error: 0.0335\n",
      "Epoch 6/1000000\n",
      "182/182 [==============================] - 1s 5ms/step - loss: 6.8176e-04 - mean_absolute_error: 0.0158 - val_loss: 2.3197e-04 - val_mean_absolute_error: 0.0150\n",
      "Epoch 7/1000000\n",
      "182/182 [==============================] - 1s 5ms/step - loss: 3.3552e-05 - mean_absolute_error: 0.0040 - val_loss: 2.0212e-06 - val_mean_absolute_error: 8.8502e-04\n",
      "Epoch 8/1000000\n",
      "182/182 [==============================] - 1s 5ms/step - loss: 2.9650e-05 - mean_absolute_error: 0.0039 - val_loss: 2.2454e-04 - val_mean_absolute_error: 0.0149\n",
      "Epoch 9/1000000\n",
      "182/182 [==============================] - 1s 5ms/step - loss: 3.4565e-05 - mean_absolute_error: 0.0044 - val_loss: 4.4973e-04 - val_mean_absolute_error: 0.0211\n",
      "Epoch 10/1000000\n",
      "182/182 [==============================] - 1s 5ms/step - loss: 7.1473e-05 - mean_absolute_error: 0.0052 - val_loss: 0.0132 - val_mean_absolute_error: 0.1148\n",
      "52/52 [==============================] - 0s 2ms/step - loss: 0.0132 - mean_absolute_error: 0.1148\n"
     ]
    }
   ],
   "source": [
    "history = compile_and_fit(multi_step_dense, conv_window)\n",
    "\n",
    "# IPython.display.clear_output()\n",
    "val_performance['Multi step dense'] = multi_step_dense.evaluate(conv_window.val)\n",
    "performance['Multi step dense'] = multi_step_dense.evaluate(conv_window.test, verbose=0)"
   ]
  },
  {
   "cell_type": "code",
   "execution_count": 121,
   "id": "a7ae4848",
   "metadata": {},
   "outputs": [
    {
     "data": {
      "image/png": "[encoded data removed]",
      "text/plain": [
       "<Figure size 864x576 with 3 Axes>"
      ]
     },
     "metadata": {
      "needs_background": "light"
     },
     "output_type": "display_data"
    }
   ],
   "source": [
    "conv_window.plot(multi_step_dense)"
   ]
  },
  {
   "cell_type": "code",
   "execution_count": 122,
   "id": "1326b63c",
   "metadata": {},
   "outputs": [
    {
     "name": "stdout",
     "output_type": "stream",
     "text": [
      "Input shape: (32, 7, 12)\n",
      "Output shape: (32, 1, 1)\n"
     ]
    }
   ],
   "source": [
    "print('Input shape:', wide_window.example[0].shape)\n",
    "try:\n",
    "    print('Output shape:', multi_step_dense(wide_window.example[0]).shape)\n",
    "except Exception as e:\n",
    "    print(f'\\n{type(e).__name__}:{e}')"
   ]
  },
  {
   "cell_type": "code",
   "execution_count": 123,
   "id": "e143d861",
   "metadata": {},
   "outputs": [],
   "source": [
    "models['multi_step_dense'] = {'data':multi_step_dense}"
   ]
  },
  {
   "cell_type": "markdown",
   "id": "90765061",
   "metadata": {},
   "source": [
    "### Convolution Neural Network"
   ]
  },
  {
   "cell_type": "code",
   "execution_count": 124,
   "id": "02b9e60e",
   "metadata": {},
   "outputs": [],
   "source": [
    "# conv_model = tf.keras.Sequential([\n",
    "#     tf.keras.layers.Conv1D(filters=32,\n",
    "#                            kernel_size=(CONV_WIDTH,),\n",
    "#                            activation='relu'),\n",
    "#     tf.keras.layers.Dense(units=32, activation='relu'),\n",
    "#     tf.keras.layers.Dense(units=1),\n",
    "# ])"
   ]
  },
  {
   "cell_type": "code",
   "execution_count": 125,
   "id": "3091fa78",
   "metadata": {},
   "outputs": [],
   "source": [
    "# print(\"Conv model on `conv_window`\")\n",
    "# print('Input shape:', conv_window.example[0].shape)\n",
    "# print('Output shape:', conv_model(conv_window.example[0]).shape)"
   ]
  },
  {
   "cell_type": "code",
   "execution_count": 126,
   "id": "44cdc883",
   "metadata": {},
   "outputs": [],
   "source": [
    "# history = compile_and_fit(conv_model, conv_window)\n",
    "\n",
    "# # IPython.display.clear_output()\n",
    "# val_performance['Conv'] = conv_model.evaluate(conv_window.val)\n",
    "# performance['Conv'] = conv_model.evaluate(conv_window.test, verbose=0)"
   ]
  },
  {
   "cell_type": "code",
   "execution_count": 127,
   "id": "1e860576",
   "metadata": {},
   "outputs": [],
   "source": [
    "# print(\"Wide window\")\n",
    "# print('Input shape:', wide_window.example[0].shape)\n",
    "# print('Labels shape:', wide_window.example[1].shape)\n",
    "# print('Output shape:', conv_model(wide_window.example[0]).shape)"
   ]
  },
  {
   "cell_type": "code",
   "execution_count": 128,
   "id": "58e2aaa1",
   "metadata": {},
   "outputs": [],
   "source": [
    "# LABEL_WIDTH = 24\n",
    "# INPUT_WIDTH = LABEL_WIDTH + (CONV_WIDTH - 1)\n",
    "# wide_conv_window = WindowGenerator(\n",
    "#     input_width=INPUT_WIDTH,\n",
    "#     label_width=LABEL_WIDTH,\n",
    "#     shift=1,\n",
    "#     label_columns=['Close'])\n",
    "\n",
    "# wide_conv_window"
   ]
  },
  {
   "cell_type": "code",
   "execution_count": 129,
   "id": "8e5588dd",
   "metadata": {},
   "outputs": [],
   "source": [
    "# print(\"Wide conv window\")\n",
    "# print('Input shape:', wide_conv_window.example[0].shape)\n",
    "# print('Labels shape:', wide_conv_window.example[1].shape)\n",
    "# print('Output shape:', conv_model(wide_conv_window.example[0]).shape)"
   ]
  },
  {
   "cell_type": "code",
   "execution_count": 130,
   "id": "a5d729c6",
   "metadata": {},
   "outputs": [],
   "source": [
    "# wide_conv_window.plot(conv_model)"
   ]
  },
  {
   "cell_type": "code",
   "execution_count": 131,
   "id": "3c7e9d35",
   "metadata": {},
   "outputs": [],
   "source": [
    "# models['conv_model'] = {'data':conv_model}"
   ]
  },
  {
   "cell_type": "markdown",
   "id": "36984c66",
   "metadata": {},
   "source": [
    "### Recurrent Neural Network"
   ]
  },
  {
   "cell_type": "code",
   "execution_count": 132,
   "id": "118fa3f6",
   "metadata": {},
   "outputs": [],
   "source": [
    "lstm_model = tf.keras.models.Sequential([\n",
    "    # Shape [batch, time, features] => [batch, time, lstm_units]\n",
    "    tf.keras.layers.LSTM(3072, return_sequences=True),\n",
    "    # Shape => [batch, time, features]\n",
    "    tf.keras.layers.Dense(units=1)\n",
    "])"
   ]
  },
  {
   "cell_type": "code",
   "execution_count": 133,
   "id": "31264f1f",
   "metadata": {},
   "outputs": [
    {
     "name": "stdout",
     "output_type": "stream",
     "text": [
      "Input shape: (32, 7, 12)\n",
      "Output shape: (32, 7, 1)\n"
     ]
    }
   ],
   "source": [
    "print('Input shape:', wide_window.example[0].shape)\n",
    "print('Output shape:', lstm_model(wide_window.example[0]).shape)"
   ]
  },
  {
   "cell_type": "code",
   "execution_count": 134,
   "id": "63a11131",
   "metadata": {
    "scrolled": true
   },
   "outputs": [
    {
     "name": "stdout",
     "output_type": "stream",
     "text": [
      "Epoch 1/1000000\n",
      "182/182 [==============================] - 5s 17ms/step - loss: 0.0141 - mean_absolute_error: 0.0529 - val_loss: 3.8403e-04 - val_mean_absolute_error: 0.0113\n",
      "Epoch 2/1000000\n",
      "182/182 [==============================] - 3s 15ms/step - loss: 2.1396e-04 - mean_absolute_error: 0.0067 - val_loss: 9.9824e-05 - val_mean_absolute_error: 0.0058\n",
      "Epoch 3/1000000\n",
      "182/182 [==============================] - 3s 17ms/step - loss: 7.0481e-05 - mean_absolute_error: 0.0040 - val_loss: 2.2136e-05 - val_mean_absolute_error: 0.0031\n",
      "Epoch 4/1000000\n",
      "182/182 [==============================] - 3s 15ms/step - loss: 2.3310e-05 - mean_absolute_error: 0.0025 - val_loss: 8.2197e-06 - val_mean_absolute_error: 0.0020\n",
      "Epoch 5/1000000\n",
      "182/182 [==============================] - 3s 15ms/step - loss: 9.3841e-06 - mean_absolute_error: 0.0017 - val_loss: 3.9126e-06 - val_mean_absolute_error: 0.0014\n",
      "Epoch 6/1000000\n",
      "182/182 [==============================] - 3s 15ms/step - loss: 5.4422e-06 - mean_absolute_error: 0.0014 - val_loss: 3.8042e-06 - val_mean_absolute_error: 0.0014\n",
      "Epoch 7/1000000\n",
      "182/182 [==============================] - 3s 15ms/step - loss: 4.0438e-06 - mean_absolute_error: 0.0012 - val_loss: 3.3409e-06 - val_mean_absolute_error: 0.0013\n",
      "Epoch 8/1000000\n",
      "182/182 [==============================] - 3s 16ms/step - loss: 3.3707e-06 - mean_absolute_error: 0.0011 - val_loss: 2.5725e-06 - val_mean_absolute_error: 0.0011\n",
      "Epoch 9/1000000\n",
      "182/182 [==============================] - 3s 15ms/step - loss: 2.9080e-06 - mean_absolute_error: 0.0010 - val_loss: 3.2835e-06 - val_mean_absolute_error: 0.0013\n",
      "Epoch 10/1000000\n",
      "182/182 [==============================] - 3s 16ms/step - loss: 2.6359e-06 - mean_absolute_error: 9.7973e-04 - val_loss: 2.1620e-06 - val_mean_absolute_error: 9.8812e-04\n",
      "Epoch 11/1000000\n",
      "182/182 [==============================] - 3s 16ms/step - loss: 4.0208e-06 - mean_absolute_error: 0.0013 - val_loss: 4.5974e-06 - val_mean_absolute_error: 0.0019\n",
      "Epoch 12/1000000\n",
      "182/182 [==============================] - 3s 16ms/step - loss: 3.6081e-06 - mean_absolute_error: 0.0012 - val_loss: 1.7681e-06 - val_mean_absolute_error: 8.4529e-04\n",
      "Epoch 13/1000000\n",
      "182/182 [==============================] - 3s 16ms/step - loss: 6.5402e-06 - mean_absolute_error: 0.0017 - val_loss: 2.8326e-06 - val_mean_absolute_error: 0.0015\n",
      "Epoch 14/1000000\n",
      "182/182 [==============================] - 3s 16ms/step - loss: 5.1608e-06 - mean_absolute_error: 0.0013 - val_loss: 3.9162e-04 - val_mean_absolute_error: 0.0179\n",
      "Epoch 15/1000000\n",
      "182/182 [==============================] - 3s 16ms/step - loss: 1.5085e-05 - mean_absolute_error: 0.0024 - val_loss: 2.5067e-06 - val_mean_absolute_error: 0.0014\n",
      "52/52 [==============================] - 0s 9ms/step - loss: 2.5067e-06 - mean_absolute_error: 0.0014\n"
     ]
    }
   ],
   "source": [
    "history = compile_and_fit(lstm_model, wide_window)\n",
    "\n",
    "# IPython.display.clear_output()\n",
    "val_performance['LSTM'] = lstm_model.evaluate(wide_window.val)\n",
    "performance['LSTM'] = lstm_model.evaluate(wide_window.test, verbose=0)"
   ]
  },
  {
   "cell_type": "code",
   "execution_count": 135,
   "id": "7544d909",
   "metadata": {},
   "outputs": [
    {
     "data": {
      "image/png": "[encoded data removed]",
      "text/plain": [
       "<Figure size 864x576 with 3 Axes>"
      ]
     },
     "metadata": {
      "needs_background": "light"
     },
     "output_type": "display_data"
    }
   ],
   "source": [
    "wide_window.plot(lstm_model)"
   ]
  },
  {
   "cell_type": "code",
   "execution_count": 136,
   "id": "4f40748b",
   "metadata": {},
   "outputs": [],
   "source": [
    "models['lstm_model'] = {'data':lstm_model}"
   ]
  },
  {
   "cell_type": "markdown",
   "id": "c6c4584e",
   "metadata": {},
   "source": [
    "### Performance"
   ]
  },
  {
   "cell_type": "code",
   "execution_count": 137,
   "id": "939cc26d",
   "metadata": {},
   "outputs": [
    {
     "data": {
      "image/png": "[encoded data removed]",
      "text/plain": [
       "<Figure size 432x288 with 1 Axes>"
      ]
     },
     "metadata": {
      "needs_background": "light"
     },
     "output_type": "display_data"
    }
   ],
   "source": [
    "x = np.arange(len(performance))\n",
    "width = 0.3\n",
    "metric_name = 'mean_absolute_error'\n",
    "metric_index = lstm_model.metrics_names.index('mean_absolute_error')\n",
    "val_mae = [v[metric_index] for v in val_performance.values()]\n",
    "test_mae = [v[metric_index] for v in performance.values()]\n",
    "\n",
    "plt.ylabel('mean_absolute_error [Close, normalized]')\n",
    "plt.bar(x - 0.17, val_mae, width, label='Validation')\n",
    "plt.bar(x + 0.17, test_mae, width, label='Test')\n",
    "plt.xticks(ticks=x, labels=performance.keys(),\n",
    "           rotation=45)\n",
    "_ = plt.legend()"
   ]
  },
  {
   "cell_type": "code",
   "execution_count": 138,
   "id": "52176e94",
   "metadata": {},
   "outputs": [
    {
     "name": "stdout",
     "output_type": "stream",
     "text": [
      "Baseline    : 0.0022\n",
      "Linear      : 0.0008\n",
      "Dense       : 0.0008\n",
      "Multi step dense: 0.1254\n",
      "LSTM        : 0.0017\n"
     ]
    }
   ],
   "source": [
    "for name, value in performance.items():\n",
    "    print(f'{name:12s}: {value[1]:0.4f}')"
   ]
  },
  {
   "cell_type": "markdown",
   "id": "e0ed300f",
   "metadata": {},
   "source": [
    "### Save Model and Parameters for UnNormalization"
   ]
  },
  {
   "cell_type": "code",
   "execution_count": 139,
   "id": "004c06ea",
   "metadata": {},
   "outputs": [
    {
     "name": "stderr",
     "output_type": "stream",
     "text": [
      "WARNING:absl:Found untraced functions such as lstm_cell_2_layer_call_fn, lstm_cell_2_layer_call_and_return_conditional_losses while saving (showing 2 of 2). These functions will not be directly callable after loading.\n",
      "WARNING:absl:<keras.layers.recurrent.LSTMCell object at 0x0000021D5E649490> has the same name 'LSTMCell' as a built-in Keras object. Consider renaming <class 'keras.layers.recurrent.LSTMCell'> to avoid naming conflicts when loading with `tf.keras.models.load_model`. If renaming is not possible, pass the object in the `custom_objects` parameter of the load function.\n"
     ]
    }
   ],
   "source": [
    "for model in models:\n",
    "    models[model]['data'].save(f'''../models/{model}''')"
   ]
  },
  {
   "cell_type": "code",
   "execution_count": 143,
   "id": "f31cdb26",
   "metadata": {},
   "outputs": [],
   "source": [
    "import json\n",
    "\n",
    "unNormalizeParams2 = unNormalizeParams.copy()\n",
    "\n",
    "# unNormalizeParams2['DateTime']['min'] = unNormalizeParams2['DateTime']['min'].strftime(\"%Y-%m-%d %H:%M:%S\")\n",
    "# unNormalizeParams2['DateTime']['max'] = unNormalizeParams2['DateTime']['max'].strftime(\"%Y-%m-%d %H:%M:%S\")\n",
    "\n",
    "json_object = json.dumps(unNormalizeParams2, indent = 4)\n",
    "\n",
    "with open('../models/unnormalized_parameters.json', 'w') as outfile:\n",
    "    outfile.write(json_object)"
   ]
  },
  {
   "cell_type": "code",
   "execution_count": null,
   "id": "58a54cf3",
   "metadata": {},
   "outputs": [],
   "source": []
  }
 ],
 "metadata": {
  "kernelspec": {
   "display_name": "Python 3 (ipykernel)",
   "language": "python",
   "name": "python3"
  },
  "language_info": {
   "codemirror_mode": {
    "name": "ipython",
    "version": 3
   },
   "file_extension": ".py",
   "mimetype": "text/x-python",
   "name": "python",
   "nbconvert_exporter": "python",
   "pygments_lexer": "ipython3",
   "version": "3.9.7"
  }
 },
 "nbformat": 4,
 "nbformat_minor": 5
}
