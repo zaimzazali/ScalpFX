{
 "cells": [
  {
   "cell_type": "markdown",
   "id": "ccd0d327",
   "metadata": {},
   "source": [
    "### Getting the Mid values based on Bid and Ask values"
   ]
  },
  {
   "cell_type": "code",
   "execution_count": 1,
   "id": "b4971200",
   "metadata": {},
   "outputs": [],
   "source": [
    "if 'param' in locals():\n",
    "    param\n",
    "else:\n",
    "#   param = <YOUR DATAFRAME>\n",
    "    pass"
   ]
  },
  {
   "cell_type": "code",
   "execution_count": 2,
   "id": "0742469a",
   "metadata": {},
   "outputs": [],
   "source": [
    "if 'mode' in locals():\n",
    "    mode\n",
    "else:\n",
    "#   mode = <YOUR MODE>\n",
    "    pass"
   ]
  },
  {
   "cell_type": "code",
   "execution_count": 3,
   "id": "7a2fe1a8",
   "metadata": {},
   "outputs": [
    {
     "ename": "NameError",
     "evalue": "name 'param' is not defined",
     "output_type": "error",
     "traceback": [
      "\u001b[1;31m---------------------------------------------------------------------------\u001b[0m",
      "\u001b[1;31mNameError\u001b[0m                                 Traceback (most recent call last)",
      "\u001b[1;32m~\\AppData\\Local\\Temp/ipykernel_13612/883231699.py\u001b[0m in \u001b[0;36m<module>\u001b[1;34m\u001b[0m\n\u001b[1;32m----> 1\u001b[1;33m \u001b[0mdf_history2\u001b[0m \u001b[1;33m=\u001b[0m \u001b[0mparam\u001b[0m\u001b[1;33m.\u001b[0m\u001b[0mcopy\u001b[0m\u001b[1;33m(\u001b[0m\u001b[1;33m)\u001b[0m\u001b[1;33m\u001b[0m\u001b[1;33m\u001b[0m\u001b[0m\n\u001b[0m\u001b[0;32m      2\u001b[0m \u001b[0mdf_history2\u001b[0m\u001b[1;33m\u001b[0m\u001b[1;33m\u001b[0m\u001b[0m\n",
      "\u001b[1;31mNameError\u001b[0m: name 'param' is not defined"
     ]
    }
   ],
   "source": [
    "df_history2 = param.copy()\n",
    "df_history2"
   ]
  },
  {
   "cell_type": "code",
   "execution_count": null,
   "id": "97eab487",
   "metadata": {},
   "outputs": [],
   "source": [
    "# Remove NaN Columns\n",
    "df_history2 = df_history2.drop(df_history2.columns[[9,10,11,12]], axis=1)\n",
    "df_history2"
   ]
  },
  {
   "cell_type": "code",
   "execution_count": null,
   "id": "3accdac2",
   "metadata": {},
   "outputs": [],
   "source": [
    "pip install round2"
   ]
  },
  {
   "cell_type": "code",
   "execution_count": null,
   "id": "fc0c01c1",
   "metadata": {},
   "outputs": [],
   "source": [
    "from round2 import round2\n",
    "\n",
    "def averageTwoFloats(x,y):\n",
    "    return round2((x+y)/2, 5)"
   ]
  },
  {
   "cell_type": "code",
   "execution_count": null,
   "id": "9832606a",
   "metadata": {},
   "outputs": [],
   "source": [
    "df_history2[('mid', 'Open')]  = df_history2.apply(lambda x: averageTwoFloats(x[('bid', 'Open')],  x[('ask', 'Open')]), axis=1)\n",
    "df_history2[('mid', 'High')]  = df_history2.apply(lambda x: averageTwoFloats(x[('bid', 'High')],  x[('ask', 'High')]), axis=1)\n",
    "df_history2[('mid', 'Low')]   = df_history2.apply(lambda x: averageTwoFloats(x[('bid', 'Low')],   x[('ask', 'Low')]), axis=1)\n",
    "df_history2[('mid', 'Close')] = df_history2.apply(lambda x: averageTwoFloats(x[('bid', 'Close')], x[('ask', 'Close')]), axis=1)\n",
    "\n",
    "df_history2"
   ]
  },
  {
   "cell_type": "code",
   "execution_count": null,
   "id": "5b11ccba",
   "metadata": {},
   "outputs": [],
   "source": [
    "df_history2 = df_history2.drop(df_history2.head(1).index)\n",
    "df_history2"
   ]
  },
  {
   "cell_type": "markdown",
   "id": "94b20f1d",
   "metadata": {},
   "source": [
    "### Filter out those meaningful Columns"
   ]
  },
  {
   "cell_type": "code",
   "execution_count": null,
   "id": "f65bb541",
   "metadata": {},
   "outputs": [],
   "source": [
    "df_trans = df_history2[[('DateTime', ''), ('mid', 'Open'), ('mid', 'High'), ('mid', 'Low'), ('mid', 'Close'), ('last', 'Volume')]].copy()\n",
    "df_trans"
   ]
  },
  {
   "cell_type": "code",
   "execution_count": null,
   "id": "def8cde4",
   "metadata": {},
   "outputs": [],
   "source": [
    "df_trans.columns = df_trans.columns.droplevel()\n",
    "df_trans.columns = ['DateTime', 'Open', 'High', 'Low', 'Close', 'Volume']\n",
    "df_trans"
   ]
  },
  {
   "cell_type": "markdown",
   "id": "827245fc",
   "metadata": {},
   "source": [
    "### Feature Engineering"
   ]
  },
  {
   "cell_type": "code",
   "execution_count": null,
   "id": "d0c92021",
   "metadata": {},
   "outputs": [],
   "source": [
    "df_trans3 = df_trans.copy()"
   ]
  },
  {
   "cell_type": "code",
   "execution_count": null,
   "id": "f24e648d",
   "metadata": {},
   "outputs": [],
   "source": [
    "def diffTwoFloats(x,y):\n",
    "    return round2(x-y, 5)"
   ]
  },
  {
   "cell_type": "code",
   "execution_count": null,
   "id": "ddc029eb",
   "metadata": {},
   "outputs": [],
   "source": [
    "def signIndicator(x):\n",
    "    if x > 0:\n",
    "        return -1\n",
    "    elif x < 0:\n",
    "        return 1\n",
    "    else:\n",
    "        return 0"
   ]
  },
  {
   "cell_type": "code",
   "execution_count": null,
   "id": "3701ed7d",
   "metadata": {},
   "outputs": [],
   "source": [
    "df_trans3['O-H'] = df_trans3.apply(lambda x: abs(diffTwoFloats(x['Open'], x['High'])), axis=1)\n",
    "df_trans3['O-L'] = df_trans3.apply(lambda x: diffTwoFloats(x['Open'], x['Low']), axis=1)\n",
    "\n",
    "df_trans3['C-H'] = df_trans3.apply(lambda x: abs(diffTwoFloats(x['Close'], x['High'])), axis=1)\n",
    "df_trans3['C-L'] = df_trans3.apply(lambda x: diffTwoFloats(x['Close'], x['Low']), axis=1)\n",
    "\n",
    "df_trans3['H-L'] = df_trans3.apply(lambda x: diffTwoFloats(x['High'], x['Low']), axis=1)\n",
    "\n",
    "df_trans3['O-C-Value'] = df_trans3.apply(lambda x: abs(diffTwoFloats(x['Open'], x['Close'])), axis=1)\n",
    "df_trans3['O-C-Sign'] = df_trans3.apply(lambda x: signIndicator(x['Open'] - x['Close']), axis=1)\n",
    "\n",
    "df_trans3"
   ]
  },
  {
   "cell_type": "markdown",
   "id": "9152d37e",
   "metadata": {},
   "source": [
    "### Tecnical Analysis"
   ]
  },
  {
   "cell_type": "code",
   "execution_count": 4,
   "id": "ebd46073",
   "metadata": {},
   "outputs": [],
   "source": [
    "import ta"
   ]
  },
  {
   "cell_type": "code",
   "execution_count": null,
   "id": "f2d2ec7a",
   "metadata": {},
   "outputs": [],
   "source": []
  },
  {
   "cell_type": "code",
   "execution_count": null,
   "id": "c61b470f",
   "metadata": {},
   "outputs": [],
   "source": []
  },
  {
   "cell_type": "code",
   "execution_count": null,
   "id": "57733fc2",
   "metadata": {},
   "outputs": [],
   "source": [
    "df_trans3.describe()"
   ]
  },
  {
   "cell_type": "markdown",
   "id": "a4fb3eb7",
   "metadata": {},
   "source": [
    "### Normalization"
   ]
  },
  {
   "cell_type": "code",
   "execution_count": null,
   "id": "94f2ca92",
   "metadata": {},
   "outputs": [],
   "source": [
    "df_min_max_scaled = pd.DataFrame()"
   ]
  },
  {
   "cell_type": "code",
   "execution_count": null,
   "id": "402349f3",
   "metadata": {},
   "outputs": [],
   "source": [
    "# Doing the Min-Max Normalization\n",
    "# normX = (X - minX) / (maxX - minX)\n",
    "\n",
    "unNormalizeParams = {}\n",
    "\n",
    "if mode == 'trainer':\n",
    "    for column in df_trans3.columns:\n",
    "        df_min_max_scaled[column] = (df_trans3[column] - df_trans3[column].min()) / (df_trans3[column].max() - df_trans3[column].min())\n",
    "        unNormalizeParams[column] = {'min':df_trans3[column].min(), 'max':df_trans3[column].max()}\n",
    "elif mode == 'predictor':\n",
    "    import json\n",
    "    f = open('../models/unnormalized_parameters.json')\n",
    "    data = json.load(f)\n",
    "    f.close()\n",
    "    for column in df_trans3.columns:\n",
    "        if column == 'DateTime':\n",
    "            df_min_max_scaled[column] = (df_trans3[column] - datetime.strptime(data[column]['min'], \"%Y-%m-%d %H:%M:%S\")) / (datetime.strptime(data[column]['max'], \"%Y-%m-%d %H:%M:%S\") - datetime.strptime(data[column]['min'], \"%Y-%m-%d %H:%M:%S\"))\n",
    "        else:\n",
    "            df_min_max_scaled[column] = (df_trans3[column] - data[column]['min']) / (data[column]['max'] - data[column]['min'])\n",
    "else:\n",
    "    pass"
   ]
  },
  {
   "cell_type": "code",
   "execution_count": null,
   "id": "bf289db0",
   "metadata": {},
   "outputs": [],
   "source": [
    "# To unNormalize the Min-Max Normalization\n",
    "# X = normX * (maxX - minX) + minX"
   ]
  },
  {
   "cell_type": "code",
   "execution_count": null,
   "id": "94a49fab",
   "metadata": {},
   "outputs": [],
   "source": [
    "unNormalizeParams"
   ]
  },
  {
   "cell_type": "code",
   "execution_count": null,
   "id": "5e22627e",
   "metadata": {},
   "outputs": [],
   "source": [
    "df_min_max_scaled"
   ]
  },
  {
   "cell_type": "code",
   "execution_count": null,
   "id": "fe1cee6b",
   "metadata": {},
   "outputs": [],
   "source": [
    "df_min_max_scaled.describe()"
   ]
  },
  {
   "cell_type": "code",
   "execution_count": null,
   "id": "e34745d7",
   "metadata": {},
   "outputs": [],
   "source": [
    "df_min_max_scaled = df_min_max_scaled.drop(df_min_max_scaled.columns[[0]], axis=1)\n",
    "df_min_max_scaled"
   ]
  }
 ],
 "metadata": {
  "kernelspec": {
   "display_name": "Python 3 (ipykernel)",
   "language": "python",
   "name": "python3"
  },
  "language_info": {
   "codemirror_mode": {
    "name": "ipython",
    "version": 3
   },
   "file_extension": ".py",
   "mimetype": "text/x-python",
   "name": "python",
   "nbconvert_exporter": "python",
   "pygments_lexer": "ipython3",
   "version": "3.9.7"
  }
 },
 "nbformat": 4,
 "nbformat_minor": 5
}
